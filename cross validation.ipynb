{
 "cells": [
  {
   "cell_type": "code",
   "execution_count": 69,
   "metadata": {
    "collapsed": false
   },
   "outputs": [],
   "source": [
    "import numpy as np\n",
    "\n",
    "statistics = [[1.0, 2.0, 3.0], [1.0,1.0, 1.0], [0.0, 0.3, 3.0]]\n",
    "#statistics.append([1.0,1.0,1.0])\n",
    "\n",
    "\n",
    "def CrossValidationStats(statistics, simulated_thetas, k, epsilon):\n",
    "    n = len(statistics)\n",
    "    print n\n",
    "    chosen_statistics = np.random.choice(n, k, replace=False)\n",
    "    print chosen_statistics\n",
    "    chosen_thetas = np.array(simulated_thetas)[np.array(chosen_statistics)]\n",
    "    thetas_tilde = []\n",
    "    for x in chosen_statistics:\n",
    "        theta = []\n",
    "        for i in range(n):\n",
    "            if np.sum(np.square(np.subtract(statistics[i], statistics[x]))) < epsilon*epsilon and x!=i: # an x!=i\n",
    "                theta.append(simulated_thetas[i])\n",
    "        print 'theta ',theta\n",
    "        print 'mean ', np.mean(theta)\n",
    "        thetas_tilde.append(np.mean(theta)) # check if no need to convert to np.array      \n",
    "\n",
    "    return np.array(thetas_tilde), chosen_thetas\n"
   ]
  },
  {
   "cell_type": "code",
   "execution_count": 59,
   "metadata": {
    "collapsed": false
   },
   "outputs": [
    {
     "name": "stdout",
     "output_type": "stream",
     "text": [
      "[1 2]\n",
      "[ 1.1  1. ]\n"
     ]
    }
   ],
   "source": [
    "n=3\n",
    "k=2\n",
    "chosen_statistics = np.random.choice(n, k, replace=False)\n",
    "print chosen_statistics\n",
    "simulated_thetas = [1.1, 1.1, 1.0]\n",
    "print np.array(simulated_thetas)[np.array(chosen_statistics)]"
   ]
  },
  {
   "cell_type": "code",
   "execution_count": 70,
   "metadata": {
    "collapsed": false
   },
   "outputs": [
    {
     "name": "stdout",
     "output_type": "stream",
     "text": [
      "3\n",
      "[2 1]\n",
      "theta  [1.5, 2.3]\n",
      "mean  1.9\n",
      "theta  [1.5, 3.4]\n",
      "mean  2.45\n",
      "<type 'numpy.ndarray'>\n"
     ]
    }
   ],
   "source": [
    "a = CrossValidationStats(statistics, [1.5,2.3,3.4], 2, 100)\n",
    "print type(a[1])"
   ]
  },
  {
   "cell_type": "code",
   "execution_count": 24,
   "metadata": {
    "collapsed": false
   },
   "outputs": [
    {
     "name": "stdout",
     "output_type": "stream",
     "text": [
      "[1, [2]]\n"
     ]
    }
   ],
   "source": [
    "np.median([1,2,3])\n",
    "a = [1]\n",
    "a.append([2])\n",
    "print a"
   ]
  }
 ],
 "metadata": {
  "kernelspec": {
   "display_name": "Python 2",
   "language": "python",
   "name": "python2"
  },
  "language_info": {
   "codemirror_mode": {
    "name": "ipython",
    "version": 2
   },
   "file_extension": ".py",
   "mimetype": "text/x-python",
   "name": "python",
   "nbconvert_exporter": "python",
   "pygments_lexer": "ipython2",
   "version": "2.7.13"
  }
 },
 "nbformat": 4,
 "nbformat_minor": 2
}
