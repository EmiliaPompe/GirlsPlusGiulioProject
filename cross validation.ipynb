{
 "cells": [
  {
   "cell_type": "code",
   "execution_count": 16,
   "metadata": {
    "collapsed": true
   },
   "outputs": [],
   "source": [
    "import numpy as np\n",
    "import scipy as sc\n",
    "import pandas as pd\n",
    "from ABC_algorithm import ABC"
   ]
  },
  {
   "cell_type": "code",
   "execution_count": 17,
   "metadata": {
    "collapsed": false
   },
   "outputs": [],
   "source": [
    "# this function find the thetas_tilde in the R abc package formula\n",
    "# it returns thetas_tilde, the correspondind thetas (without tilde) and the variance used in the formula\n",
    "def CrossValidationStats(statistics, simulated_thetas, k, epsilon):\n",
    "    n = len(statistics)\n",
    "    #print n\n",
    "    chosen_statistics = np.random.choice(n, k, replace=False)\n",
    "    #print chosen_statistics\n",
    "    chosen_thetas = np.array(simulated_thetas)[np.array(chosen_statistics)]\n",
    "    thetas_tilde = []\n",
    "    for x in chosen_statistics:\n",
    "        theta = []\n",
    "        for i in range(n):\n",
    "            if np.sum(np.square(np.subtract(statistics[i], statistics[x]))) < epsilon*epsilon and x!=i: # an x!=i\n",
    "                theta.append(simulated_thetas[i])\n",
    "        #print 'theta ',theta\n",
    "        #print 'mean ', np.mean(theta)\n",
    "        thetas_tilde.append(np.mean(theta)) # check if no need to convert to np.array      \n",
<<<<<<< HEAD
    "\n",
    "    return np.array(thetas_tilde), chosen_thetas\n"
=======
    "        var = np.var(simulated_thetas) # how to make it work for multidimensional variance?\n",
    "            \n",
    "    return np.array(thetas_tilde), chosen_thetas, var\n",
    "\n"
>>>>>>> 50f9e052fc092cbf7b959b71a92d22f6cdae0d08
   ]
  },
  {
   "cell_type": "code",
   "execution_count": 18,
   "metadata": {
    "collapsed": true
   },
   "outputs": [],
   "source": [
    "# this function computes the prediction error\n",
    "def PredictionError(thetas_tilde, thetas, var): # how will it work for more than 1 dimension?\n",
    "    temp = np.sum(np.square(np.subtract(thetas_tilde, thetas)))\n",
    "    return temp/var"
   ]
  },
  {
   "cell_type": "code",
   "execution_count": 19,
   "metadata": {
    "collapsed": true
   },
   "outputs": [],
   "source": [
    "######\n",
    "# set up for the normal ABC example\n",
    "######\n",
    "\n",
    "prior_mean = -3.0\n",
    "prior_sd = 3\n",
    "likelihood_sd = 1\n",
    "\n",
    "def NormalPriorSampler(n):\n",
    "    return np.random.normal(loc=prior_mean, scale=prior_sd, size=n)\n",
    "\n",
    "def NormalLiklihoodSimulator(n, param):\n",
    "    #unknown mean\n",
    "    return np.random.normal(loc=param, scale=likelihood_sd, size=n)\n",
    "    \n",
    "def NormalSummary(data):\n",
    "    return np.mean(data, axis=0)\n",
    "\n",
    "data = np.random.normal(loc=0,scale=likelihood_sd,size=100)\n",
    "\n",
    "# running the ABC algorithm on the normal example\n",
    "df = ABC(NormalPriorSampler, NormalLiklihoodSimulator, NormalSummary, 0.2, data , 1000)"
   ]
  },
  {
   "cell_type": "code",
   "execution_count": 23,
   "metadata": {
    "collapsed": false
   },
   "outputs": [
    {
     "data": {
      "text/plain": [
       "0.035185586835581428"
      ]
     },
     "execution_count": 23,
     "metadata": {},
     "output_type": "execute_result"
    }
   ],
   "source": [
    "# testing the cross-validation function in the random examp\n",
    "stats = (df['statistics']).tolist()\n",
    "simulated_thetas = (df['theta']).tolist()\n",
    "result = CrossValidationStats(stats, simulated_thetas, 20, 1)\n",
    "result\n",
    "PredictionError(result[0], result[1], result[2]) \n"
   ]
  },
  {
   "cell_type": "code",
   "execution_count": null,
   "metadata": {
    "collapsed": false
   },
   "outputs": [],
   "source": [
    "# random things\n",
    "n=3\n",
    "k=2\n",
    "chosen_statistics = np.random.choice(n, k, replace=False)\n",
    "print chosen_statistics\n",
    "simulated_thetas = [1.1, 1.1, 1.0]\n",
    "print np.array(simulated_thetas)[np.array(chosen_statistics)]"
   ]
  },
  {
   "cell_type": "code",
   "execution_count": null,
   "metadata": {
    "collapsed": false
   },
   "outputs": [],
   "source": [
    "# testing the function\n",
    "a = CrossValidationStats(statistics, [1.5,2.3,3.4], 2, 100)\n",
    "print a\n",
    "print np.subtract(a[0], a[1])\n",
    "# testing the function\n",
    "PredictionError(a[0], a[1], a[2])"
   ]
  },
  {
   "cell_type": "code",
   "execution_count": null,
   "metadata": {
    "collapsed": false
   },
   "outputs": [],
   "source": []
  }
 ],
 "metadata": {
  "kernelspec": {
   "display_name": "Python 2",
   "language": "python",
   "name": "python2"
  },
  "language_info": {
   "codemirror_mode": {
    "name": "ipython",
    "version": 2
   },
   "file_extension": ".py",
   "mimetype": "text/x-python",
   "name": "python",
   "nbconvert_exporter": "python",
   "pygments_lexer": "ipython2",
   "version": "2.7.13"
  }
 },
 "nbformat": 4,
 "nbformat_minor": 2
}
