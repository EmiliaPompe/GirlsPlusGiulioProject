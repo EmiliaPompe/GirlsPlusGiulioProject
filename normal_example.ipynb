{
 "cells": [
  {
   "cell_type": "code",
   "execution_count": 109,
   "metadata": {
    "collapsed": false
   },
   "outputs": [
    {
     "name": "stdout",
     "output_type": "stream",
     "text": [
      "Populating the interactive namespace from numpy and matplotlib\n"
     ]
    },
    {
     "name": "stderr",
     "output_type": "stream",
     "text": [
      "WARNING: pylab import has clobbered these variables: ['var', 'e']\n",
      "`%matplotlib` prevents importing * from pylab and numpy\n"
     ]
    }
   ],
   "source": [
    "%pylab inline\n",
    "import numpy as np\n",
    "import scipy as sc\n",
    "import pandas as pd\n",
    "\n",
    "import seaborn as sns\n",
    "#sns.set_style(\"whitegrid\")\n",
    "#sns.set_context(\"talk\")\n",
    "#rc('axes', labelsize=20, titlesize=20)\n",
    "\n",
    "import matplotlib.pyplot as plt\n",
    "import matplotlib.mlab as mlab\n",
    "import math\n",
    "import scipy.stats as ss\n",
    "\n",
    "from ABC_algorithm import ABC "
   ]
  },
  {
   "cell_type": "markdown",
   "metadata": {},
   "source": [
    "## Normal example"
   ]
  },
  {
   "cell_type": "code",
   "execution_count": 99,
   "metadata": {
    "collapsed": false
   },
   "outputs": [
    {
     "name": "stdout",
     "output_type": "stream",
     "text": [
      "-0.65008575006 is posterior mean\n",
      "0.163636363636 is posterior std dev\n"
     ]
    }
   ],
   "source": [
    "######\n",
    "# set up for the normal ABC example\n",
    "######\n",
    "\n",
    "prior_mean = -4.0\n",
    "prior_sd = 3\n",
    "likelihood_sd = 4\n",
    "\n",
    "def NormalPriorSampler(n):\n",
    "    return np.random.normal(loc=prior_mean, scale=prior_sd, size=n)\n",
    "\n",
    "def NormalLiklihoodSimulator(n, param):\n",
    "    #unknown mean\n",
    "    return np.random.normal(loc=param, scale=likelihood_sd, size=n)\n",
    "    \n",
    "def NormalSummary(data):\n",
    "    return np.mean(data, axis=0)\n",
    "\n",
    "data = np.random.normal(loc=0,scale=likelihood_sd,size=100)\n",
    "\n",
    "post_sd = np.power((1.0/np.power(prior_sd,2) + len(data)/np.power(likelihood_sd,2)),-1/2)\n",
    "post_mean = (prior_mean/np.power(prior_sd,2) + np.sum(data)/(np.power(likelihood_sd,2)))/(1/np.power(prior_sd,2) + len(data)/np.power(likelihood_sd,2))\n",
    "print post_mean, \"is posterior mean\"\n",
    "print post_sd, \"is posterior std dev\""
   ]
  },
  {
   "cell_type": "code",
   "execution_count": 100,
   "metadata": {
    "collapsed": false
   },
   "outputs": [
    {
     "data": {
      "image/png": "[encoded data removed]",
      "text/plain": [
       "<matplotlib.figure.Figure at 0x7f831f472310>"
      ]
     },
     "metadata": {},
     "output_type": "display_data"
    }
   ],
   "source": [
    "######\n",
    "# run ABC for the normal example\n",
    "######\n",
    "\n",
    "df = ABC(NormalPriorSampler, NormalLiklihoodSimulator, NormalSummary, 0.2, data , 1000)\n",
    "\n",
    "######\n",
    "# plot the accepted and rejected params\n",
    "######\n",
    "\n",
    "fig, ax = plt.subplots()\n",
    "\n",
    "accept_legend_map = {1:'Accepted',0:'Rejected'}\n",
    "for accept,sub_df in df.groupby('accept'):\n",
    "    sns.distplot(sub_df.theta, ax=ax, kde = False, label=accept_legend_map[accept]) #norm_hist =True,\n",
    "\n",
    "plt.axvline(x=post_mean, ymin=0, ymax = 120, linewidth=1, color='k', label='True posterior mean')\n",
    "plt.legend(loc='upper left')\n",
    "plt.savefig('plots/1d_normal_abc.pdf')"
   ]
  },
  {
   "cell_type": "markdown",
   "metadata": {
    "collapsed": true
   },
   "source": [
    "## Evaluate MSE"
   ]
  },
  {
   "cell_type": "code",
   "execution_count": 110,
   "metadata": {
    "collapsed": false
   },
   "outputs": [
    {
     "data": {
      "image/png": "[encoded data removed]",
      "text/plain": [
       "<matplotlib.figure.Figure at 0x7f831f4729d0>"
      ]
     },
     "metadata": {},
     "output_type": "display_data"
    }
   ],
   "source": [
    "epsilon_count = 10\n",
    "epsilon = 0\n",
    "epsilon_increment = 0.1\n",
    "\n",
    "k = 50\n",
    "n = 5000\n",
    "\n",
    "error_epsilon_list = []\n",
    "\n",
    "for _ in range(epsilon_count):\n",
    "    epsilon = epsilon + epsilon_increment\n",
    "    #print \"epsilon:{}\".format(epsilon)\n",
    "\n",
    "    abc_post_medians = []\n",
    "    \n",
    "    for i in range(k):\n",
    "        #print \"Iteration:{}\".format(i)\n",
    "        df_ei = ABC(NormalPriorSampler, NormalLiklihoodSimulator, NormalSummary, epsilon, data, n)\n",
    "        abc_post_median = df_ei[df_ei.accept == 1].theta.median()\n",
    "        abc_post_medians.append(abc_post_median)\n",
    "        mse += np.power((abc_post_median - post_mean),2)/k # squared diff\n",
    "    \n",
    "    var = np.var(abc_post_medians)\n",
    "    error_epsilon_list.append({'mse':mse, 'epsilon':epsilon, 'variance':var})\n",
    "    \n",
    "mse_df = pd.DataFrame(error_epsilon_list)\n",
    "mse_df.bias = mse_df.mse - mse_df.variance\n",
    "\n",
    "sns.regplot(x=mse_df.epsilon, y=mse_df.mse, marker=\"+\", fit_reg=False, label='MSE')\n",
    "sns.regplot(x=mse_df.epsilon, y=mse_df.variance, marker=\"+\", fit_reg=False, label='Variance')\n",
    "sns.regplot(x=mse_df.epsilon, y=mse_df.bias, marker=\"+\", fit_reg=False, label='Bias')\n",
    "plt.legend(loc='upper left')\n",
    "plt.savefig('plots/1d_normal_abc_epsilon_k{}_n{}_.pdf'.format(k,n))"
   ]
  },
  {
   "cell_type": "code",
   "execution_count": null,
   "metadata": {
    "collapsed": true
   },
   "outputs": [],
   "source": []
  }
 ],
 "metadata": {
  "kernelspec": {
   "display_name": "Python 2",
   "language": "python",
   "name": "python2"
  },
  "language_info": {
   "codemirror_mode": {
    "name": "ipython",
    "version": 2
   },
   "file_extension": ".py",
   "mimetype": "text/x-python",
   "name": "python",
   "nbconvert_exporter": "python",
   "pygments_lexer": "ipython2",
   "version": "2.7.13"
  }
 },
 "nbformat": 4,
 "nbformat_minor": 1
}
