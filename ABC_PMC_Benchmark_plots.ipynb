{
 "cells": [
  {
   "cell_type": "code",
   "execution_count": 1,
   "metadata": {
    "collapsed": false
   },
   "outputs": [
    {
     "name": "stdout",
     "output_type": "stream",
     "text": [
      "Populating the interactive namespace from numpy and matplotlib\n"
     ]
    },
    {
     "name": "stderr",
     "output_type": "stream",
     "text": [
      ":0: FutureWarning: IPython widgets are experimental and may change in the future.\n"
     ]
    }
   ],
   "source": [
    "%pylab inline\n",
    "import numpy as np\n",
    "import scipy as sc\n",
    "import pandas as pd\n",
    "\n",
    "import seaborn as sns\n",
    "#sns.set_style(\"whitegrid\")\n",
    "#sns.set_context(\"talk\")\n",
    "#rc('axes', labelsize=20, titlesize=20)\n",
    "\n",
    "import matplotlib.pyplot as plt\n",
    "import matplotlib.mlab as mlab\n",
    "import math\n",
    "import scipy.stats as ss\n",
    "\n",
    "import timeit\n",
    "import pickle"
   ]
  },
  {
   "cell_type": "code",
   "execution_count": 10,
   "metadata": {
    "collapsed": false
   },
   "outputs": [],
   "source": [
    "ABC_benchmark = pd.DataFrame(pickle.load( open( \"data/ABC_benchmark_k_15_tol_0.01_num_20.p\", \"rb\" ) ))\n",
    "PMC_benchmark = pd.DataFrame(pickle.load( open( \"data/PMC_benchmark_k_15_tol_0.01_num_20_T_4.p\", \"rb\" ) ))\n",
    "PMC_benchmark2 = pd.DataFrame(pickle.load( open( \"data/PMC_benchmark2_k_15_tol_0.01_num_4_T_2_10.p\", \"rb\" ) ))"
   ]
  },
  {
   "cell_type": "code",
   "execution_count": 11,
   "metadata": {
    "collapsed": false
   },
   "outputs": [
    {
     "name": "stdout",
     "output_type": "stream",
     "text": [
      "     niter    run_time  sample_size  times_1000_iter\n",
      "0    44775    5.823514         50.0         0.129851\n",
      "1    90911   10.705450        100.0         0.117144\n",
      "2   130965   14.010979        150.0         0.107087\n",
      "3   183322   19.324162        200.0         0.105521\n",
      "4   232445   24.952627        250.0         0.107337\n",
      "5   275148   30.027167        300.0         0.109154\n",
      "6   323367   34.090733        350.0         0.105295\n",
      "7   369601   41.932130        400.0         0.113366\n",
      "8   413948   48.902236        450.0         0.118070\n",
      "9   462366   61.667229        500.0         0.133193\n",
      "10  502439   69.964072        550.0         0.139338\n",
      "11  533996   70.120338        600.0         0.131305\n",
      "12  600853   74.818478        650.0         0.124528\n",
      "13  636809   74.429763        700.0         0.116874\n",
      "14  680070   75.833298        750.0         0.111401\n",
      "15  723503   80.290576        800.0         0.110817\n",
      "16  783837   98.045104        850.0         0.125057\n",
      "17  810895  100.711398        900.0         0.124154\n",
      "18  856419  104.955069        950.0         0.122396\n",
      "19  925758   96.360275       1000.0         0.104060\n",
      "    niter   run_time  sample_size  times_1000_iter\n",
      "0    3084   0.749358         50.0         0.234276\n",
      "1    6421   1.774297        100.0         0.269643\n",
      "2    9523   2.694689        150.0         0.284070\n",
      "3   13021   4.054162        200.0         0.340120\n",
      "4   15880   4.563688        250.0         0.292698\n",
      "5   19305   5.502476        300.0         0.307110\n",
      "6   22209   7.218466        350.0         0.341181\n",
      "7   25923   8.298410        400.0         0.340408\n",
      "8   28618   9.777793        450.0         0.355941\n",
      "9   32068  10.766409        500.0         0.363302\n",
      "10  35074  12.800292        550.0         0.398330\n",
      "11  37937  14.237327        600.0         0.408041\n",
      "12  40421  16.410791        650.0         0.446580\n",
      "13  45066  17.419306        700.0         0.420448\n",
      "14  48322  20.128425        750.0         0.460549\n",
      "15  50516  21.371528        800.0         0.469277\n",
      "16  53872  21.949682        850.0         0.450211\n",
      "17  57439  25.353169        900.0         0.488658\n",
      "18  60283  27.008392        950.0         0.502301\n",
      "19  64865  28.062668       1000.0         0.481191\n",
      "    niter   run_time  sample_size  times_1000_iter\n",
      "0    3084   0.749358         50.0         0.234276\n",
      "1    6421   1.774297        100.0         0.269643\n",
      "2    9523   2.694689        150.0         0.284070\n",
      "3   13021   4.054162        200.0         0.340120\n",
      "4   15880   4.563688        250.0         0.292698\n",
      "5   19305   5.502476        300.0         0.307110\n",
      "6   22209   7.218466        350.0         0.341181\n",
      "7   25923   8.298410        400.0         0.340408\n",
      "8   28618   9.777793        450.0         0.355941\n",
      "9   32068  10.766409        500.0         0.363302\n",
      "10  35074  12.800292        550.0         0.398330\n",
      "11  37937  14.237327        600.0         0.408041\n",
      "12  40421  16.410791        650.0         0.446580\n",
      "13  45066  17.419306        700.0         0.420448\n",
      "14  48322  20.128425        750.0         0.460549\n",
      "15  50516  21.371528        800.0         0.469277\n",
      "16  53872  21.949682        850.0         0.450211\n",
      "17  57439  25.353169        900.0         0.488658\n",
      "18  60283  27.008392        950.0         0.502301\n",
      "19  64865  28.062668       1000.0         0.481191\n"
     ]
    }
   ],
   "source": [
    "print(ABC_benchmark)\n",
    "print(PMC_benchmark)\n",
    "print(PMC_benchmark2)"
   ]
  }
 ],
 "metadata": {
  "kernelspec": {
   "display_name": "Python 2",
   "language": "python",
   "name": "python2"
  },
  "language_info": {
   "codemirror_mode": {
    "name": "ipython",
    "version": 2
   },
   "file_extension": ".py",
   "mimetype": "text/x-python",
   "name": "python",
   "nbconvert_exporter": "python",
   "pygments_lexer": "ipython2",
   "version": "2.7.13"
  }
 },
 "nbformat": 4,
 "nbformat_minor": 2
}
