{
 "cells": [
  {
   "cell_type": "code",
   "execution_count": 1,
   "metadata": {
    "collapsed": false
   },
   "outputs": [],
   "source": [
    "import numpy as np\n",
    "import scipy as sc\n",
    "\n",
    "import matplotlib.pyplot as plt\n",
    "import matplotlib.mlab as mlab\n",
    "import math\n",
    "import scipy.stats as ss\n",
    "from ABC_algorithm import ABC \n",
    "\n",
    "def SimulateGK(n, param):  #B>0, K>-1/2 #param is a vector of A, B, g, k\n",
    "    A, B, g, k = param[0], param[1], param[2], param[3]\n",
    "    u_values = np.random.uniform(low=0.0, high=1.0, size=n)\n",
    "    x_values = np.zeros(n)\n",
    "    for i in range(0,n):\n",
    "        x_values[i] = A + B*(1+0.8*(1-np.exp(-g*sc.stats.norm.ppf(u_values[i], 0, 1) )) /(1 + np.exp(-g*sc.stats.norm.ppf(u_values[i], 0, 1) ))) *np.power((1+ np.power(sc.stats.norm.ppf(u_values[i], 0, 1),2)),k)*(sc.stats.norm.ppf(u_values[i], 0, 1))    \n",
    "    return x_values\n",
    "\n",
    "\n"
   ]
  },
  {
   "cell_type": "code",
   "execution_count": 2,
   "metadata": {
    "collapsed": false
   },
   "outputs": [],
   "source": [
    "resultGK = SimulateGK(500,[3,1,2,0.5]) # theta is a vector of dim 4 (A, B, g, k)"
   ]
  },
  {
   "cell_type": "code",
   "execution_count": 3,
   "metadata": {
    "collapsed": false
   },
   "outputs": [
    {
     "name": "stderr",
     "output_type": "stream",
     "text": [
      "/usr/lib64/python2.7/site-packages/numpy/lib/function_base.py:564: VisibleDeprecationWarning: using a non-integer number instead of an integer will result in an error in the future\n",
      "  n = np.zeros(bins, ntype)\n",
      "/usr/lib64/python2.7/site-packages/numpy/lib/function_base.py:600: VisibleDeprecationWarning: using a non-integer number instead of an integer will result in an error in the future\n",
      "  n += np.bincount(indices, weights=tmp_w, minlength=bins).astype(ntype)\n"
     ]
    },
    {
     "data": {
      "image/png": "[encoded data removed]",
      "text/plain": [
       "<matplotlib.figure.Figure at 0x7ff6101e0910>"
      ]
     },
     "metadata": {},
     "output_type": "display_data"
    }
   ],
   "source": [
    "Hist = plt.hist(resultGK, np.round(np.sqrt(len(resultGK)),0), normed=True) #plot the hist for the sampled theta \n",
    "plt.show()"
   ]
  },
  {
   "cell_type": "code",
   "execution_count": 4,
   "metadata": {
    "collapsed": false
   },
   "outputs": [
    {
     "name": "stdout",
     "output_type": "stream",
     "text": [
      "10\n",
      "[  1.93474802   2.28390533   2.48934571   2.57349712   2.60362799\n",
      "   3.26055721   5.04899574   5.13816637   6.86073493  16.69940118]\n"
     ]
    }
   ],
   "source": [
    "data = SimulateGK(10, [3, 1, 2, 0.5])\n",
    "\n",
    "def GKPriorSampler(n):\n",
    "    l = []\n",
    "    for i in range(n):\n",
    "        l.append(np.random.uniform(low=0.0, high=10.0, size=4)) # we assume uniform [1,10] prior for all 4 parameters\n",
    "    return l\n",
    "\n",
    "def GKLiklihoodSimulator(n, param):\n",
    "    #unknown mean\n",
    "    return SimulateGK(n, param)\n",
    "    \n",
    "def GKSummary(data):\n",
    "    return np.sort(data)\n",
    "\n",
    "print np.shape(data)[0]\n",
    "print GKSummary(data)"
   ]
  },
  {
   "cell_type": "code",
   "execution_count": 5,
   "metadata": {
    "collapsed": false
   },
   "outputs": [
    {
     "name": "stdout",
     "output_type": "stream",
     "text": [
      "   accept                                              theta  \\\n",
      "0       0  [7.58676140535, 5.46610941328, 6.660857052, 7....   \n",
      "1       0  [6.69399609638, 3.53710859202, 9.24854292372, ...   \n",
      "2       0  [1.86681372301, 2.00001044073, 2.32384308272, ...   \n",
      "3       0  [5.62232347765, 2.92751367819, 3.62820089285, ...   \n",
      "4       0  [9.48317013476, 8.40955455847, 3.80702683496, ...   \n",
      "5       0  [4.81606583284, 0.216248756881, 0.375378971625...   \n",
      "6       0  [7.97750606194, 0.19470181255, 1.83322867588, ...   \n",
      "7       0  [5.56609745981, 5.58226741275, 0.604094727261,...   \n",
      "8       0  [8.16054633441, 8.92003083358, 6.39272454733, ...   \n",
      "9       0  [4.27092162901, 3.08462670144, 9.41839071456, ...   \n",
      "\n",
      "                                                   z  \n",
      "0  [4.82689198256, -1348.47996076, 42476.5305924,...  \n",
      "1  [6.31842557197, 14.7416423653, 6.67771138258, ...  \n",
      "2  [699.046288604, 36.6037275663, 385.035679975, ...  \n",
      "3  [8.39929269765, 216.803427102, -274.493784935,...  \n",
      "4  [-10.4699294727, 65.6494387678, 7.64382169412,...  \n",
      "5  [5.2352365063, 4.6555982697, 4.90386048602, 4....  \n",
      "6  [8.1929781201, 9.09009812931, -21.6272486042, ...  \n",
      "7  [-0.313363900037, -1336.53411574, -226567.1667...  \n",
      "8  [547295.712342, 17.2841902092, -68.310731378, ...  \n",
      "9  [3.90170656514, 3.74837547969, 23.5912013113, ...  \n"
     ]
    },
    {
     "ename": "NameError",
     "evalue": "name 'sns' is not defined",
     "output_type": "error",
     "traceback": [
      "\u001b[0;31m---------------------------------------------------------------------------\u001b[0m",
      "\u001b[0;31mNameError\u001b[0m                                 Traceback (most recent call last)",
      "\u001b[0;32m<ipython-input-5-e532e7858b45>\u001b[0m in \u001b[0;36m<module>\u001b[0;34m()\u001b[0m\n\u001b[1;32m     13\u001b[0m \u001b[0maccept_legend_map\u001b[0m \u001b[0;34m=\u001b[0m \u001b[0;34m{\u001b[0m\u001b[0;36m1\u001b[0m\u001b[0;34m:\u001b[0m\u001b[0;34m'Accepted'\u001b[0m\u001b[0;34m,\u001b[0m\u001b[0;36m0\u001b[0m\u001b[0;34m:\u001b[0m\u001b[0;34m'Rejected'\u001b[0m\u001b[0;34m}\u001b[0m\u001b[0;34m\u001b[0m\u001b[0m\n\u001b[1;32m     14\u001b[0m \u001b[0;32mfor\u001b[0m \u001b[0maccept\u001b[0m\u001b[0;34m,\u001b[0m\u001b[0msub_df\u001b[0m \u001b[0;32min\u001b[0m \u001b[0mdf\u001b[0m\u001b[0;34m.\u001b[0m\u001b[0mgroupby\u001b[0m\u001b[0;34m(\u001b[0m\u001b[0;34m'accept'\u001b[0m\u001b[0;34m)\u001b[0m\u001b[0;34m:\u001b[0m\u001b[0;34m\u001b[0m\u001b[0m\n\u001b[0;32m---> 15\u001b[0;31m     \u001b[0msns\u001b[0m\u001b[0;34m.\u001b[0m\u001b[0mdistplot\u001b[0m\u001b[0;34m(\u001b[0m\u001b[0msub_df\u001b[0m\u001b[0;34m.\u001b[0m\u001b[0mtheta\u001b[0m\u001b[0;34m,\u001b[0m \u001b[0max\u001b[0m\u001b[0;34m=\u001b[0m\u001b[0max\u001b[0m\u001b[0;34m,\u001b[0m \u001b[0mkde\u001b[0m \u001b[0;34m=\u001b[0m \u001b[0mFalse\u001b[0m\u001b[0;34m,\u001b[0m \u001b[0mlabel\u001b[0m\u001b[0;34m=\u001b[0m\u001b[0maccept_legend_map\u001b[0m\u001b[0;34m[\u001b[0m\u001b[0maccept\u001b[0m\u001b[0;34m]\u001b[0m\u001b[0;34m)\u001b[0m \u001b[0;31m#norm_hist =True,\u001b[0m\u001b[0;34m\u001b[0m\u001b[0m\n\u001b[0m\u001b[1;32m     16\u001b[0m \u001b[0;34m\u001b[0m\u001b[0m\n\u001b[1;32m     17\u001b[0m \u001b[0;34m\u001b[0m\u001b[0m\n",
      "\u001b[0;31mNameError\u001b[0m: name 'sns' is not defined"
     ]
    }
   ],
   "source": [
    "######\n",
    "# run ABC for the GK example\n",
    "######\n",
    "\n",
    "df = ABC(GKPriorSampler, GKLiklihoodSimulator, GKSummary, 0.2, data , 10)\n",
    "print df\n",
    "######\n",
    "# plot the accepted and rejected params\n",
    "######\n",
    "\n",
    "fig, ax = plt.subplots()\n",
    "\n",
    "accept_legend_map = {1:'Accepted',0:'Rejected'}\n",
    "for accept,sub_df in df.groupby('accept'):\n",
    "    sns.distplot(sub_df.theta, ax=ax, kde = False, label=accept_legend_map[accept]) #norm_hist =True,\n",
    "\n",
    "\n",
    "plt.axvline(x=post_mean, ymin=0, ymax = 120, linewidth=1, color='k', label='True posterior mean')\n",
    "plt.legend(loc='upper left')\n",
    "plt.savefig('plots/1d_normal_abc.pdf')"
   ]
  },
  {
   "cell_type": "code",
   "execution_count": null,
   "metadata": {
    "collapsed": true
   },
   "outputs": [],
   "source": []
  }
 ],
 "metadata": {
  "kernelspec": {
   "display_name": "Python 2",
   "language": "python",
   "name": "python2"
  },
  "language_info": {
   "codemirror_mode": {
    "name": "ipython",
    "version": 2
   },
   "file_extension": ".py",
   "mimetype": "text/x-python",
   "name": "python",
   "nbconvert_exporter": "python",
   "pygments_lexer": "ipython2",
   "version": "2.7.13"
  }
 },
 "nbformat": 4,
 "nbformat_minor": 2
}
