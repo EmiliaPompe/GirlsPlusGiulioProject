{
 "cells": [
  {
   "cell_type": "code",
   "execution_count": 8,
   "metadata": {
    "collapsed": false
   },
   "outputs": [
    {
     "name": "stdout",
     "output_type": "stream",
     "text": [
      "Populating the interactive namespace from numpy and matplotlib\n"
     ]
    }
   ],
   "source": [
    "%pylab inline\n",
    "import numpy as np\n",
    "import scipy as sc\n",
    "\n",
    "import seaborn as sns\n",
    "import matplotlib.pyplot as plt\n",
    "import matplotlib.mlab as mlab\n",
    "import math\n",
    "import scipy.stats as ss\n",
    "from ABC_algorithm import ABC \n",
    "\n",
    "def SimulateGK(n, param):  #B>0, K>-1/2 #param is a vector of A, B, g, k\n",
    "    A, B, g, k = param[0], param[1], param[2], param[3]\n",
    "    u_values = np.random.uniform(low=0.0, high=1.0, size=n)\n",
    "    x_values = np.zeros(n)\n",
    "    for i in range(0,n):\n",
    "        x_values[i] = A + B*(1+0.8*(1-np.exp(-g*sc.stats.norm.ppf(u_values[i], 0, 1) )) /(1 + np.exp(-g*sc.stats.norm.ppf(u_values[i], 0, 1) ))) *np.power((1+ np.power(sc.stats.norm.ppf(u_values[i], 0, 1),2)),k)*(sc.stats.norm.ppf(u_values[i], 0, 1))    \n",
    "    return x_values\n",
    "\n",
    "\n"
   ]
  },
  {
   "cell_type": "code",
   "execution_count": 9,
   "metadata": {
    "collapsed": false
   },
   "outputs": [],
   "source": [
    "resultGK = SimulateGK(500,[3,1,2,0.5]) # theta is a vector of dim 4 (A, B, g, k)"
   ]
  },
  {
   "cell_type": "code",
   "execution_count": 10,
   "metadata": {
    "collapsed": false
   },
   "outputs": [
    {
     "name": "stderr",
     "output_type": "stream",
     "text": [
      "/Users/Giulio/anaconda/lib/python3.6/site-packages/numpy/lib/function_base.py:564: VisibleDeprecationWarning: using a non-integer number instead of an integer will result in an error in the future\n",
      "  n = np.zeros(bins, ntype)\n",
      "/Users/Giulio/anaconda/lib/python3.6/site-packages/numpy/lib/function_base.py:611: VisibleDeprecationWarning: using a non-integer number instead of an integer will result in an error in the future\n",
      "  n += np.bincount(indices, weights=tmp_w, minlength=bins).astype(ntype)\n"
     ]
    },
    {
     "data": {
      "image/png": "[encoded data removed]",
      "text/plain": [
       "<matplotlib.figure.Figure at 0x11e488780>"
      ]
     },
     "metadata": {},
     "output_type": "display_data"
    }
   ],
   "source": [
    "Hist = plt.hist(resultGK, np.round(np.sqrt(len(resultGK)),0), normed=True) #plot the hist for the sampled theta \n",
    "plt.show()"
   ]
  },
  {
   "cell_type": "code",
   "execution_count": 15,
   "metadata": {
    "collapsed": false
   },
   "outputs": [
    {
     "name": "stdout",
     "output_type": "stream",
     "text": [
      "100\n",
      "[  2.07722457   2.19293406   2.22885464   2.24266237   2.26270643\n",
      "   2.26612211   2.30462362   2.30673774   2.3241531    2.34649594\n",
      "   2.36292191   2.40894316   2.4185441    2.43975839   2.45332976\n",
      "   2.46716353   2.4694222    2.47485804   2.52284085   2.52745175\n",
      "   2.54676684   2.54894673   2.5581732    2.5911744    2.5931207\n",
      "   2.59840571   2.59974178   2.60472587   2.61738      2.61898291\n",
      "   2.64025704   2.67321534   2.67746325   2.67886785   2.6927158\n",
      "   2.7060292    2.74522879   2.76045045   2.78340882   2.78913128\n",
      "   2.80374022   2.80483047   2.82895781   2.84229298   2.85263807\n",
      "   2.85272716   2.89578793   2.91444821   2.91822771   2.93062029\n",
      "   2.94446765   2.96612197   2.9706302    2.97411887   2.97702341\n",
      "   3.00605266   3.03191851   3.08605015   3.08934735   3.09263783\n",
      "   3.09408873   3.11073464   3.13292268   3.19988728   3.24258849\n",
      "   3.24394427   3.26053602   3.27076021   3.29771171   3.31307014\n",
      "   3.34362589   3.36273261   3.36825262   3.38434291   3.39746205\n",
      "   3.40274598   3.44697175   3.5045581    3.54881055   3.59370601\n",
      "   3.82506819   3.88239397   3.92851538   4.23046468   4.24544142\n",
      "   4.37391524   4.62010167   4.79767602   4.93269598   5.01553776\n",
      "   5.10236334   5.37943975   5.39264013   5.55928893   5.61969813\n",
      "   5.94116658   6.47797491   6.7601779    7.10497189  10.31532684]\n"
     ]
    }
   ],
   "source": [
    "data = SimulateGK(100, [3, 1, 2, 0.5])\n",
    "\n",
    "def GKPriorSampler(n):\n",
    "    l = []\n",
    "    for i in range(n):\n",
    "        l.append(np.random.uniform(low=0.0, high=10.0, size=4)) # we assume uniform [1,10] prior for all 4 parameters\n",
    "    return l\n",
    "\n",
    "def GKLiklihoodSimulator(n, param):\n",
    "    #unknown mean\n",
    "    return SimulateGK(n, param)\n",
    "    \n",
    "def GKSummary(data):\n",
    "    return np.sort(data)\n",
    "\n",
    "print(np.shape(data)[0])\n",
    "print(GKSummary(data))"
   ]
  },
  {
   "cell_type": "code",
   "execution_count": 16,
   "metadata": {
    "collapsed": false
   },
   "outputs": [
    {
     "data": {
      "image/png": "[encoded data removed]",
      "text/plain": [
       "<matplotlib.figure.Figure at 0x11e964b00>"
      ]
     },
     "metadata": {},
     "output_type": "display_data"
    }
   ],
   "source": [
    "######\n",
    "# run ABC for the GK example\n",
    "######\n",
    "\n",
    "import pandas as pd\n",
    "\n",
    "df = ABC(GKPriorSampler, GKLiklihoodSimulator, GKSummary, 1000, data , 100)\n",
    "df['param1'] = df['theta'].apply(lambda x: x[0])\n",
    "\n",
    "######\n",
    "# plot the accepted and rejected params\n",
    "######\n",
    "\n",
    "fig, ax = plt.subplots()\n",
    "\n",
    "accept_legend_map = {1:'Accepted',0:'Rejected'}\n",
    "for accept, sub_df in df.groupby('accept'):\n",
    "    sns.distplot(sub_df['param1'], ax=ax, kde = False, label=accept_legend_map[accept]) #norm_hist =True,\n",
    "\n",
    "#plt.legend(loc='upper left')\n",
    "\n",
    "\n",
    "#plt.axvline(x=post_mean, ymin=0, ymax = 120, linewidth=1, color='k', label='True posterior mean')\n",
    "#plt.legend(loc='upper left')\n",
    "plt.savefig('plots/gk_example_abc.pdf')"
   ]
  },
  {
   "cell_type": "code",
   "execution_count": 38,
   "metadata": {
    "collapsed": false
   },
   "outputs": [],
   "source": [
    "plt.savefig('plots/gk_example_abc.pdf')"
   ]
  }
 ],
 "metadata": {
  "kernelspec": {
   "display_name": "Python 3",
   "language": "python",
   "name": "python3"
  },
  "language_info": {
   "codemirror_mode": {
    "name": "ipython",
    "version": 3
   },
   "file_extension": ".py",
   "mimetype": "text/x-python",
   "name": "python",
   "nbconvert_exporter": "python",
   "pygments_lexer": "ipython3",
   "version": "3.6.0"
  }
 },
 "nbformat": 4,
 "nbformat_minor": 2
}
