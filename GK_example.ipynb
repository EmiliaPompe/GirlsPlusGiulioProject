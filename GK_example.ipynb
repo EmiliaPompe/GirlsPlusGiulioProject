{
 "cells": [
  {
   "cell_type": "code",
   "execution_count": 7,
   "metadata": {
    "collapsed": false
   },
   "outputs": [],
   "source": [
    "import numpy as np\n",
    "import scipy as sc\n",
    "\n",
    "import seaborn as sns\n",
    "import matplotlib.pyplot as plt\n",
    "import matplotlib.mlab as mlab\n",
    "import math\n",
    "import scipy.stats as ss\n",
    "from ABC_algorithm import ABC \n",
    "\n",
    "def SimulateGK(n, param):  #B>0, K>-1/2 #param is a vector of A, B, g, k\n",
    "    A, B, g, k = param[0], param[1], param[2], param[3]\n",
    "    u_values = np.random.uniform(low=0.0, high=1.0, size=n)\n",
    "    x_values = np.zeros(n)\n",
    "    for i in range(0,n):\n",
    "        x_values[i] = A + B*(1+0.8*(1-np.exp(-g*sc.stats.norm.ppf(u_values[i], 0, 1) )) /(1 + np.exp(-g*sc.stats.norm.ppf(u_values[i], 0, 1) ))) *np.power((1+ np.power(sc.stats.norm.ppf(u_values[i], 0, 1),2)),k)*(sc.stats.norm.ppf(u_values[i], 0, 1))    \n",
    "    return x_values\n",
    "\n",
    "\n"
   ]
  },
  {
   "cell_type": "code",
   "execution_count": 8,
   "metadata": {
    "collapsed": false
   },
   "outputs": [],
   "source": [
    "resultGK = SimulateGK(500,[3,1,2,0.5]) # theta is a vector of dim 4 (A, B, g, k)"
   ]
  },
  {
   "cell_type": "code",
   "execution_count": 9,
   "metadata": {
    "collapsed": false
   },
   "outputs": [
    {
     "data": {
      "image/png": "[encoded data removed]",
      "text/plain": [
       "<matplotlib.figure.Figure at 0x10b462b90>"
      ]
     },
     "metadata": {},
     "output_type": "display_data"
    }
   ],
   "source": [
    "Hist = plt.hist(resultGK, np.round(np.sqrt(len(resultGK)),0), normed=True) #plot the hist for the sampled theta \n",
    "plt.show()"
   ]
  },
  {
   "cell_type": "code",
   "execution_count": 34,
   "metadata": {
    "collapsed": false
   },
   "outputs": [
    {
     "name": "stdout",
     "output_type": "stream",
     "text": [
      "100\n",
      "[  1.67425891   1.83178677   1.87773717   2.14612963   2.22235411\n",
      "   2.23443229   2.23583804   2.28916623   2.34580648   2.35161439\n",
      "   2.36889946   2.38357518   2.40242562   2.4164448    2.41891686\n",
      "   2.44448414   2.46888571   2.47585167   2.50560142   2.53081194\n",
      "   2.54125373   2.55968802   2.56339097   2.58105204   2.58975382\n",
      "   2.59096444   2.59672206   2.62419345   2.65973869   2.67491692\n",
      "   2.68599301   2.72127487   2.7320961    2.74123016   2.75403663\n",
      "   2.75608134   2.76367538   2.80650667   2.82488344   2.83217334\n",
      "   2.84212334   2.85601883   2.9672017    2.96825304   2.98357155\n",
      "   2.98889743   3.02976644   3.14437481   3.20377912   3.24292819\n",
      "   3.37186901   3.441378     3.57997444   3.66781977   3.88772623\n",
      "   3.91016892   3.93315742   3.95132996   4.03320133   4.06877056\n",
      "   4.08358242   4.13854526   4.3348785    4.38052922   4.39629065\n",
      "   4.42967873   4.56481188   4.70852979   4.80413055   4.891644\n",
      "   4.99172649   5.0264438    5.12875495   5.42115989   5.47589732\n",
      "   5.57308696   5.71336883   5.8461537    5.92357022   6.16898472\n",
      "   6.3535424    6.60600595   7.13554062   7.25420114   7.74440773\n",
      "   8.05207659   8.36668024   8.37512545   9.40958493   9.41867548\n",
      "   9.64155352   9.70636224   9.70730777   9.74729134   9.78283386\n",
      "   9.85401317  10.04426062  10.63953221  14.19482892  15.32336634]\n"
     ]
    }
   ],
   "source": [
    "data = SimulateGK(100, [3, 1, 2, 0.5])\n",
    "\n",
    "def GKPriorSampler(n):\n",
    "    l = []\n",
    "    for i in range(n):\n",
    "        l.append(np.random.uniform(low=0.0, high=10.0, size=4)) # we assume uniform [1,10] prior for all 4 parameters\n",
    "    return l\n",
    "\n",
    "def GKLiklihoodSimulator(n, param):\n",
    "    #unknown mean\n",
    "    return SimulateGK(n, param)\n",
    "    \n",
    "def GKSummary(data):\n",
    "    return np.sort(data)\n",
    "\n",
    "print np.shape(data)[0]\n",
    "print GKSummary(data)"
   ]
  },
  {
   "cell_type": "code",
   "execution_count": 36,
   "metadata": {
    "collapsed": false
   },
   "outputs": [
    {
     "data": {
      "text/plain": [
       "<matplotlib.legend.Legend at 0x10c859c50>"
      ]
     },
     "execution_count": 36,
     "metadata": {},
     "output_type": "execute_result"
    }
   ],
   "source": [
    "######\n",
    "# run ABC for the GK example\n",
    "######\n",
    "\n",
    "import pandas as pd\n",
    "\n",
    "df = ABC(GKPriorSampler, GKLiklihoodSimulator, GKSummary, 1000, data , 100)\n",
    "df['param1'] = df['theta'].apply(lambda x: x[0])\n",
    "\n",
    "######\n",
    "# plot the accepted and rejected params\n",
    "######\n",
    "\n",
    "fig, ax = plt.subplots()\n",
    "\n",
    "accept_legend_map = {1:'Accepted',0:'Rejected'}\n",
    "for accept, sub_df in df.groupby('accept'):\n",
    "    sns.distplot(sub_df['param1'], ax=ax, kde = False, label=accept_legend_map[accept]) #norm_hist =True,\n",
    "\n",
    "#plt.legend(loc='upper left')\n",
    "\n",
    "\n",
    "#plt.axvline(x=post_mean, ymin=0, ymax = 120, linewidth=1, color='k', label='True posterior mean')\n",
    "#plt.legend(loc='upper left')\n",
    "plt.savefig('plots/gk_example_abc.pdf')"
   ]
  },
  {
   "cell_type": "code",
   "execution_count": 38,
   "metadata": {
    "collapsed": false
   },
   "outputs": [],
   "source": [
    "plt.savefig('plots/gk_example_abc.pdf')"
   ]
  }
 ],
 "metadata": {
  "kernelspec": {
   "display_name": "Python 2",
   "language": "python",
   "name": "python2"
  },
  "language_info": {
   "codemirror_mode": {
    "name": "ipython",
    "version": 2
   },
   "file_extension": ".py",
   "mimetype": "text/x-python",
   "name": "python",
   "nbconvert_exporter": "python",
   "pygments_lexer": "ipython2",
   "version": "2.7.11"
  }
 },
 "nbformat": 4,
 "nbformat_minor": 2
}
