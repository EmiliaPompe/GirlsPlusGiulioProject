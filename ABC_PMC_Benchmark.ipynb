{
 "cells": [
  {
   "cell_type": "code",
   "execution_count": 1,
   "metadata": {
    "collapsed": false
   },
   "outputs": [
    {
     "name": "stdout",
     "output_type": "stream",
     "text": [
      "Populating the interactive namespace from numpy and matplotlib\n"
     ]
    }
   ],
   "source": [
    "%pylab inline\n",
    "import numpy as np\n",
    "import scipy as sc\n",
    "import pandas as pd\n",
    "\n",
    "import seaborn as sns\n",
    "#sns.set_style(\"whitegrid\")\n",
    "#sns.set_context(\"talk\")\n",
    "#rc('axes', labelsize=20, titlesize=20)\n",
    "\n",
    "import matplotlib.pyplot as plt\n",
    "import matplotlib.mlab as mlab\n",
    "import math\n",
    "import scipy.stats as ss\n",
    "\n",
    "import timeit\n",
    "import pickle\n",
    "\n",
    "from ABC_PMC import ABC_sample, ABC_PMC"
   ]
  },
  {
   "cell_type": "code",
   "execution_count": 2,
   "metadata": {
    "collapsed": true
   },
   "outputs": [],
   "source": [
    "######\n",
    "# set up for the normal ABC example\n",
    "######\n",
    "\n",
    "prior_mean = -4.0\n",
    "prior_sd = 3\n",
    "likelihood_sd = 1\n",
    "original_data_size = 100\n",
    "\n",
    "def NormalPriorFunction(x):\n",
    "    return ss.norm.pdf(x=x,loc=prior_mean, scale=prior_sd)\n",
    "\n",
    "def NormalPriorSampler(n):\n",
    "    return np.random.normal(loc=prior_mean, scale=prior_sd, size=n)\n",
    "\n",
    "def NormalLiklihoodSimulator(n, param):\n",
    "    #unknown mean\n",
    "    return np.random.normal(loc=param, scale=likelihood_sd, size=n)\n",
    "    \n",
    "def NormalSummary(data):\n",
    "    return np.mean(data, axis=0)\n",
    "\n",
    "data = np.random.normal(loc=0,scale=likelihood_sd,size=original_data_size)"
   ]
  },
  {
   "cell_type": "code",
   "execution_count": 3,
   "metadata": {
    "collapsed": true
   },
   "outputs": [],
   "source": [
    "k = 1\n",
    "requested_sample_size = np.linspace(start=50,stop=250,num=2) #n=50,100,...,1000\n",
    "tolerance_seq = np.linspace(start=1, stop= 0.01, num=4) #T = 4"
   ]
  },
  {
   "cell_type": "code",
   "execution_count": 13,
   "metadata": {
    "collapsed": false
   },
   "outputs": [
    {
     "name": "stdout",
     "output_type": "stream",
     "text": [
      "ABC -  0.0 %\n",
      "ABC -  50.0 %\n",
      "ABC - 100%\n"
     ]
    }
   ],
   "source": [
    "ABC_benchmark = []\n",
    "\n",
    "for sample_size in requested_sample_size:\n",
    "    print(\"ABC - \",float(len(ABC_benchmark))/len(requested_sample_size)*100,\"%\")\n",
    "    run_time_ABC = 0\n",
    "    niter_ABC = 0\n",
    "    times_for_iteration_ABC = 0\n",
    "    for rep in range(k):       \n",
    "        #Run ABC\n",
    "        start_time = timeit.default_timer()\n",
    "        ABC_run = ABC_sample(NormalPriorSampler, NormalLiklihoodSimulator, NormalSummary, tolerance_seq[-1], data , sample_size)\n",
    "        run_time_ABC += timeit.default_timer() - start_time\n",
    "        niter_ABC += ABC_run[1]\n",
    "        times_for_iteration_ABC += np.mean(ABC_run[2])\n",
    "    run_time_ABC /= k\n",
    "    niter_ABC /= k\n",
    "    times_for_iteration_ABC /= k\n",
    "    output_dict = {'sample_size': sample_size, 'run_time': run_time_ABC, 'niter':niter_ABC, 'times_1000_iter': times_for_iteration_ABC}\n",
    "    ABC_benchmark.append(output_dict)\n",
    "\n",
    "file_name = \"data/ABC_benchmark_k_\"+str(k)+\"_tol_\"+str(tolerance_seq[-1])+\"_num_\"+str(len(requested_sample_size))+\".p\"\n",
    "pickle.dump(ABC_benchmark, open( file_name, \"wb\" ) ) #save result in a file\n",
    "#You can load using:\n",
    "#test = pickle.load( open( \"data/ABC_benchmark_k_2_tol_001.p\", \"rb\" ) )\n",
    "\n",
    "#print(pd.DataFrame(ABC_benchmark))\n",
    "print(\"ABC - 100%\")\n",
    "\n"
   ]
  },
  {
   "cell_type": "code",
   "execution_count": 14,
   "metadata": {
    "collapsed": false
   },
   "outputs": [
    {
     "name": "stdout",
     "output_type": "stream",
     "text": [
      "PMC 1 -  0.0 %\n"
     ]
    },
    {
     "name": "stderr",
     "output_type": "stream",
     "text": [
      "/Users/Giulio/anaconda/lib/python3.6/site-packages/numpy/core/numeric.py:190: VisibleDeprecationWarning: using a non-integer number instead of an integer will result in an error in the future\n",
      "  a = empty(shape, dtype, order)\n"
     ]
    },
    {
     "name": "stdout",
     "output_type": "stream",
     "text": [
      "PMC 1 -  50.0 %\n",
      "PMC - 100%\n"
     ]
    }
   ],
   "source": [
    "PMC_benchmark = []\n",
    "\n",
    "for sample_size in requested_sample_size:\n",
    "    print(\"PMC 1 - \",float(len(PMC_benchmark))/len(requested_sample_size)*100,\"%\")\n",
    "    run_time_PMC = 0\n",
    "    niter_PMC = 0\n",
    "    times_for_iteration_PMC = 0\n",
    "    for rep in range(k):\n",
    "        #Run ABC\n",
    "        start_time = timeit.default_timer()\n",
    "        PMC_run = ABC_PMC(NormalPriorFunction,NormalPriorSampler, NormalLiklihoodSimulator, NormalSummary, tolerance_seq, data , sample_size)\n",
    "        run_time_PMC += timeit.default_timer() - start_time\n",
    "        niter_PMC += PMC_run[1]\n",
    "        times_for_iteration_PMC += np.mean(PMC_run[2])\n",
    "    run_time_PMC /= k\n",
    "    niter_PMC /= k\n",
    "    times_for_iteration_PMC /= k\n",
    "    output_dict = {'sample_size': sample_size, 'run_time': run_time_PMC, 'niter':niter_PMC, 'times_1000_iter': times_for_iteration_PMC}\n",
    "    PMC_benchmark.append(output_dict)\n",
    "    \n",
    "file_name = \"data/PMC_benchmark_k_\"+str(k)+\"_tol_\"+str(tolerance_seq[-1])+\"_num_\"+str(len(requested_sample_size))+\"_T_\"+str(len(tolerance_seq))+\".p\"\n",
    "pickle.dump(PMC_benchmark, open( file_name, \"wb\" ) ) #save result in a file\n",
    "#You can load using:\n",
    "#test = pickle.load( open( \"data/ABC_benchmark_k_2_tol_001.p\", \"rb\" ) )\n",
    "\n",
    "#print(pd.DataFrame(PMC_benchmark))\n",
    "print(\"PMC - 100%\")"
   ]
  },
  {
   "cell_type": "code",
   "execution_count": 15,
   "metadata": {
    "collapsed": false
   },
   "outputs": [
    {
     "name": "stdout",
     "output_type": "stream",
     "text": [
      "PMC 2 -  25.0 %\n",
      "PMC 2 -  50.0 %\n",
      "PMC 2 -  75.0 %\n",
      "PMC 2 -  100.0 %\n"
     ]
    },
    {
     "ename": "KeyboardInterrupt",
     "evalue": "",
     "output_type": "error",
     "traceback": [
      "\u001b[0;31m---------------------------------------------------------------------------\u001b[0m",
      "\u001b[0;31mKeyboardInterrupt\u001b[0m                         Traceback (most recent call last)",
      "\u001b[0;32m<ipython-input-15-075dcb561b95>\u001b[0m in \u001b[0;36m<module>\u001b[0;34m()\u001b[0m\n\u001b[1;32m     13\u001b[0m             \u001b[0;31m#Run ABC\u001b[0m\u001b[0;34m\u001b[0m\u001b[0;34m\u001b[0m\u001b[0m\n\u001b[1;32m     14\u001b[0m             \u001b[0mstart_time\u001b[0m \u001b[0;34m=\u001b[0m \u001b[0mtimeit\u001b[0m\u001b[0;34m.\u001b[0m\u001b[0mdefault_timer\u001b[0m\u001b[0;34m(\u001b[0m\u001b[0;34m)\u001b[0m\u001b[0;34m\u001b[0m\u001b[0m\n\u001b[0;32m---> 15\u001b[0;31m             \u001b[0mPMC_run\u001b[0m \u001b[0;34m=\u001b[0m \u001b[0mABC_PMC\u001b[0m\u001b[0;34m(\u001b[0m\u001b[0mNormalPriorFunction\u001b[0m\u001b[0;34m,\u001b[0m\u001b[0mNormalPriorSampler\u001b[0m\u001b[0;34m,\u001b[0m \u001b[0mNormalLiklihoodSimulator\u001b[0m\u001b[0;34m,\u001b[0m \u001b[0mNormalSummary\u001b[0m\u001b[0;34m,\u001b[0m \u001b[0mtolerance_seq\u001b[0m\u001b[0;34m,\u001b[0m \u001b[0mdata\u001b[0m \u001b[0;34m,\u001b[0m \u001b[0msample_size\u001b[0m\u001b[0;34m)\u001b[0m\u001b[0;34m\u001b[0m\u001b[0m\n\u001b[0m\u001b[1;32m     16\u001b[0m             \u001b[0mrun_time_PMC\u001b[0m \u001b[0;34m+=\u001b[0m \u001b[0mtimeit\u001b[0m\u001b[0;34m.\u001b[0m\u001b[0mdefault_timer\u001b[0m\u001b[0;34m(\u001b[0m\u001b[0;34m)\u001b[0m \u001b[0;34m-\u001b[0m \u001b[0mstart_time\u001b[0m\u001b[0;34m\u001b[0m\u001b[0m\n\u001b[1;32m     17\u001b[0m             \u001b[0mniter_PMC\u001b[0m \u001b[0;34m+=\u001b[0m \u001b[0mPMC_run\u001b[0m\u001b[0;34m[\u001b[0m\u001b[0;36m1\u001b[0m\u001b[0;34m]\u001b[0m\u001b[0;34m\u001b[0m\u001b[0m\n",
      "\u001b[0;32m/Users/Giulio/OneDrive - University of Warwick/OxWaSP/Bayesian nonparametric/GirlsPlusGiulioProject/ABC_PMC.py\u001b[0m in \u001b[0;36mABC_PMC\u001b[0;34m(priorFunction, priorSampler, likelihoodSimulator, summaryStatistics, epsilon_array, data, n)\u001b[0m\n\u001b[1;32m    128\u001b[0m             \u001b[0msimulated_data\u001b[0m \u001b[0;34m=\u001b[0m \u001b[0mlikelihoodSimulator\u001b[0m\u001b[0;34m(\u001b[0m\u001b[0mnp\u001b[0m\u001b[0;34m.\u001b[0m\u001b[0mshape\u001b[0m\u001b[0;34m(\u001b[0m\u001b[0mdata\u001b[0m\u001b[0;34m)\u001b[0m\u001b[0;34m[\u001b[0m\u001b[0;36m0\u001b[0m\u001b[0;34m]\u001b[0m\u001b[0;34m,\u001b[0m \u001b[0msimulated_prior\u001b[0m\u001b[0;34m[\u001b[0m\u001b[0;36m0\u001b[0m\u001b[0;34m]\u001b[0m\u001b[0;34m)\u001b[0m \u001b[0;31m#simulate data\u001b[0m\u001b[0;34m\u001b[0m\u001b[0m\n\u001b[1;32m    129\u001b[0m             \u001b[0mtemporary_stat\u001b[0m \u001b[0;34m=\u001b[0m \u001b[0msummaryStatistics\u001b[0m\u001b[0;34m(\u001b[0m\u001b[0msimulated_data\u001b[0m\u001b[0;34m)\u001b[0m \u001b[0;31m#get statistics of simulated data\u001b[0m\u001b[0;34m\u001b[0m\u001b[0m\n\u001b[0;32m--> 130\u001b[0;31m             \u001b[0;32mif\u001b[0m \u001b[0mnp\u001b[0m\u001b[0;34m.\u001b[0m\u001b[0msum\u001b[0m\u001b[0;34m(\u001b[0m\u001b[0mnp\u001b[0m\u001b[0;34m.\u001b[0m\u001b[0msquare\u001b[0m\u001b[0;34m(\u001b[0m\u001b[0mnp\u001b[0m\u001b[0;34m.\u001b[0m\u001b[0msubtract\u001b[0m\u001b[0;34m(\u001b[0m\u001b[0mtemporary_stat\u001b[0m\u001b[0;34m,\u001b[0m \u001b[0mstat\u001b[0m\u001b[0;34m)\u001b[0m\u001b[0;34m)\u001b[0m\u001b[0;34m)\u001b[0m \u001b[0;34m<\u001b[0m \u001b[0mepsilon_array\u001b[0m\u001b[0;34m[\u001b[0m\u001b[0mt\u001b[0m\u001b[0;34m]\u001b[0m\u001b[0;34m*\u001b[0m\u001b[0mepsilon_array\u001b[0m\u001b[0;34m[\u001b[0m\u001b[0mt\u001b[0m\u001b[0;34m]\u001b[0m\u001b[0;34m:\u001b[0m\u001b[0;34m\u001b[0m\u001b[0m\n\u001b[0m\u001b[1;32m    131\u001b[0m                 \u001b[0;31m#Accept!\u001b[0m\u001b[0;34m\u001b[0m\u001b[0;34m\u001b[0m\u001b[0m\n\u001b[1;32m    132\u001b[0m                 \u001b[0mtheta_accepted\u001b[0m\u001b[0;34m.\u001b[0m\u001b[0mappend\u001b[0m\u001b[0;34m(\u001b[0m\u001b[0msimulated_prior\u001b[0m\u001b[0;34m[\u001b[0m\u001b[0;36m0\u001b[0m\u001b[0;34m]\u001b[0m\u001b[0;34m)\u001b[0m\u001b[0;34m\u001b[0m\u001b[0m\n",
      "\u001b[0;32m/Users/Giulio/anaconda/lib/python3.6/site-packages/numpy/core/fromnumeric.py\u001b[0m in \u001b[0;36msum\u001b[0;34m(a, axis, dtype, out, keepdims)\u001b[0m\n\u001b[1;32m   1843\u001b[0m             return _methods._sum(a, axis=axis, dtype=dtype,\n\u001b[1;32m   1844\u001b[0m                                 out=out, **kwargs)\n\u001b[0;32m-> 1845\u001b[0;31m         \u001b[0;32mreturn\u001b[0m \u001b[0msum\u001b[0m\u001b[0;34m(\u001b[0m\u001b[0maxis\u001b[0m\u001b[0;34m=\u001b[0m\u001b[0maxis\u001b[0m\u001b[0;34m,\u001b[0m \u001b[0mdtype\u001b[0m\u001b[0;34m=\u001b[0m\u001b[0mdtype\u001b[0m\u001b[0;34m,\u001b[0m \u001b[0mout\u001b[0m\u001b[0;34m=\u001b[0m\u001b[0mout\u001b[0m\u001b[0;34m,\u001b[0m \u001b[0;34m**\u001b[0m\u001b[0mkwargs\u001b[0m\u001b[0;34m)\u001b[0m\u001b[0;34m\u001b[0m\u001b[0m\n\u001b[0m\u001b[1;32m   1846\u001b[0m     \u001b[0;32melse\u001b[0m\u001b[0;34m:\u001b[0m\u001b[0;34m\u001b[0m\u001b[0m\n\u001b[1;32m   1847\u001b[0m         return _methods._sum(a, axis=axis, dtype=dtype,\n",
      "\u001b[0;32m/Users/Giulio/anaconda/lib/python3.6/site-packages/numpy/core/_methods.py\u001b[0m in \u001b[0;36m_sum\u001b[0;34m(a, axis, dtype, out, keepdims)\u001b[0m\n\u001b[1;32m     29\u001b[0m     \u001b[0;32mreturn\u001b[0m \u001b[0mumr_minimum\u001b[0m\u001b[0;34m(\u001b[0m\u001b[0ma\u001b[0m\u001b[0;34m,\u001b[0m \u001b[0maxis\u001b[0m\u001b[0;34m,\u001b[0m \u001b[0;32mNone\u001b[0m\u001b[0;34m,\u001b[0m \u001b[0mout\u001b[0m\u001b[0;34m,\u001b[0m \u001b[0mkeepdims\u001b[0m\u001b[0;34m)\u001b[0m\u001b[0;34m\u001b[0m\u001b[0m\n\u001b[1;32m     30\u001b[0m \u001b[0;34m\u001b[0m\u001b[0m\n\u001b[0;32m---> 31\u001b[0;31m \u001b[0;32mdef\u001b[0m \u001b[0m_sum\u001b[0m\u001b[0;34m(\u001b[0m\u001b[0ma\u001b[0m\u001b[0;34m,\u001b[0m \u001b[0maxis\u001b[0m\u001b[0;34m=\u001b[0m\u001b[0;32mNone\u001b[0m\u001b[0;34m,\u001b[0m \u001b[0mdtype\u001b[0m\u001b[0;34m=\u001b[0m\u001b[0;32mNone\u001b[0m\u001b[0;34m,\u001b[0m \u001b[0mout\u001b[0m\u001b[0;34m=\u001b[0m\u001b[0;32mNone\u001b[0m\u001b[0;34m,\u001b[0m \u001b[0mkeepdims\u001b[0m\u001b[0;34m=\u001b[0m\u001b[0;32mFalse\u001b[0m\u001b[0;34m)\u001b[0m\u001b[0;34m:\u001b[0m\u001b[0;34m\u001b[0m\u001b[0m\n\u001b[0m\u001b[1;32m     32\u001b[0m     \u001b[0;32mreturn\u001b[0m \u001b[0mumr_sum\u001b[0m\u001b[0;34m(\u001b[0m\u001b[0ma\u001b[0m\u001b[0;34m,\u001b[0m \u001b[0maxis\u001b[0m\u001b[0;34m,\u001b[0m \u001b[0mdtype\u001b[0m\u001b[0;34m,\u001b[0m \u001b[0mout\u001b[0m\u001b[0;34m,\u001b[0m \u001b[0mkeepdims\u001b[0m\u001b[0;34m)\u001b[0m\u001b[0;34m\u001b[0m\u001b[0m\n\u001b[1;32m     33\u001b[0m \u001b[0;34m\u001b[0m\u001b[0m\n",
      "\u001b[0;31mKeyboardInterrupt\u001b[0m: "
     ]
    }
   ],
   "source": [
    "#PMC benchmark for different values of T but fixed n\n",
    "sample_size_seq = [100,250,500,1000]\n",
    "\n",
    "PMC_benchmark2 = []\n",
    "for sample_size in sample_size_seq:\n",
    "    print(\"PMC 2 - \",float(sample_size_seq.index(sample_size))/len(sample_size_seq)*100,\"%\")\n",
    "    for T in range(2,11):\n",
    "        tolerance_seq = np.linspace(start=1, stop= 0.01, num=T)\n",
    "        run_time_PMC = 0\n",
    "        niter_PMC = 0\n",
    "        times_for_iteration_PMC = 0\n",
    "        for rep in range(k):\n",
    "            #Run ABC\n",
    "            start_time = timeit.default_timer()\n",
    "            PMC_run = ABC_PMC(NormalPriorFunction,NormalPriorSampler, NormalLiklihoodSimulator, NormalSummary, tolerance_seq, data , sample_size)\n",
    "            run_time_PMC += timeit.default_timer() - start_time\n",
    "            niter_PMC += PMC_run[1]\n",
    "            times_for_iteration_PMC += np.mean(PMC_run[2])\n",
    "        run_time_PMC /= k\n",
    "        niter_PMC /= k\n",
    "        times_for_iteration_PMC /= k\n",
    "        output_dict = {'T':T, 'sample_size': sample_size, 'run_time': run_time_PMC, 'niter':niter_PMC, 'times_1000_iter': times_for_iteration_PMC}\n",
    "        PMC_benchmark2.append(output_dict)\n",
    "\n",
    "file_name = \"data/PMC_benchmark2_k_\"+str(k)+\"_tol_\"+str(tolerance_seq[-1])+\"_num_\"+str(len(sample_size_seq))+\"_T_2_10.p\"\n",
    "pickle.dump(PMC_benchmark, open( file_name, \"wb\" ) ) #save result in a file\n",
    "#print(pd.DataFrame(PMC_benchmark2))\n",
    "print(\"PMC 2 - 100%\")"
   ]
  },
  {
   "cell_type": "code",
   "execution_count": null,
   "metadata": {
    "collapsed": true
   },
   "outputs": [],
   "source": [
    "print(\"DONE! :D\")"
   ]
  }
 ],
 "metadata": {
  "kernelspec": {
   "display_name": "Python 3",
   "language": "python",
   "name": "python3"
  },
  "language_info": {
   "codemirror_mode": {
    "name": "ipython",
    "version": 3
   },
   "file_extension": ".py",
   "mimetype": "text/x-python",
   "name": "python",
   "nbconvert_exporter": "python",
   "pygments_lexer": "ipython3",
   "version": "3.6.0"
  }
 },
 "nbformat": 4,
 "nbformat_minor": 2
}
