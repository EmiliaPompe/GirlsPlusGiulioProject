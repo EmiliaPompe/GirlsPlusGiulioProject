{
 "cells": [
  {
   "cell_type": "code",
   "execution_count": 1,
   "metadata": {
    "collapsed": false
   },
   "outputs": [
    {
     "name": "stdout",
     "output_type": "stream",
     "text": [
      "Populating the interactive namespace from numpy and matplotlib\n"
     ]
    }
   ],
   "source": [
    "%pylab inline\n",
    "import numpy as np\n",
    "import scipy as sc\n",
    "import pandas as pd\n",
    "\n",
    "import seaborn as sns\n",
    "#sns.set_style(\"whitegrid\")\n",
    "#sns.set_context(\"talk\")\n",
    "#rc('axes', labelsize=20, titlesize=20)\n",
    "\n",
    "import matplotlib.pyplot as plt\n",
    "import matplotlib.mlab as mlab\n",
    "import math\n",
    "import scipy.stats as ss\n",
    "\n",
    "import timeit\n",
    "import pickle\n",
    "\n",
    "from ABC_PMC import ABC_sample, ABC_PMC"
   ]
  },
  {
   "cell_type": "code",
   "execution_count": 2,
   "metadata": {
    "collapsed": true
   },
   "outputs": [],
   "source": [
    "######\n",
    "# set up for the normal ABC example\n",
    "######\n",
    "\n",
    "prior_mean = -4.0\n",
    "prior_sd = 3\n",
    "likelihood_sd = 1\n",
    "original_data_size = 100\n",
    "\n",
    "def NormalPriorFunction(x):\n",
    "    return ss.norm.pdf(x=x,loc=prior_mean, scale=prior_sd)\n",
    "\n",
    "def NormalPriorSampler(n):\n",
    "    return np.random.normal(loc=prior_mean, scale=prior_sd, size=n)\n",
    "\n",
    "def NormalLiklihoodSimulator(n, param):\n",
    "    #unknown mean\n",
    "    return np.random.normal(loc=param, scale=likelihood_sd, size=n)\n",
    "    \n",
    "def NormalSummary(data):\n",
    "    return np.mean(data, axis=0)\n",
    "\n",
    "data = np.random.normal(loc=0,scale=likelihood_sd,size=original_data_size)"
   ]
  },
  {
   "cell_type": "code",
   "execution_count": 15,
   "metadata": {
    "collapsed": true
   },
   "outputs": [],
   "source": [
    "k = 2\n",
    "requested_sample_size = np.linspace(start=50,stop=250,num=2)\n",
    "tolerance_seq = np.linspace(start=1, stop= 0.01, num=4) #T = 4"
   ]
  },
  {
   "cell_type": "code",
   "execution_count": 16,
   "metadata": {
    "collapsed": false
   },
   "outputs": [
    {
     "name": "stdout",
     "output_type": "stream",
     "text": [
      "      niter  run_time  sample_size  times_1000_iter\n",
      "0   27011.5  0.735801         50.0         0.027185\n",
      "1  132518.5  3.974384        250.0         0.029984\n"
     ]
    }
   ],
   "source": [
    "ABC_benchmark = []\n",
    "\n",
    "for sample_size in requested_sample_size:\n",
    "    run_time_ABC = 0\n",
    "    niter_ABC = 0\n",
    "    times_for_iteration_ABC = 0\n",
    "    for rep in range(k):\n",
    "        #Run ABC\n",
    "        start_time = timeit.default_timer()\n",
    "        ABC_run = ABC_sample(NormalPriorSampler, NormalLiklihoodSimulator, NormalSummary, tolerance_seq[-1], data , sample_size)\n",
    "        run_time_ABC += timeit.default_timer() - start_time\n",
    "        niter_ABC += ABC_run[1]\n",
    "        times_for_iteration_ABC += np.mean(ABC_run[2])\n",
    "    run_time_ABC /= k\n",
    "    niter_ABC /= k\n",
    "    times_for_iteration_ABC /= k\n",
    "    output_dict = {'sample_size': sample_size, 'run_time': run_time_ABC, 'niter':niter_ABC, 'times_1000_iter': times_for_iteration_ABC}\n",
    "    ABC_benchmark.append(output_dict)\n",
    "\n",
    "file_name = \"data/ABC_benchmark_k_\"+str(k)+\"_tol_\"+str(tolerance_seq[-1])+\"_num_\"+str(len(requested_sample_size))+\".p\"\n",
    "pickle.dump(ABC_benchmark, open( file_name, \"wb\" ) ) #save result in a file\n",
    "#You can load using:\n",
    "#test = pickle.load( open( \"data/ABC_benchmark_k_2_tol_001.p\", \"rb\" ) )\n",
    "\n",
    "print(pd.DataFrame(ABC_benchmark))\n",
    "\n"
   ]
  },
  {
   "cell_type": "code",
   "execution_count": 18,
   "metadata": {
    "collapsed": false
   },
   "outputs": [
    {
     "name": "stderr",
     "output_type": "stream",
     "text": [
      "/Users/Giulio/anaconda/lib/python3.6/site-packages/numpy/core/numeric.py:190: VisibleDeprecationWarning: using a non-integer number instead of an integer will result in an error in the future\n",
      "  a = empty(shape, dtype, order)\n"
     ]
    },
    {
     "name": "stdout",
     "output_type": "stream",
     "text": [
      "     niter  run_time  sample_size  times_1000_iter\n",
      "0   3206.5  0.296737         50.0         0.075285\n",
      "1  14966.0  1.804536        250.0         0.115797\n"
     ]
    }
   ],
   "source": [
    "PMC_benchmark = []\n",
    "\n",
    "for sample_size in requested_sample_size:\n",
    "    run_time_PMC = 0\n",
    "    niter_PMC = 0\n",
    "    times_for_iteration_PMC = 0\n",
    "    for rep in range(k):\n",
    "        #Run ABC\n",
    "        start_time = timeit.default_timer()\n",
    "        PMC_run = ABC_PMC(NormalPriorFunction,NormalPriorSampler, NormalLiklihoodSimulator, NormalSummary, tolerance_seq, data , sample_size)\n",
    "        run_time_PMC += timeit.default_timer() - start_time\n",
    "        niter_PMC += PMC_run[1]\n",
    "        times_for_iteration_PMC += np.mean(PMC_run[2])\n",
    "    run_time_PMC /= k\n",
    "    niter_PMC /= k\n",
    "    times_for_iteration_PMC /= k\n",
    "    output_dict = {'sample_size': sample_size, 'run_time': run_time_PMC, 'niter':niter_PMC, 'times_1000_iter': times_for_iteration_PMC}\n",
    "    PMC_benchmark.append(output_dict)\n",
    "    \n",
    "file_name = \"data/PMC_benchmark_k_\"+str(k)+\"_tol_\"+str(tolerance_seq[-1])+\"_num_\"+str(len(requested_sample_size))+\"_T_\"+str(len(tolerance_seq))+\".p\"\n",
    "pickle.dump(PMC_benchmark, open( file_name, \"wb\" ) ) #save result in a file\n",
    "#You can load using:\n",
    "#test = pickle.load( open( \"data/ABC_benchmark_k_2_tol_001.p\", \"rb\" ) )\n",
    "\n",
    "print(pd.DataFrame(PMC_benchmark))"
   ]
  },
  {
   "cell_type": "code",
   "execution_count": 19,
   "metadata": {
    "collapsed": false
   },
   "outputs": [
    {
     "name": "stdout",
     "output_type": "stream",
     "text": [
      "    T    niter  run_time  sample_size  times_1000_iter\n",
      "0   2  12474.5  1.051216          100         0.086168\n",
      "1   3   6893.5  0.608973          100         0.082191\n",
      "2   4   6022.5  0.538576          100         0.082121\n",
      "3   5   5689.0  0.527074          100         0.084157\n",
      "4   6   4388.0  0.476946          100         0.098917\n",
      "5   7   4866.0  0.501562          100         0.095021\n",
      "6   8   5248.5  0.555326          100         0.100381\n",
      "7   9   4953.0  0.553780          100         0.106747\n",
      "8  10   4594.5  0.540318          100         0.114261\n"
     ]
    }
   ],
   "source": [
    "#PMC benchmark for different values of T but fixed n\n",
    "sample_size_seq = [100,250,500,1000]\n",
    "\n",
    "PMC_benchmark2 = []\n",
    "for sample_size in sample_size_seq:\n",
    "    for T in range(2,11):\n",
    "        tolerance_seq = np.linspace(start=1, stop= 0.01, num=T)\n",
    "        run_time_PMC = 0\n",
    "        niter_PMC = 0\n",
    "        times_for_iteration_PMC = 0\n",
    "        for rep in range(k):\n",
    "            #Run ABC\n",
    "            start_time = timeit.default_timer()\n",
    "            PMC_run = ABC_PMC(NormalPriorFunction,NormalPriorSampler, NormalLiklihoodSimulator, NormalSummary, tolerance_seq, data , sample_size)\n",
    "            run_time_PMC += timeit.default_timer() - start_time\n",
    "            niter_PMC += PMC_run[1]\n",
    "            times_for_iteration_PMC += np.mean(PMC_run[2])\n",
    "        run_time_PMC /= k\n",
    "        niter_PMC /= k\n",
    "        times_for_iteration_PMC /= k\n",
    "        output_dict = {'T':T, 'sample_size': sample_size, 'run_time': run_time_PMC, 'niter':niter_PMC, 'times_1000_iter': times_for_iteration_PMC}\n",
    "        PMC_benchmark2.append(output_dict)\n",
    "\n",
    "file_name = \"data/PMC_benchmark2_k_\"+str(k)+\"_tol_\"+str(tolerance_seq[-1])+\"_num_\"+str(len(sample_size_seq))+\"_T_2_10.p\"\n",
    "pickle.dump(PMC_benchmark, open( file_name, \"wb\" ) ) #save result in a file\n",
    "print(pd.DataFrame(PMC_benchmark2))"
   ]
  }
 ],
 "metadata": {
  "kernelspec": {
   "display_name": "Python 2",
   "language": "python",
   "name": "python2"
  },
  "language_info": {
   "codemirror_mode": {
    "name": "ipython",
    "version": 2
   },
   "file_extension": ".py",
   "mimetype": "text/x-python",
   "name": "python",
   "nbconvert_exporter": "python",
   "pygments_lexer": "ipython2",
   "version": "2.7.13"
  }
 },
 "nbformat": 4,
 "nbformat_minor": 2
}
