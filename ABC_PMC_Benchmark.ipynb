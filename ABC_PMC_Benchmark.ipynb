{
 "cells": [
  {
   "cell_type": "code",
   "execution_count": 1,
   "metadata": {
    "collapsed": false
   },
   "outputs": [
    {
     "name": "stdout",
     "output_type": "stream",
     "text": [
      "Populating the interactive namespace from numpy and matplotlib\n"
     ]
    }
   ],
   "source": [
    "%pylab inline\n",
    "import numpy as np\n",
    "import scipy as sc\n",
    "import pandas as pd\n",
    "\n",
    "import seaborn as sns\n",
    "#sns.set_style(\"whitegrid\")\n",
    "#sns.set_context(\"talk\")\n",
    "#rc('axes', labelsize=20, titlesize=20)\n",
    "\n",
    "import matplotlib.pyplot as plt\n",
    "import matplotlib.mlab as mlab\n",
    "import math\n",
    "import scipy.stats as ss\n",
    "\n",
    "import timeit\n",
    "import pickle\n",
    "\n",
    "from ABC_PMC import ABC_sample, ABC_PMC"
   ]
  },
  {
   "cell_type": "code",
   "execution_count": 2,
   "metadata": {
    "collapsed": true
   },
   "outputs": [],
   "source": [
    "######\n",
    "# set up for the normal ABC example\n",
    "######\n",
    "\n",
    "prior_mean = -4.0\n",
    "prior_sd = 3\n",
    "likelihood_sd = 1\n",
    "original_data_size = 100\n",
    "\n",
    "def NormalPriorFunction(x):\n",
    "    return ss.norm.pdf(x=x,loc=prior_mean, scale=prior_sd)\n",
    "\n",
    "def NormalPriorSampler(n):\n",
    "    return np.random.normal(loc=prior_mean, scale=prior_sd, size=n)\n",
    "\n",
    "def NormalLiklihoodSimulator(n, param):\n",
    "    #unknown mean\n",
    "    return np.random.normal(loc=param, scale=likelihood_sd, size=n)\n",
    "    \n",
    "def NormalSummary(data):\n",
    "    return np.mean(data, axis=0)\n",
    "\n",
    "data = np.random.normal(loc=0,scale=likelihood_sd,size=original_data_size)"
   ]
  },
  {
   "cell_type": "code",
   "execution_count": 3,
   "metadata": {
    "collapsed": true
   },
   "outputs": [],
   "source": [
    "k = 1\n",
    "requested_sample_size = np.linspace(start=50,stop=250,num=2) #n=50,100,...,1000\n",
    "tolerance_seq = np.linspace(start=1, stop= 0.01, num=4) #T = 4"
   ]
  },
  {
   "cell_type": "code",
   "execution_count": 4,
   "metadata": {
    "collapsed": false
   },
   "outputs": [
    {
     "name": "stdout",
     "output_type": "stream",
     "text": [
      "      niter  run_time  sample_size  times_1000_iter\n",
      "0   36437.0  1.033790         50.0         0.028360\n",
      "1  280034.0  7.855256        250.0         0.028046\n"
     ]
    }
   ],
   "source": [
    "ABC_benchmark = []\n",
    "\n",
    "for sample_size in requested_sample_size:\n",
    "    run_time_ABC = 0\n",
    "    niter_ABC = 0\n",
    "    times_for_iteration_ABC = 0\n",
    "    for rep in range(k):\n",
    "        #Run ABC\n",
    "        start_time = timeit.default_timer()\n",
    "        ABC_run = ABC_sample(NormalPriorSampler, NormalLiklihoodSimulator, NormalSummary, tolerance_seq[-1], data , sample_size)\n",
    "        run_time_ABC += timeit.default_timer() - start_time\n",
    "        niter_ABC += ABC_run[1]\n",
    "        times_for_iteration_ABC += np.mean(ABC_run[2])\n",
    "    run_time_ABC /= k\n",
    "    niter_ABC /= k\n",
    "    times_for_iteration_ABC /= k\n",
    "    output_dict = {'sample_size': sample_size, 'run_time': run_time_ABC, 'niter':niter_ABC, 'times_1000_iter': times_for_iteration_ABC}\n",
    "    ABC_benchmark.append(output_dict)\n",
    "\n",
    "file_name = \"data/ABC_benchmark_k_\"+str(k)+\"_tol_\"+str(tolerance_seq[-1])+\"_num_\"+str(len(requested_sample_size))+\".p\"\n",
    "pickle.dump(ABC_benchmark, open( file_name, \"wb\" ) ) #save result in a file\n",
    "#You can load using:\n",
    "#test = pickle.load( open( \"data/ABC_benchmark_k_2_tol_001.p\", \"rb\" ) )\n",
    "\n",
    "print(pd.DataFrame(ABC_benchmark))\n",
    "\n"
   ]
  },
  {
   "cell_type": "code",
   "execution_count": 5,
   "metadata": {
    "collapsed": false
   },
   "outputs": [
    {
     "name": "stderr",
     "output_type": "stream",
     "text": [
      "/Users/Giulio/anaconda/lib/python3.6/site-packages/numpy/core/numeric.py:190: VisibleDeprecationWarning: using a non-integer number instead of an integer will result in an error in the future\n",
      "  a = empty(shape, dtype, order)\n"
     ]
    },
    {
     "name": "stdout",
     "output_type": "stream",
     "text": [
      "     niter  run_time  sample_size  times_1000_iter\n",
      "0   2906.0  0.263640         50.0         0.077234\n",
      "1  14514.0  1.506876        250.0         0.106948\n"
     ]
    }
   ],
   "source": [
    "PMC_benchmark = []\n",
    "\n",
    "for sample_size in requested_sample_size:\n",
    "    run_time_PMC = 0\n",
    "    niter_PMC = 0\n",
    "    times_for_iteration_PMC = 0\n",
    "    for rep in range(k):\n",
    "        #Run ABC\n",
    "        start_time = timeit.default_timer()\n",
    "        PMC_run = ABC_PMC(NormalPriorFunction,NormalPriorSampler, NormalLiklihoodSimulator, NormalSummary, tolerance_seq, data , sample_size)\n",
    "        run_time_PMC += timeit.default_timer() - start_time\n",
    "        niter_PMC += PMC_run[1]\n",
    "        times_for_iteration_PMC += np.mean(PMC_run[2])\n",
    "    run_time_PMC /= k\n",
    "    niter_PMC /= k\n",
    "    times_for_iteration_PMC /= k\n",
    "    output_dict = {'sample_size': sample_size, 'run_time': run_time_PMC, 'niter':niter_PMC, 'times_1000_iter': times_for_iteration_PMC}\n",
    "    PMC_benchmark.append(output_dict)\n",
    "    \n",
    "file_name = \"data/PMC_benchmark_k_\"+str(k)+\"_tol_\"+str(tolerance_seq[-1])+\"_num_\"+str(len(requested_sample_size))+\"_T_\"+str(len(tolerance_seq))+\".p\"\n",
    "pickle.dump(PMC_benchmark, open( file_name, \"wb\" ) ) #save result in a file\n",
    "#You can load using:\n",
    "#test = pickle.load( open( \"data/ABC_benchmark_k_2_tol_001.p\", \"rb\" ) )\n",
    "\n",
    "print(pd.DataFrame(PMC_benchmark))"
   ]
  },
  {
   "cell_type": "code",
   "execution_count": 6,
   "metadata": {
    "collapsed": false
   },
   "outputs": [
    {
     "name": "stdout",
     "output_type": "stream",
     "text": [
      "     T     niter   run_time  sample_size  times_1000_iter\n",
      "0    2   12479.0   1.037221          100         0.085873\n",
      "1    3    7477.0   0.691686          100         0.098793\n",
      "2    4    6304.0   0.590160          100         0.099651\n",
      "3    5    5457.0   0.523216          100         0.090059\n",
      "4    6    7024.0   0.664817          100         0.103961\n",
      "5    7    4778.0   0.492528          100         0.115082\n",
      "6    8    5556.0   0.562336          100         0.088681\n",
      "7    9    5819.0   0.673153          100         0.094303\n",
      "8   10    5488.0   0.606233          100         0.112405\n",
      "9    2   34587.0   3.106883          250         0.094811\n",
      "10   3   21336.0   2.171636          250         0.105756\n",
      "11   4   15114.0   1.614231          250         0.107263\n",
      "12   5   14320.0   1.600584          250         0.110996\n",
      "13   6   15428.0   1.722945          250         0.113317\n",
      "14   7   14143.0   1.655036          250         0.122066\n",
      "15   8   14456.0   1.739648          250         0.124704\n",
      "16   9   13385.0   1.665098          250         0.131968\n",
      "17  10   13035.0   1.715309          250         0.135804\n",
      "18   2   67982.0   6.180472          500         0.095794\n",
      "19   3   44175.0   5.944440          500         0.147874\n",
      "20   4   32770.0   4.262828          500         0.145588\n",
      "21   5   27903.0   3.945319          500         0.161990\n",
      "22   6   29416.0   4.300225          500         0.159657\n",
      "23   7   26786.0   4.013227          500         0.163271\n",
      "24   8   26395.0   3.982593          500         0.170782\n",
      "25   9   26354.0   3.949379          500         0.170136\n",
      "26  10   26278.0   4.041109          500         0.178770\n",
      "27   2  148101.0  13.982490         1000         0.099056\n",
      "28   3   80446.0  13.756774         1000         0.188064\n",
      "29   4   64551.0  11.518159         1000         0.201472\n",
      "30   5   56915.0  11.555728         1000         0.233718\n",
      "31   6   58446.0  11.657345         1000         0.232319\n",
      "32   7   55028.0  12.318943         1000         0.262842\n",
      "33   8   56052.0  12.409592         1000         0.253814\n",
      "34   9   55867.0  12.603017         1000         0.259118\n",
      "35  10   54010.0  11.147703         1000         0.240165\n"
     ]
    }
   ],
   "source": [
    "#PMC benchmark for different values of T but fixed n\n",
    "sample_size_seq = [100,250,500,1000]\n",
    "\n",
    "PMC_benchmark2 = []\n",
    "for sample_size in sample_size_seq:\n",
    "    for T in range(2,11):\n",
    "        tolerance_seq = np.linspace(start=1, stop= 0.01, num=T)\n",
    "        run_time_PMC = 0\n",
    "        niter_PMC = 0\n",
    "        times_for_iteration_PMC = 0\n",
    "        for rep in range(k):\n",
    "            #Run ABC\n",
    "            start_time = timeit.default_timer()\n",
    "            PMC_run = ABC_PMC(NormalPriorFunction,NormalPriorSampler, NormalLiklihoodSimulator, NormalSummary, tolerance_seq, data , sample_size)\n",
    "            run_time_PMC += timeit.default_timer() - start_time\n",
    "            niter_PMC += PMC_run[1]\n",
    "            times_for_iteration_PMC += np.mean(PMC_run[2])\n",
    "        run_time_PMC /= k\n",
    "        niter_PMC /= k\n",
    "        times_for_iteration_PMC /= k\n",
    "        output_dict = {'T':T, 'sample_size': sample_size, 'run_time': run_time_PMC, 'niter':niter_PMC, 'times_1000_iter': times_for_iteration_PMC}\n",
    "        PMC_benchmark2.append(output_dict)\n",
    "\n",
    "file_name = \"data/PMC_benchmark2_k_\"+str(k)+\"_tol_\"+str(tolerance_seq[-1])+\"_num_\"+str(len(sample_size_seq))+\"_T_2_10.p\"\n",
    "pickle.dump(PMC_benchmark, open( file_name, \"wb\" ) ) #save result in a file\n",
    "print(pd.DataFrame(PMC_benchmark2))"
   ]
  }
 ],
 "metadata": {
  "kernelspec": {
   "display_name": "Python 2",
   "language": "python",
   "name": "python2"
  },
  "language_info": {
   "codemirror_mode": {
    "name": "ipython",
    "version": 2
   },
   "file_extension": ".py",
   "mimetype": "text/x-python",
   "name": "python",
   "nbconvert_exporter": "python",
   "pygments_lexer": "ipython2",
   "version": "2.7.13"
  }
 },
 "nbformat": 4,
 "nbformat_minor": 2
}
