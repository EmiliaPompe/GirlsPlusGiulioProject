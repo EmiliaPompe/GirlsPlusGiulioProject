{
 "cells": [
  {
   "cell_type": "code",
   "execution_count": 37,
   "metadata": {
    "collapsed": false
   },
   "outputs": [
    {
     "name": "stdout",
     "output_type": "stream",
     "text": [
      "Populating the interactive namespace from numpy and matplotlib\n"
     ]
    }
   ],
   "source": [
    "%pylab inline\n",
    "import numpy as np\n",
    "import scipy as sc\n",
    "import pandas as pd\n",
    "\n",
    "import seaborn as sns\n",
    "\n",
    "import matplotlib.pyplot as plt\n",
    "import matplotlib.mlab as mlab\n",
    "import math\n",
    "import scipy.stats as ss\n",
    "from scipy import sparse\n",
    "\n",
    "from ABC_algorithm import ABC \n",
    "from ABC_algorithm import ABC \n",
    "\n",
    "#from post_adjusting_GK_corrected import PostProcessGK\n",
    "#from post_adjusting_GK_corrected import EpanechnikovKernel\n",
    "\n",
    "import statsmodels as sm\n",
    "from sklearn.linear_model import LinearRegression\n"
   ]
  },
  {
   "cell_type": "code",
   "execution_count": 38,
   "metadata": {
    "collapsed": true
   },
   "outputs": [],
   "source": [
    "def EpanechnikovKernel(t,delta,c=1):\n",
    "    if t<=delta:\n",
    "        return c*(1/delta)*(1-(t/delta)**2)\n",
    "    else:\n",
    "        return 0\n",
    "def PostProcessGK(df, Summary, data, name_param = 'param1', q=0.5,  weighted=True):\n",
    "    df_accepted = df[df['accept'] == 1]\n",
    "    #print df_accepted.head\n",
    "    accepted_count = len(df_accepted.index)\n",
    "    #print accepted_count\n",
    "    #print shape(data)[0]\n",
    "    if accepted_count <= shape(data)[0]:\n",
    "        print accepted_count, \"is number of accepted thetas\"\n",
    "\n",
    "    if accepted_count < 2:\n",
    "        print \"Post processing failed; too few accepted values.\"\n",
    "\n",
    "    summary = GKSummary(data)\n",
    "\n",
    "    #print df_accepted.statistics\n",
    "    #print Summary\n",
    "\n",
    "    df_accepted.statistics_diff = df_accepted.statistics.apply(lambda x: np.subtract(x,summary))\n",
    "    #print df_accepted.statistics_diff\n",
    "    df_accepted.statistics_diff_abs = df_accepted.statistics_diff.apply(lambda x: np.power(np.sum(np.square(x)),0.5))\n",
    "    #print df_accepted.statistics_diff_abs.shape\n",
    "    #df_accepted.statistics_diff_abs.hist(bins=100)\n",
    "    quantile = df_accepted.statistics_diff_abs.quantile(0.5) # shouled be ok\n",
    "    #plt.show()\n",
    "    #create column with kernal transform\n",
    "    df_accepted.kernel = df_accepted.statistics_diff_abs.apply(lambda x: EpanechnikovKernel(x, delta=quantile)) #diff_abs\n",
    "\n",
    "    mod = LinearRegression(fit_intercept=True, normalize=False, copy_X=True, n_jobs=1)\n",
    "    #print type(df_accepted.statistics_diff)\n",
    "    #X = np.array(df_accepted.statistics_diff) #list of vector\n",
    "\n",
    "    #Create X\n",
    "    size = shape(data)[0] #find a clever way to compute this!!!\n",
    "    X = np.empty([accepted_count, size])\n",
    "    i = 0\n",
    "    for row in df_accepted.statistics_diff:\n",
    "        X[i,] = row\n",
    "        i += 1\n",
    "\n",
    "    #print X\n",
    "    #print type(X)\n",
    "    #print shape(X)  \n",
    "    #X = df_accepted.statistics_diff.as_matrix()\n",
    "    #X.shape = (shape(X)[0], len(data))  \n",
    "    #X = np.reshape(X, (shape(X)[0], 100))\n",
    "    # df.reset_index().values\n",
    "    y = np.array(df_accepted[name_param])\n",
    "    y.shape = (shape(y)[0],1)\n",
    "    #print shape(y)eemilka\n",
    "    \n",
    "    #print type(y)\n",
    "    #print y\n",
    "    weights = np.array(df_accepted.kernel)\n",
    "    if weighted:\n",
    "        res = mod.fit(X, y, sample_weight=weights)\n",
    "    else: \n",
    "        res = mod.fit(X, y)\n",
    "        \n",
    "    beta = res.coef_[0]\n",
    "   \n",
    "    beta.shape = (shape(beta)[0], 1)\n",
    "   \n",
    "    \n",
    "    part_res = np.matmul(X, beta)\n",
    "    #print shape(part_res)\n",
    "    #print shape(y)\n",
    "    res = np.subtract(y, part_res)\n",
    "    return res"
   ]
  },
  {
   "cell_type": "code",
   "execution_count": 39,
   "metadata": {
    "collapsed": true
   },
   "outputs": [],
   "source": [
    "def SimulateGK(n, param):  #B>0, K>-1/2 #param is a vector of A, B, g, k\n",
    "    A, B, g, k = param[0], param[1], param[2], param[3]\n",
    "    u_values = np.random.uniform(low=0.0, high=1.0, size=n)\n",
    "    x_values = np.zeros(n)\n",
    "    for i in range(0,n):\n",
    "        x_values[i] = A + B*(1+0.8*(1-np.exp(-g*sc.stats.norm.ppf(u_values[i], 0, 1) )) /(1 + np.exp(-g*sc.stats.norm.ppf(u_values[i], 0, 1) ))) *np.power((1+ np.power(sc.stats.norm.ppf(u_values[i], 0, 1),2)),k)*(sc.stats.norm.ppf(u_values[i], 0, 1))    \n",
    "    return x_values\n",
    "\n",
    "\n",
    "param = [3,1,2,0.5]\n",
    "data = SimulateGK(10, param) # only 10 datapoints\n",
    "\n",
    "def GKPriorSampler(n): \n",
    "    l = []\n",
    "    for i in range(n):\n",
    "        l.append(np.random.uniform(low=0.0, high=10.0, size=4)) # we assume uniform [1,10] prior for all 4 parameters\n",
    "    return l\n",
    "\n",
    "def GKLiklihoodSimulator(n, param):\n",
    "    #unknown mean\n",
    "    return SimulateGK(n, param)\n",
    "    \n",
    "def GKSummary(data):\n",
    "    return np.sort(data)  #The summary statistic is the identity function. No transformation on the data. \n"
   ]
  },
  {
   "cell_type": "code",
   "execution_count": 40,
   "metadata": {
    "collapsed": true
   },
   "outputs": [],
   "source": [
    "epsilon_count = 2\n",
    "epsilon = 900\n",
    "epsilon_increment = 400\n",
    "\n",
    "k = 5\n",
    "n = 10000\n",
    "\n",
    "def calc_error(dist_from_truth, abc_post_means, epsilon, error_epsilon_list):\n",
    "    #print dist_from_truth\n",
    "    squared_dist_from_truth = np.power(dist_from_truth,2)\n",
    "    mse = np.mean(squared_dist_from_truth)\n",
    "    mse_err = 1.96*np.std(squared_dist_from_truth)\n",
    "\n",
    "    mc_bias = np.mean(dist_from_truth)\n",
    "    mc_bias_err = 1.96*np.std(dist_from_truth)\n",
    "\n",
    "    var = np.var(abc_post_means)\n",
    "\n",
    "    mse_check = np.add(var, np.power(mc_bias,2))\n",
    "\n",
    "    error_epsilon_list.append({'epsilon':epsilon,\n",
    "                               'bias':mc_bias, 'bias_err':mc_bias_err, \n",
    "                               'mse':mse, 'mse_err':mse_err,\n",
    "                               'var':var,\n",
    "                               'mse_check':mse_check\n",
    "                              })\n",
    "    return error_epsilon_list"
   ]
  },
  {
   "cell_type": "markdown",
   "metadata": {},
   "source": [
    "## Calculating MSE for different values of $\\epsilon$"
   ]
  },
  {
   "cell_type": "code",
   "execution_count": 41,
   "metadata": {
    "collapsed": false
   },
   "outputs": [
    {
     "name": "stdout",
     "output_type": "stream",
     "text": [
      "post mean 1.8372297268\n",
      "without_post_mean 4.99536847988\n",
      "post mean 1.8996642802\n",
      "without_post_mean 5.08789424246\n",
      "post mean 2.0892033485\n",
      "without_post_mean 5.07089182151\n",
      "post mean 2.0550718389\n",
      "without_post_mean 4.96249658047\n",
      "post mean 1.99443172837\n",
      "without_post_mean 5.04846547469\n",
      "post mean 2.45795645674\n",
      "without_post_mean 4.99574839147\n",
      "post mean 1.86098395534\n",
      "without_post_mean 4.95573966465\n",
      "post mean 1.77791196984\n",
      "without_post_mean 4.96758670484\n",
      "post mean 1.81466480801\n",
      "without_post_mean 4.9784016235\n",
      "post mean 1.55736594605\n",
      "without_post_mean 4.89611090955\n"
     ]
    }
   ],
   "source": [
    "# for param1\n",
    "post_mean = 3\n",
    "error_epsilon_list = []\n",
    "pp_error_epsilon_list = []\n",
    "\n",
    "for e in range(epsilon_count):\n",
    "    epsilon = epsilon + epsilon_increment\n",
    "    \n",
    "    #print \"epsilon:{}\".format(epsilon)\n",
    "\n",
    "    abc_post_means = []\n",
    "    pp_abc_post_means = []\n",
    "    dist_from_truth = []\n",
    "    pp_dist_from_truth = []\n",
    "\n",
    "    for i in range(k):\n",
    "        ## we will do abc k times for each epsilon\n",
    "        # print \"Iteration:{}\".format(i)\n",
    "        df_ei = ABC(GKPriorSampler, GKLiklihoodSimulator,GKSummary, epsilon, data, n)\n",
    "    \n",
    "        df_ei['param1'] = df_ei['theta'].apply(lambda x: x[0]) #selecting the FIRST parameter of the par list (A) \n",
    "                                                 #and assigning it to a new col of df\n",
    "        df_ei['param2'] = df_ei['theta'].apply(lambda x: x[1]) #selecting the SECOND parameter of the par list (B) \n",
    "                                                 #and assigning it to a new col of df\n",
    "        df_ei['param3'] = df_ei['theta'].apply(lambda x: x[2]) #selecting the SECOND parameter of the par list (G) \n",
    "                                                 #and assigning it to a new col of df\n",
    "        df_ei['param4'] = df_ei['theta'].apply(lambda x: x[3]) #selecting the SECOND parameter of the par list (k) \n",
    "                                             \n",
    "    \n",
    "        df_abc_accepted = df_ei[df_ei.accept == 1]\n",
    "        count_accepted = len(df_abc_accepted.index)\n",
    "        #print count_accepted\n",
    "        if count_accepted < 20:\n",
    "            #print \"Not doing post adjustment\"\n",
    "            pp_abc_post_means.append(np.nan)\n",
    "            pp_dist_from_truth.append(np.nan)\n",
    "        else:\n",
    "            ## also post process the ABC output\n",
    "            \n",
    "            df_abc_accepted_post_processed = PostProcessGK(df_ei, GKSummary, data, name_param = 'param1', weighted=True)\n",
    "            #df_abc_accepted_post_processed = df_ei\n",
    "            pp_abc_post_mean = df_abc_accepted_post_processed.mean()\n",
    "            pp_abc_post_means.append(pp_abc_post_mean)\n",
    "            print \"post mean\", pp_abc_post_mean\n",
    "            pp_dist_from_truth.append(abs(pp_abc_post_mean - post_mean))\n",
    "\n",
    "            ## store k abc posterior means w and w/out post processing (pp)\n",
    "        abc_post_mean = df_abc_accepted.param1.mean()\n",
    "        abc_post_means.append(abc_post_mean)\n",
    "        print \"without_post_mean\", abc_post_mean\n",
    "        ## and store dist of this from truth\n",
    "        dist_from_truth.append(abs(abc_post_mean - post_mean))\n",
    "        \n",
    "    error_epsilon_list = calc_error(dist_from_truth, abc_post_means, epsilon, error_epsilon_list)\n",
    "    pp_error_epsilon_list = calc_error(pp_dist_from_truth, pp_abc_post_means, epsilon, pp_error_epsilon_list)\n",
    "\n",
    "    \n",
    "mse_df = pd.DataFrame(error_epsilon_list)\n",
    "pp_mse_df = pd.DataFrame(pp_error_epsilon_list)"
   ]
  },
  {
   "cell_type": "code",
   "execution_count": 42,
   "metadata": {
    "collapsed": false
   },
   "outputs": [
    {
     "name": "stdout",
     "output_type": "stream",
     "text": [
      "       bias  bias_err  epsilon       mse  mse_check   mse_err       var\n",
      "0  2.033023  0.092246     1300  4.135399   4.135399  0.373579  0.002215\n",
      "1  1.958717  0.066558     1700  3.837727   3.837727  0.258595  0.001153\n",
      "       bias  bias_err  epsilon       mse  mse_check   mse_err       var\n",
      "0  1.024880  0.184880     1300  1.059276   1.059276  0.383501  0.008898\n",
      "1  1.106223  0.589455     1700  1.314176   1.314176  1.132789  0.090446\n"
     ]
    }
   ],
   "source": [
    "print mse_df.head()\n",
    "print pp_mse_df.head()"
   ]
  },
  {
   "cell_type": "code",
   "execution_count": 22,
   "metadata": {
    "collapsed": false
   },
   "outputs": [
    {
     "data": {
      "text/plain": [
       "<matplotlib.legend.Legend at 0x7ff804ff9ad0>"
      ]
     },
     "execution_count": 22,
     "metadata": {},
     "output_type": "execute_result"
    },
    {
     "data": {
      "image/png": "[encoded data removed]",
      "text/plain": [
       "<matplotlib.figure.Figure at 0x7ff804ff97d0>"
      ]
     },
     "metadata": {},
     "output_type": "display_data"
    }
   ],
   "source": [
    "sns.regplot(x=mse_df.epsilon, y=mse_df.mse, marker=\"+\", fit_reg=False, label='ABC')\n",
    "sns.regplot(x=pp_mse_df.epsilon, y=pp_mse_df.mse, marker=\"+\", fit_reg=False, label='ABC w/ post processing')\n",
    "#plt.errorbar(x=mse_df.epsilon, y=mse_df.mse, yerr=mse_df.mse_err, linestyle=\"None\")\n",
    "plt.xlabel(r'\\epsilon')\n",
    "plt.ylabel(r'MSE')\n",
    "plt.title(r'$n=1000, k=100$')\n",
    "plt.legend(loc='upper left')\n",
    "#plt.savefig('plots/gk_mse_epsilon.pdf')"
   ]
  }
 ],
 "metadata": {
  "kernelspec": {
   "display_name": "Python 2",
   "language": "python",
   "name": "python2"
  },
  "language_info": {
   "codemirror_mode": {
    "name": "ipython",
    "version": 2
   },
   "file_extension": ".py",
   "mimetype": "text/x-python",
   "name": "python",
   "nbconvert_exporter": "python",
   "pygments_lexer": "ipython2",
   "version": "2.7.13"
  }
 },
 "nbformat": 4,
 "nbformat_minor": 2
}
