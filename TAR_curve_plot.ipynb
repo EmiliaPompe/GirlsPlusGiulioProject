{
 "cells": [
  {
   "cell_type": "code",
   "execution_count": 1,
   "metadata": {
    "collapsed": false
   },
   "outputs": [
    {
     "name": "stdout",
     "output_type": "stream",
     "text": [
      "Populating the interactive namespace from numpy and matplotlib\n"
     ]
    },
    {
     "name": "stderr",
     "output_type": "stream",
     "text": [
      ":0: FutureWarning: IPython widgets are experimental and may change in the future.\n"
     ]
    }
   ],
   "source": [
    "%pylab inline\n",
    "import numpy as np\n",
    "import scipy as sc\n",
    "import pandas as pd\n",
    "\n",
    "import seaborn as sns\n",
    "#sns.set_style(\"whitegrid\")\n",
    "#sns.set_context(\"talk\")\n",
    "#rc('axes', labelsize=20, titlesize=20)\n",
    "\n",
    "import matplotlib.pyplot as plt\n",
    "import matplotlib.mlab as mlab\n",
    "import math\n",
    "import scipy.stats as ss\n",
    "\n",
    "import pickle\n",
    "import gc \n",
    "import timeit\n",
    "from ABC_algorithm import ABC"
   ]
  },
  {
   "cell_type": "code",
   "execution_count": 2,
   "metadata": {
    "collapsed": true
   },
   "outputs": [],
   "source": [
    "######\n",
    "# set up for the normal ABC example\n",
    "######\n",
    "\n",
    "prior_mean = -4.0\n",
    "prior_sd = 3\n",
    "likelihood_sd = 1\n",
    "\n",
    "def NormalPriorSampler(n):\n",
    "    return np.random.normal(loc=prior_mean, scale=prior_sd, size=n)\n",
    "\n",
    "def NormalLiklihoodSimulator(n, param):\n",
    "    #unknown mean\n",
    "    return np.random.normal(loc=param, scale=likelihood_sd, size=n)\n",
    "    \n",
    "def NormalSummary(data):\n",
    "    return np.mean(data, axis=0)\n",
    "\n",
    "data = np.random.normal(loc=0,scale=likelihood_sd,size=100)"
   ]
  },
  {
   "cell_type": "code",
   "execution_count": 3,
   "metadata": {
    "collapsed": false
   },
   "outputs": [],
   "source": [
    "######\n",
    "# set up for the g and k distribution\n",
    "######\n",
    "\n",
    "def SimulateGK(n, param):  #B>0, K>-1/2 #param is a vector of A, B, g, k\n",
    "    A, B, g, k = param[0], param[1], param[2], param[3]\n",
    "    u_values = np.random.uniform(low=0.0, high=1.0, size=n)\n",
    "    x_values = np.zeros(n)\n",
    "    for i in range(0,n):\n",
    "        x_values[i] = A + B*(1+0.8*(1-np.exp(-g*sc.stats.norm.ppf(u_values[i], 0, 1) )) /(1 + np.exp(-g*sc.stats.norm.ppf(u_values[i], 0, 1) ))) *np.power((1+ np.power(sc.stats.norm.ppf(u_values[i], 0, 1),2)),k)*(sc.stats.norm.ppf(u_values[i], 0, 1))    \n",
    "    return x_values\n",
    "\n",
    "def GKPriorSampler(n):\n",
    "    l = []\n",
    "    for i in range(n):\n",
    "        l.append(np.random.uniform(low=0.0, high=10.0, size=4)) # we assume uniform [1,10] prior for all 4 parameters\n",
    "    return l\n",
    "\n",
    "def GKLiklihoodSimulator(n, param):\n",
    "    #unknown mean\n",
    "    return SimulateGK(n, param)\n",
    "    \n",
    "def GKSummary(data):\n",
    "    return np.sort(data)\n",
    "\n",
    "\n",
    "data_gk = SimulateGK(100, [3, 1, 2, 0.5])"
   ]
  },
  {
   "cell_type": "code",
   "execution_count": 6,
   "metadata": {
    "collapsed": false
   },
   "outputs": [
    {
     "name": "stdout",
     "output_type": "stream",
     "text": [
      "10.7002675190015\n"
     ]
    }
   ],
   "source": [
    "start_time = timeit.default_timer()\n",
    "ABC(GKPriorSampler, GKLiklihoodSimulator, GKSummary, 1000, data_gk , 200)\n",
    "print(timeit.default_timer() - start_time)"
   ]
  },
  {
   "cell_type": "code",
   "execution_count": 22,
   "metadata": {
    "collapsed": false
   },
   "outputs": [
    {
     "name": "stdout",
     "output_type": "stream",
     "text": [
      "0.0\n",
      "0.10101010101\n",
      "0.20202020202\n",
      "0.30303030303\n",
      "0.40404040404\n",
      "0.505050505051\n",
      "0.606060606061\n",
      "0.707070707071\n",
      "0.808080808081\n",
      "0.909090909091\n",
      "1.0101010101\n",
      "1.11111111111\n",
      "1.21212121212\n",
      "1.31313131313\n",
      "1.41414141414\n",
      "1.51515151515\n",
      "1.61616161616\n",
      "1.71717171717\n",
      "1.81818181818\n",
      "1.91919191919\n",
      "2.0202020202\n",
      "2.12121212121\n",
      "2.22222222222\n",
      "2.32323232323\n",
      "2.42424242424\n",
      "2.52525252525\n",
      "2.62626262626\n",
      "2.72727272727\n",
      "2.82828282828\n",
      "2.92929292929\n",
      "3.0303030303\n",
      "3.13131313131\n",
      "3.23232323232\n",
      "3.33333333333\n",
      "3.43434343434\n",
      "3.53535353535\n",
      "3.63636363636\n",
      "3.73737373737\n",
      "3.83838383838\n",
      "3.93939393939\n",
      "4.0404040404\n",
      "4.14141414141\n",
      "4.24242424242\n",
      "4.34343434343\n",
      "4.44444444444\n",
      "4.54545454545\n",
      "4.64646464646\n",
      "4.74747474747\n",
      "4.84848484848\n",
      "4.94949494949\n",
      "5.05050505051\n",
      "5.15151515152\n",
      "5.25252525253\n",
      "5.35353535354\n",
      "5.45454545455\n",
      "5.55555555556\n",
      "5.65656565657\n",
      "5.75757575758\n",
      "5.85858585859\n",
      "5.9595959596\n",
      "6.06060606061\n",
      "6.16161616162\n",
      "6.26262626263\n",
      "6.36363636364\n",
      "6.46464646465\n",
      "6.56565656566\n",
      "6.66666666667\n",
      "6.76767676768\n",
      "6.86868686869\n",
      "6.9696969697\n",
      "7.07070707071\n",
      "7.17171717172\n",
      "7.27272727273\n",
      "7.37373737374\n",
      "7.47474747475\n",
      "7.57575757576\n",
      "7.67676767677\n",
      "7.77777777778\n",
      "7.87878787879\n",
      "7.9797979798\n",
      "8.08080808081\n",
      "8.18181818182\n",
      "8.28282828283\n",
      "8.38383838384\n",
      "8.48484848485\n",
      "8.58585858586\n",
      "8.68686868687\n",
      "8.78787878788\n",
      "8.88888888889\n",
      "8.9898989899\n",
      "9.09090909091\n",
      "9.19191919192\n",
      "9.29292929293\n",
      "9.39393939394\n",
      "9.49494949495\n",
      "9.59595959596\n",
      "9.69696969697\n",
      "9.79797979798\n",
      "9.89898989899\n",
      "10.0\n"
     ]
    }
   ],
   "source": [
    "epsilon_seq = np.linspace(start=0, stop=10, num = 100)\n",
    "n = 10000\n",
    "k = 20\n",
    "accepted_ratio = []\n",
    "#Run abc with these epsilon and get the ratio of accepted samples\n",
    "output_list = []\n",
    "\n",
    "for eps in epsilon_seq:\n",
    "    print eps\n",
    "    aux = 0\n",
    "    for rep in range(k):\n",
    "        ABC_run = ABC(NormalPriorSampler, NormalLiklihoodSimulator, NormalSummary, eps, data , n)\n",
    "        output_dict = {'eps': eps, 'accept ratio':sum(ABC_run.accept)/float(n)}\n",
    "        output_list.append(output_dict)\n",
    "        aux=aux+sum(ABC_run.accept)/n\n",
    "    accepted_ratio.append(aux/k)\n",
    "    \n",
    "pickle.dump(output_list, open( \"data/acceptance_rate_normal.p\", \"wb\" ) )"
   ]
  },
  {
   "cell_type": "code",
   "execution_count": 42,
   "metadata": {
    "collapsed": false
   },
   "outputs": [
    {
     "data": {
      "text/plain": [
       "\"\\nprint(accepted_ratio)\\nplt.plot(epsilon_seq, accepted_ratio, '-')\\nplt.xlabel(r'$\\\\epsilon$', fontsize=18)\\nplt.ylabel('Acceptance rate', fontsize=18)\\nplt.savefig('plots/TAR_curve_normal.pdf')\\nplt.show()\\n\""
      ]
     },
     "execution_count": 42,
     "metadata": {},
     "output_type": "execute_result"
    },
    {
     "data": {
      "image/png": "[encoded data removed]",
      "text/plain": [
       "<matplotlib.figure.Figure at 0x7f351f311090>"
      ]
     },
     "metadata": {},
     "output_type": "display_data"
    }
   ],
   "source": [
    "df_normal = pd.DataFrame(output_list)\n",
    "df_normal_mean = df_normal.groupby(\"eps\", as_index=False).mean()\n",
    "df_normal_var = df_normal.groupby(\"eps\", as_index=False).var()\n",
    "\n",
    "\n",
    "plt.plot(df_normal_mean.eps, df_normal_mean[\"accept ratio\"], '-')\n",
    "plt.fill_between(df_normal_mean.eps, df_normal_mean[\"accept ratio\"]-sqrt(df_normal_var[\"accept ratio\"]),\n",
    "                 df_normal_mean[\"accept ratio\"]+sqrt(df_normal_var[\"accept ratio\"]))\n",
    "\n",
    "'''\n",
    "print(accepted_ratio)\n",
    "plt.plot(epsilon_seq, accepted_ratio, '-')\n",
    "plt.xlabel(r'$\\epsilon$', fontsize=18)\n",
    "plt.ylabel('Acceptance rate', fontsize=18)\n",
    "plt.savefig('plots/TAR_curve_normal.pdf')\n",
    "plt.show()\n",
    "'''"
   ]
  },
  {
   "cell_type": "code",
   "execution_count": 8,
   "metadata": {
    "collapsed": false
   },
   "outputs": [
    {
     "name": "stdout",
     "output_type": "stream",
     "text": [
      "0.0 %\n",
      "10.0 %\n",
      "20.0 %\n",
      "30.0 %\n",
      "40.0 %\n",
      "50.0 %\n",
      "60.0 %\n",
      "70.0 %\n",
      "80.0 %\n",
      "90.0 %\n",
      "DONE :D\n"
     ]
    }
   ],
   "source": [
    "## TAR curve for g and k distribution\n",
    "epsilon_seq = np.linspace(start=0, stop=5000, num = 50)\n",
    "n = 200\n",
    "k = 20\n",
    "counter = 0\n",
    "accepted_ratio = []\n",
    "output_list = []\n",
    "#Run abc with these epsilon and get the ratio of accepted samples\n",
    "\n",
    "for eps in epsilon_seq:\n",
    "    print(float(counter/len(epsilon_seq))*100,\"%\")\n",
    "    counter += 1\n",
    "    aux = 0\n",
    "    for rep in range(k):\n",
    "        ABC_run = ABC(GKPriorSampler, GKLiklihoodSimulator, GKSummary, eps, data_gk , n)\n",
    "        output_dict = {'eps': eps, 'accept ratio':sum(ABC_run.accept)/float(n)}\n",
    "        output_list.append(output_dict)\n",
    "        aux=aux+sum(ABC_run.accept)/n\n",
    "    accepted_ratio.append(aux/k)\n",
    "    \n",
    "print(\"DONE :D\")\n",
    "    \n",
    "pickle.dump(output_list, open( \"data/acceptance_rate_gk.p\", \"wb\" ) )"
   ]
  },
  {
   "cell_type": "code",
   "execution_count": 9,
   "metadata": {
    "collapsed": false
   },
   "outputs": [
    {
     "name": "stdout",
     "output_type": "stream",
     "text": [
      "[0.0, 0.165, 0.23, 0.26, 0.265, 0.285, 0.28, 0.3, 0.285, 0.3]\n"
     ]
    },
    {
     "data": {
      "image/png": "[encoded data removed]",
      "text/plain": [
       "<matplotlib.figure.Figure at 0x112a43fd0>"
      ]
     },
     "metadata": {},
     "output_type": "display_data"
    }
   ],
   "source": [
    "print(accepted_ratio)\n",
    "plt.plot(epsilon_seq, accepted_ratio, '-')\n",
    "plt.xlabel(r'$\\epsilon$', fontsize=18)\n",
    "plt.ylabel('Acceptance rate', fontsize=18)\n",
    "plt.savefig('plots/TAR_curve_gk_distribution.pdf')\n",
    "plt.show()"
   ]
  }
 ],
 "metadata": {
  "kernelspec": {
   "display_name": "Python 2",
   "language": "python",
   "name": "python2"
  },
  "language_info": {
   "codemirror_mode": {
    "name": "ipython",
    "version": 2
   },
   "file_extension": ".py",
   "mimetype": "text/x-python",
   "name": "python",
   "nbconvert_exporter": "python",
   "pygments_lexer": "ipython2",
   "version": "2.7.13"
  }
 },
 "nbformat": 4,
 "nbformat_minor": 2
}
