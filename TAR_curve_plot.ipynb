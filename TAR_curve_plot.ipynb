{
 "cells": [
  {
   "cell_type": "code",
   "execution_count": 1,
   "metadata": {
    "collapsed": false
   },
   "outputs": [
    {
     "name": "stdout",
     "output_type": "stream",
     "text": [
      "Populating the interactive namespace from numpy and matplotlib\n"
     ]
    }
   ],
   "source": [
    "%pylab inline\n",
    "import numpy as np\n",
    "import scipy as sc\n",
    "import pandas as pd\n",
    "\n",
    "import seaborn as sns\n",
    "#sns.set_style(\"whitegrid\")\n",
    "#sns.set_context(\"talk\")\n",
    "#rc('axes', labelsize=20, titlesize=20)\n",
    "\n",
    "import matplotlib.pyplot as plt\n",
    "import matplotlib.mlab as mlab\n",
    "import math\n",
    "import scipy.stats as ss\n",
    "\n",
    "import pickle\n",
    "import gc \n",
    "import timeit\n",
    "from ABC_algorithm import ABC"
   ]
  },
  {
   "cell_type": "code",
   "execution_count": 2,
   "metadata": {
    "collapsed": true
   },
   "outputs": [],
   "source": [
    "######\n",
    "# set up for the normal ABC example\n",
    "######\n",
    "\n",
    "prior_mean = -4.0\n",
    "prior_sd = 3\n",
    "likelihood_sd = 1\n",
    "\n",
    "def NormalPriorSampler(n):\n",
    "    return np.random.normal(loc=prior_mean, scale=prior_sd, size=n)\n",
    "\n",
    "def NormalLiklihoodSimulator(n, param):\n",
    "    #unknown mean\n",
    "    return np.random.normal(loc=param, scale=likelihood_sd, size=n)\n",
    "    \n",
    "def NormalSummary(data):\n",
    "    return np.mean(data, axis=0)\n",
    "\n",
    "data = np.random.normal(loc=0,scale=likelihood_sd,size=100)"
   ]
  },
  {
   "cell_type": "code",
   "execution_count": 11,
   "metadata": {
    "collapsed": false
   },
   "outputs": [],
   "source": [
    "######\n",
    "# set up for the g and k distribution\n",
    "######\n",
    "\n",
    "def SimulateGK(n, param):  #B>0, K>-1/2 #param is a vector of A, B, g, k\n",
    "    A, B, g, k = param[0], param[1], param[2], param[3]\n",
    "    u_values = np.random.uniform(low=0.0, high=1.0, size=n)\n",
    "    x_values = np.zeros(n)\n",
    "    for i in range(0,n):\n",
    "        x_values[i] = A + B*(1+0.8*(1-np.exp(-g*sc.stats.norm.ppf(u_values[i], 0, 1) )) /(1 + np.exp(-g*sc.stats.norm.ppf(u_values[i], 0, 1) ))) *np.power((1+ np.power(sc.stats.norm.ppf(u_values[i], 0, 1),2)),k)*(sc.stats.norm.ppf(u_values[i], 0, 1))    \n",
    "    return x_values\n",
    "\n",
    "def GKPriorSampler(n):\n",
    "    l = []\n",
    "    for i in range(n):\n",
    "        l.append(np.random.uniform(low=0.0, high=10.0, size=4)) # we assume uniform [1,10] prior for all 4 parameters\n",
    "    return l\n",
    "\n",
    "def GKLiklihoodSimulator(n, param):\n",
    "    #unknown mean\n",
    "    return SimulateGK(n, param)\n",
    "    \n",
    "def GKSummary(data):\n",
    "    return np.sort(data)\n",
    "\n",
    "data_gk = SimulateGK(25, [3, 1, 2, 0.5])"
   ]
  },
  {
   "cell_type": "code",
   "execution_count": 14,
   "metadata": {
    "collapsed": false
   },
   "outputs": [
    {
     "name": "stdout",
     "output_type": "stream",
     "text": [
      "12.526547687004495\n"
     ]
    }
   ],
   "source": [
    "start_time = timeit.default_timer()\n",
    "ABC(GKPriorSampler, GKLiklihoodSimulator, GKSummary, 0.01, data_gk , 1000)\n",
    "print(timeit.default_timer() - start_time)"
   ]
  },
  {
   "cell_type": "code",
   "execution_count": 4,
   "metadata": {
    "collapsed": false
   },
   "outputs": [
    {
     "ename": "NameError",
     "evalue": "name 'pickle' is not defined",
     "output_type": "error",
     "traceback": [
      "\u001b[0;31m---------------------------------------------------------------------------\u001b[0m",
      "\u001b[0;31mNameError\u001b[0m                                 Traceback (most recent call last)",
      "\u001b[0;32m<ipython-input-4-a93f69213b18>\u001b[0m in \u001b[0;36m<module>\u001b[0;34m()\u001b[0m\n\u001b[1;32m     15\u001b[0m     \u001b[0maccepted_ratio\u001b[0m\u001b[0;34m.\u001b[0m\u001b[0mappend\u001b[0m\u001b[0;34m(\u001b[0m\u001b[0maux\u001b[0m\u001b[0;34m/\u001b[0m\u001b[0mk\u001b[0m\u001b[0;34m)\u001b[0m\u001b[0;34m\u001b[0m\u001b[0m\n\u001b[1;32m     16\u001b[0m \u001b[0;34m\u001b[0m\u001b[0m\n\u001b[0;32m---> 17\u001b[0;31m \u001b[0mpickle\u001b[0m\u001b[0;34m.\u001b[0m\u001b[0mdump\u001b[0m\u001b[0;34m(\u001b[0m\u001b[0moutput_list\u001b[0m\u001b[0;34m,\u001b[0m \u001b[0mopen\u001b[0m\u001b[0;34m(\u001b[0m \u001b[0;34m\"data/acceptance_rate_normal.p\"\u001b[0m\u001b[0;34m,\u001b[0m \u001b[0;34m\"wb\"\u001b[0m \u001b[0;34m)\u001b[0m \u001b[0;34m)\u001b[0m\u001b[0;34m\u001b[0m\u001b[0m\n\u001b[0m",
      "\u001b[0;31mNameError\u001b[0m: name 'pickle' is not defined"
     ]
    }
   ],
   "source": [
    "epsilon_seq = np.linspace(start=0, stop=10, num = 100)\n",
    "n = 10000\n",
    "k = 20\n",
    "accepted_ratio = []\n",
    "#Run abc with these epsilon and get the ratio of accepted samples\n",
    "output_list = []\n",
    "\n",
    "for eps in epsilon_seq:\n",
    "    aux = 0\n",
    "    for rep in range(k):\n",
    "        ABC_run = ABC(NormalPriorSampler, NormalLiklihoodSimulator, NormalSummary, eps, data , n)\n",
    "        output_dict = {'eps': eps, 'accept ratio':sum(ABC_run.accept)/float(n)}\n",
    "        output_list.append(output_dict)\n",
    "        aux=aux+sum(ABC_run.accept)/n\n",
    "    accepted_ratio.append(aux/k)\n",
    "    \n",
    "pickle.dump(output_list, open( \"data/acceptance_rate_normal.p\", \"wb\" ) )"
   ]
  },
  {
   "cell_type": "code",
   "execution_count": 8,
   "metadata": {
    "collapsed": false
   },
   "outputs": [
    {
     "name": "stdout",
     "output_type": "stream",
     "text": [
      "[0.0, 0.010595000000000002, 0.021855, 0.032369999999999996, 0.043295, 0.05439500000000001, 0.06618500000000002, 0.07738500000000001, 0.08663499999999999, 0.09857, 0.111185, 0.12136, 0.13242, 0.14393000000000003, 0.15731500000000004, 0.16920999999999997, 0.18082, 0.19118000000000002, 0.20560500000000004, 0.21704500000000002, 0.22923500000000002, 0.2414600000000001, 0.25446, 0.26695, 0.28127499999999994, 0.292575, 0.306585, 0.32073, 0.33302, 0.34768499999999997, 0.361165, 0.372695, 0.3862650000000001, 0.400705, 0.41409, 0.4283600000000001, 0.441925, 0.4547499999999999, 0.46817000000000003, 0.48482000000000014, 0.4991999999999999, 0.5097250000000001, 0.5252899999999999, 0.53846, 0.553225, 0.5661050000000001, 0.577125, 0.5935699999999999, 0.604565, 0.6188099999999999, 0.630345, 0.64592, 0.6550099999999999, 0.6678050000000001, 0.6817599999999999, 0.6923599999999999, 0.7049650000000003, 0.715655, 0.7299650000000001, 0.7374999999999999, 0.7498449999999999, 0.7621600000000001, 0.7703949999999999, 0.7817650000000002, 0.7914450000000002, 0.7993950000000001, 0.809375, 0.818935, 0.8281099999999999, 0.8358549999999999, 0.843945, 0.851075, 0.8599350000000001, 0.8663599999999999, 0.875055, 0.8812450000000001, 0.8866149999999999, 0.89262, 0.900465, 0.905295, 0.9106249999999999, 0.9157900000000001, 0.9207450000000001, 0.9255549999999999, 0.93164, 0.935575, 0.9390050000000001, 0.9438149999999998, 0.9475600000000002, 0.9510500000000001, 0.954315, 0.9568899999999999, 0.9592250000000002, 0.9627000000000001, 0.9655000000000001, 0.968045, 0.9703350000000001, 0.9723900000000001, 0.9747299999999998, 0.9757849999999999]\n"
     ]
    },
    {
     "data": {
      "image/png": "[encoded data removed]",
      "text/plain": [
       "<matplotlib.figure.Figure at 0x1125cc048>"
      ]
     },
     "metadata": {},
     "output_type": "display_data"
    }
   ],
   "source": [
    "print(accepted_ratio)\n",
    "plt.plot(epsilon_seq, accepted_ratio, '-')\n",
    "plt.xlabel(r'$\\epsilon$', fontsize=18)\n",
    "plt.ylabel('Acceptance rate', fontsize=18)\n",
    "plt.savefig('plots/TAR_curve_normal.pdf')\n",
    "plt.show()\n"
   ]
  },
  {
   "cell_type": "code",
   "execution_count": 25,
   "metadata": {
    "collapsed": false
   },
   "outputs": [
    {
     "name": "stdout",
     "output_type": "stream",
     "text": [
      "0.0 %\n",
      "2.0 %\n",
      "4.0 %\n",
      "6.0 %\n",
      "8.0 %\n",
      "10.0 %\n",
      "12.0 %\n",
      "14.000000000000002 %\n",
      "16.0 %\n",
      "18.0 %\n",
      "20.0 %\n",
      "22.0 %\n",
      "24.0 %\n",
      "26.0 %\n",
      "28.000000000000004 %\n",
      "30.0 %\n",
      "32.0 %\n",
      "34.0 %\n",
      "36.0 %\n",
      "38.0 %\n",
      "40.0 %\n",
      "42.0 %\n",
      "44.0 %\n",
      "46.0 %\n",
      "48.0 %\n",
      "50.0 %\n",
      "52.0 %\n",
      "54.0 %\n",
      "56.00000000000001 %\n",
      "57.99999999999999 %\n",
      "60.0 %\n",
      "62.0 %\n",
      "64.0 %\n",
      "66.0 %\n",
      "68.0 %\n",
      "70.0 %\n",
      "72.0 %\n",
      "74.0 %\n",
      "76.0 %\n",
      "78.0 %\n",
      "80.0 %\n",
      "82.0 %\n",
      "84.0 %\n",
      "86.0 %\n",
      "88.0 %\n",
      "90.0 %\n",
      "92.0 %\n",
      "94.0 %\n",
      "96.0 %\n",
      "98.0 %\n",
      "DONE :D\n"
     ]
    }
   ],
   "source": [
    "## TAR curve for g and k distribution\n",
    "epsilon_seq = np.linspace(start=0, stop=5000, num = 50)\n",
    "n = 5000\n",
    "k = 5\n",
    "counter = 0\n",
    "accepted_ratio = []\n",
    "output_list = []\n",
    "#Run abc with these epsilon and get the ratio of accepted samples\n",
    "\n",
    "for eps in epsilon_seq:\n",
    "    print(float(counter/len(epsilon_seq))*100,\"%\")\n",
    "    counter += 1\n",
    "    aux = 0\n",
    "    for rep in range(k):\n",
    "        ABC_run = ABC(GKPriorSampler, GKLiklihoodSimulator, GKSummary, eps, data_gk , n)\n",
    "        output_dict = {'eps': eps, 'accept ratio':sum(ABC_run.accept)/float(n)}\n",
    "        output_list.append(output_dict)\n",
    "        aux=aux+sum(ABC_run.accept)/n\n",
    "    accepted_ratio.append(aux/k)\n",
    "    \n",
    "print(\"DONE :D\")\n",
    "    \n",
    "pickle.dump(output_list, open( \"data/acceptance_rate_gk.p\", \"wb\" ) )"
   ]
  },
  {
   "cell_type": "code",
   "execution_count": 26,
   "metadata": {
    "collapsed": false
   },
   "outputs": [
    {
     "name": "stdout",
     "output_type": "stream",
     "text": [
      "[0.0, 0.13012, 0.1696, 0.20116, 0.21911999999999998, 0.2326, 0.24703999999999998, 0.25876, 0.26344, 0.26932, 0.28208, 0.28300000000000003, 0.28724, 0.29348, 0.29684, 0.30463999999999997, 0.31008, 0.31056000000000006, 0.31132000000000004, 0.31799999999999995, 0.31851999999999997, 0.32632, 0.32868, 0.3224, 0.33499999999999996, 0.33643999999999996, 0.33668, 0.34147999999999995, 0.34847999999999996, 0.34352, 0.347, 0.34736, 0.35220000000000007, 0.35248, 0.35544, 0.35124, 0.35591999999999996, 0.35907999999999995, 0.36615999999999993, 0.36476, 0.3636400000000001, 0.36384, 0.36891999999999997, 0.36788, 0.3688, 0.3714, 0.38164, 0.36996, 0.37879999999999997, 0.38008]\n"
     ]
    },
    {
     "data": {
      "image/png": "[encoded data removed]",
      "text/plain": [
       "<matplotlib.figure.Figure at 0x114e82160>"
      ]
     },
     "metadata": {},
     "output_type": "display_data"
    }
   ],
   "source": [
    "print(accepted_ratio)\n",
    "plt.plot(epsilon_seq, accepted_ratio, '-')\n",
    "plt.xlabel(r'$\\epsilon$', fontsize=18)\n",
    "plt.ylabel('Acceptance rate', fontsize=18)\n",
    "plt.savefig('plots/TAR_curve_gk_distribution.pdf')\n",
    "plt.show()"
   ]
  }
 ],
 "metadata": {
  "kernelspec": {
   "display_name": "Python 3",
   "language": "python",
   "name": "python3"
  },
  "language_info": {
   "codemirror_mode": {
    "name": "ipython",
    "version": 3
   },
   "file_extension": ".py",
   "mimetype": "text/x-python",
   "name": "python",
   "nbconvert_exporter": "python",
   "pygments_lexer": "ipython3",
   "version": "3.6.0"
  }
 },
 "nbformat": 4,
 "nbformat_minor": 2
}
