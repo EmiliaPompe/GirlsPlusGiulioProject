{
 "cells": [
  {
   "cell_type": "code",
   "execution_count": 1,
   "metadata": {
    "collapsed": false
   },
   "outputs": [
    {
     "name": "stdout",
     "output_type": "stream",
     "text": [
      "Populating the interactive namespace from numpy and matplotlib\n"
     ]
    }
   ],
   "source": [
    "%pylab inline\n",
    "import numpy as np\n",
    "import scipy as sc\n",
    "import pandas as pd\n",
    "\n",
    "import seaborn as sns\n",
    "#sns.set_style(\"whitegrid\")\n",
    "#sns.set_context(\"talk\")\n",
    "#rc('axes', labelsize=20, titlesize=20)\n",
    "\n",
    "import matplotlib.pyplot as plt\n",
    "import matplotlib.mlab as mlab\n",
    "import math\n",
    "import scipy.stats as ss\n",
    "\n",
    "from ABC_algorithm import ABC"
   ]
  },
  {
   "cell_type": "code",
   "execution_count": 2,
   "metadata": {
    "collapsed": true
   },
   "outputs": [],
   "source": [
    "######\n",
    "# set up for the normal ABC example\n",
    "######\n",
    "\n",
    "prior_mean = -3.0\n",
    "prior_sd = 3\n",
    "likelihood_sd = 1\n",
    "\n",
    "def NormalPriorSampler(n):\n",
    "    return np.random.normal(loc=prior_mean, scale=prior_sd, size=n)\n",
    "\n",
    "def NormalLiklihoodSimulator(n, param):\n",
    "    #unknown mean\n",
    "    return np.random.normal(loc=param, scale=likelihood_sd, size=n)\n",
    "    \n",
    "def NormalSummary(data):\n",
    "    return np.mean(data, axis=0)\n",
    "\n",
    "data = np.random.normal(loc=0,scale=likelihood_sd,size=100)"
   ]
  },
  {
   "cell_type": "code",
   "execution_count": 14,
   "metadata": {
    "collapsed": false
   },
   "outputs": [],
   "source": [
    "epsilon_seq = np.linspace(start=0, stop=10, num = 50)\n",
    "n = 10000\n",
    "k = 2\n",
    "accepted_ratio = []\n",
    "#Run abc with these epsilon and get the ratio of accepted samples\n",
    "\n",
    "for eps in epsilon_seq:\n",
    "    aux = 0\n",
    "    for rep in range(k):\n",
    "        ABC_run = ABC(NormalPriorSampler, NormalLiklihoodSimulator, NormalSummary, eps, data , n)\n",
    "        aux=aux+sum(ABC_run.accept)/n\n",
    "    accepted_ratio.append(aux/k)"
   ]
  },
  {
   "cell_type": "code",
   "execution_count": 27,
   "metadata": {
    "collapsed": false
   },
   "outputs": [
    {
     "name": "stdout",
     "output_type": "stream",
     "text": [
      "[0.0, 0.0344, 0.06309999999999999, 0.09975, 0.12465, 0.16425, 0.19735, 0.22699999999999998, 0.2563, 0.29815, 0.32875, 0.3614, 0.3951, 0.4278, 0.4544, 0.48705, 0.5138499999999999, 0.5427, 0.5759, 0.60205, 0.636, 0.65835, 0.6839999999999999, 0.7052499999999999, 0.7323500000000001, 0.7516, 0.77225, 0.7898499999999999, 0.81235, 0.8259, 0.8471, 0.8629, 0.8781, 0.89465, 0.901, 0.9097999999999999, 0.92425, 0.93645, 0.9426, 0.9480500000000001, 0.95695, 0.96255, 0.9682999999999999, 0.97195, 0.9765, 0.9811000000000001, 0.982, 0.98425, 0.9871, 0.98915]\n"
     ]
    },
    {
     "data": {
      "image/png": "[encoded data removed]",
      "text/plain": [
       "<matplotlib.figure.Figure at 0x10e0146a0>"
      ]
     },
     "metadata": {},
     "output_type": "display_data"
    }
   ],
   "source": [
    "print(accepted_ratio)\n",
    "plt.plot(epsilon_seq, accepted_ratio, '-')\n",
    "plt.xlabel(r'$\\epsilon$', fontsize=18)\n",
    "plt.ylabel('Acceptance rate', fontsize=18)\n",
    "plt.show()"
   ]
  },
  {
   "cell_type": "code",
   "execution_count": 28,
   "metadata": {
    "collapsed": false
   },
   "outputs": [
    {
     "name": "stdout",
     "output_type": "stream",
     "text": [
      "[  0.           0.20408163   0.40816327   0.6122449    0.81632653\n",
      "   1.02040816   1.2244898    1.42857143   1.63265306   1.83673469\n",
      "   2.04081633   2.24489796   2.44897959   2.65306122   2.85714286\n",
      "   3.06122449   3.26530612   3.46938776   3.67346939   3.87755102\n",
      "   4.08163265   4.28571429   4.48979592   4.69387755   4.89795918\n",
      "   5.10204082   5.30612245   5.51020408   5.71428571   5.91836735\n",
      "   6.12244898   6.32653061   6.53061224   6.73469388   6.93877551\n",
      "   7.14285714   7.34693878   7.55102041   7.75510204   7.95918367\n",
      "   8.16326531   8.36734694   8.57142857   8.7755102    8.97959184\n",
      "   9.18367347   9.3877551    9.59183673   9.79591837  10.        ]\n"
     ]
    }
   ],
   "source": [
    "print(epsilon_seq)"
   ]
  }
 ],
 "metadata": {
  "kernelspec": {
   "display_name": "Python 3",
   "language": "python",
   "name": "python3"
  },
  "language_info": {
   "codemirror_mode": {
    "name": "ipython",
    "version": 3
   },
   "file_extension": ".py",
   "mimetype": "text/x-python",
   "name": "python",
   "nbconvert_exporter": "python",
   "pygments_lexer": "ipython3",
   "version": "3.6.0"
  }
 },
 "nbformat": 4,
 "nbformat_minor": 2
}
