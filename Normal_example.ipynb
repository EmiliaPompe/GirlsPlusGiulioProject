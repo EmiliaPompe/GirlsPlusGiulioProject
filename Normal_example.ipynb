{
 "cells": [
  {
   "cell_type": "code",
   "execution_count": 22,
   "metadata": {
    "collapsed": false
   },
   "outputs": [],
   "source": [
    "%pylab inline\n",
    "import numpy as np\n",
    "import scipy as sc\n",
    "\n",
    "import seaborn as sns\n",
    "sns.set_style(\"whitegrid\")\n",
    "sns.set_context(\"talk\")\n",
    "rc('axes', labelsize=20, titlesize=20)\n",
    "\n",
    "import matplotlib.pyplot as plt\n",
    "import matplotlib.mlab as mlab\n",
    "import math\n",
    "import scipy.stats as ss\n",
    "\n",
    "\n",
    "def SimulateNormal(mean, sd, N):\n",
    "    return np.random.normal(loc=mean, scale=sd, size=N)\n",
    "\n",
    "def PlotPosteriorAgainstSample(priorMean, priorSd, likelihoodSd, sampledTheta, originalData):\n",
    "    Hist = plt.hist(sampledTheta, sd(len(sampledTheta)), normed=True) #plot the hist for the sampled theta \n",
    "    mean = (priorMean/(priorSd^2) + np.sum(originalData)/likelihoodSd^2)/(1/priorSd^2 + len(originalData)/likelihoodSd^2)\n",
    "    sd = (1/priorSd^2 + len(originalData)/likelihoodSd^2)^(-1)\n",
    "    x = np.linspace(mean-3*sd, mean+3*sd, 100)\n",
    "    trueDensity = plt.plot(x,mlab.normpdf(x, mean, sd)) #plot the true density with mean and sd               \n",
    "    plt.show()\n",
    "\n"
   ]
  }
 ],
 "metadata": {
  "kernelspec": {
   "display_name": "Python 2",
   "language": "python",
   "name": "python2"
  },
  "language_info": {
   "codemirror_mode": {
    "name": "ipython",
    "version": 2
   },
   "file_extension": ".py",
   "mimetype": "text/x-python",
   "name": "python",
   "nbconvert_exporter": "python",
   "pygments_lexer": "ipython2",
   "version": "2.7.13"
  }
 },
 "nbformat": 4,
 "nbformat_minor": 2
}
