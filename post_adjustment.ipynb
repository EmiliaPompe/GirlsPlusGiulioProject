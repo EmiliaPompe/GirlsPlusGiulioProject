{
 "cells": [
  {
   "cell_type": "code",
   "execution_count": 1,
   "metadata": {
    "collapsed": false
   },
   "outputs": [
    {
     "name": "stdout",
     "output_type": "stream",
     "text": [
      "Populating the interactive namespace from numpy and matplotlib\n"
     ]
    }
   ],
   "source": [
    "%pylab inline\n",
    "import numpy as np\n",
    "import scipy as sc\n",
    "import pandas as pd\n",
    "from ABC_algorithm import ABC\n",
    "\n",
    "import statsmodels as sm\n",
    "from sklearn.linear_model import LinearRegression"
   ]
  },
  {
   "cell_type": "code",
   "execution_count": 2,
   "metadata": {
    "collapsed": false
   },
   "outputs": [
    {
     "name": "stdout",
     "output_type": "stream",
     "text": [
      "0.472376589414 is posterior mean\n",
      "0.195652173913 is posterior std dev\n"
     ]
    }
   ],
   "source": [
    "######\n",
    "# set up for the normal ABC example\n",
    "######\n",
    "\n",
    "prior_mean = -4.0\n",
    "prior_sd = 3\n",
    "likelihood_sd = 1\n",
    "\n",
    "def NormalPriorSampler(n):\n",
    "    return np.random.normal(loc=prior_mean, scale=prior_sd, size=n)\n",
    "\n",
    "def NormalLiklihoodSimulator(n, param):\n",
    "    #unknown mean\n",
    "    return np.random.normal(loc=param, scale=likelihood_sd, size=n)\n",
    "    \n",
    "def NormalSummary(data):\n",
    "    return np.mean(data, axis=0)\n",
    "\n",
    "data = np.random.normal(loc=0,scale=likelihood_sd,size=5)\n",
    "\n",
    "post_sd = np.power((1.0/np.power(prior_sd,2) + len(data)/np.power(likelihood_sd,2)),-1/2)\n",
    "post_mean = (prior_mean/np.power(prior_sd,2) + np.sum(data)/(np.power(likelihood_sd,2)))/(1/np.power(prior_sd,2) + len(data)/np.power(likelihood_sd,2))\n",
    "print post_mean, \"is posterior mean\"\n",
    "print post_sd, \"is posterior std dev\"\n",
    "\n",
    "df = ABC(NormalPriorSampler, NormalLiklihoodSimulator, NormalSummary, 0.5, data, 1000)"
   ]
  },
  {
   "cell_type": "code",
   "execution_count": 62,
   "metadata": {
    "collapsed": true
   },
   "outputs": [],
   "source": []
  },
  {
   "cell_type": "markdown",
   "metadata": {},
   "source": [
    "## A function for post processing ABC algorithm output"
   ]
  },
  {
   "cell_type": "code",
   "execution_count": 3,
   "metadata": {
    "collapsed": false
   },
   "outputs": [],
   "source": [
    "def EpanechnikovKernel(t,delta,c=1):\n",
    "    if t<=delta:\n",
    "        return c*(1/delta)*(1-(t/delta)**2)\n",
    "    else:\n",
    "        return 0\n",
    "\n",
    "def post_process(abc_df, q=0.5):\n",
    "    \"\"\"\n",
    "    Given a dataframe output to ABC, return dataframe with accepted thetas transformed in column \"theta_star\"\n",
    "    \"\"\"\n",
    "    # take accpted values output from ABC\n",
    "    df_accepted = abc_df[abc_df['accept'] == 1]\n",
    "\n",
    "    df_accepted.statistics_diff = df_accepted.statistics - NormalSummary(data)\n",
    "    df_accepted.statistics_diff_abs = df_accepted.statistics_diff.apply(lambda x: abs(x))\n",
    "    \n",
    "    #df_accepted.statistics_diff_abs.hist(bins=100)\n",
    "    quantile = df_accepted.statistics_diff_abs.quantile(q)\n",
    "    #plt.show()\n",
    "\n",
    "    #create column with kernal transform\n",
    "    df_accepted.kernel = df_accepted.statistics_diff.apply(lambda x: EpanechnikovKernel(abs(x), delta=quantile))\n",
    "\n",
    "    #print df_accepted.kernel[df_accepted.kernel > 0.0]\n",
    "\n",
    "    mod = LinearRegression(fit_intercept=True, normalize=False, copy_X=True, n_jobs=1)\n",
    "    X = np.array(df_accepted.statistics_diff)\n",
    "    X.shape = (shape(X)[0],1)\n",
    "    y = np.array(df_accepted.theta)\n",
    "    y.shape = (shape(y)[0],1)\n",
    "    weights = np.array(df_accepted.kernel)\n",
    "    \n",
    "    res = mod.fit(X, y, sample_weight=weights)\n",
    "    #alpha = res.intercept_[0]\n",
    "    beta = res.coef_[0][0]\n",
    "    print beta\n",
    "    beta_stats_diff = beta*df_accepted.statistics_diff\n",
    "    beta_stats_diff_array = np.array(beta_stats_diff)\n",
    "    beta_stats_diff_array.shape = (shape(beta_stats_diff_array)[0],1)\n",
    "    theta_star = np.subtract(y, beta_stats_diff_array)\n",
    "    theta_star = np.reshape(theta_star,83)\n",
    "    print np.shape(theta_star)\n",
    "    df_accepted['theta_star'] = theta_star\n",
    "    \n",
    "    return df_accepted"
   ]
  },
  {
   "cell_type": "code",
   "execution_count": null,
   "metadata": {
    "collapsed": false
   },
   "outputs": [],
   "source": []
  },
  {
   "cell_type": "code",
   "execution_count": null,
   "metadata": {
    "collapsed": true
   },
   "outputs": [],
   "source": []
  },
  {
   "cell_type": "code",
   "execution_count": null,
   "metadata": {
    "collapsed": true
   },
   "outputs": [],
   "source": []
  },
  {
   "cell_type": "code",
   "execution_count": null,
   "metadata": {
    "collapsed": true
   },
   "outputs": [],
   "source": []
  }
 ],
 "metadata": {
  "kernelspec": {
   "display_name": "Python 2",
   "language": "python",
   "name": "python2"
  },
  "language_info": {
   "codemirror_mode": {
    "name": "ipython",
    "version": 2
   },
   "file_extension": ".py",
   "mimetype": "text/x-python",
   "name": "python",
   "nbconvert_exporter": "python",
   "pygments_lexer": "ipython2",
   "version": "2.7.13"
  }
 },
 "nbformat": 4,
 "nbformat_minor": 0
}
