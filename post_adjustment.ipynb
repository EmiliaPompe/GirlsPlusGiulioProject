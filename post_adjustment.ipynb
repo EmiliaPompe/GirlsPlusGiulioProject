{
 "cells": [
  {
   "cell_type": "code",
   "execution_count": 49,
   "metadata": {
    "collapsed": false
   },
   "outputs": [
    {
     "name": "stdout",
     "output_type": "stream",
     "text": [
      "Populating the interactive namespace from numpy and matplotlib\n"
     ]
    },
    {
     "name": "stderr",
     "output_type": "stream",
     "text": [
      "/usr/local/lib/python2.7/site-packages/IPython/core/magics/pylab.py:161: UserWarning: pylab import has clobbered these variables: ['mod']\n",
      "`%matplotlib` prevents importing * from pylab and numpy\n",
      "  \"\\n`%matplotlib` prevents importing * from pylab and numpy\"\n"
     ]
    }
   ],
   "source": [
    "%pylab inline\n",
    "import numpy as np\n",
    "import scipy as sc\n",
    "import pandas as pd\n",
    "from ABC_algorithm import ABC\n",
    "\n",
    "import statsmodels as sm\n",
    "from sklearn.linear_model import LinearRegression"
   ]
  },
  {
   "cell_type": "code",
   "execution_count": 61,
   "metadata": {
    "collapsed": false
   },
   "outputs": [
    {
     "name": "stdout",
     "output_type": "stream",
     "text": [
      "-1.00796685062 is posterior mean\n",
      "0.195652173913 is posterior std dev\n"
     ]
    }
   ],
   "source": [
    "######\n",
    "# set up for the normal ABC example\n",
    "######\n",
    "\n",
    "prior_mean = -4.0\n",
    "prior_sd = 3\n",
    "likelihood_sd = 1\n",
    "\n",
    "def NormalPriorSampler(n):\n",
    "    return np.random.normal(loc=prior_mean, scale=prior_sd, size=n)\n",
    "\n",
    "def NormalLiklihoodSimulator(n, param):\n",
    "    #unknown mean\n",
    "    return np.random.normal(loc=param, scale=likelihood_sd, size=n)\n",
    "    \n",
    "def NormalSummary(data):\n",
    "    return np.mean(data, axis=0)\n",
    "\n",
    "data = np.random.normal(loc=0,scale=likelihood_sd,size=5)\n",
    "\n",
    "post_sd = np.power((1.0/np.power(prior_sd,2) + len(data)/np.power(likelihood_sd,2)),-1/2)\n",
    "post_mean = (prior_mean/np.power(prior_sd,2) + np.sum(data)/(np.power(likelihood_sd,2)))/(1/np.power(prior_sd,2) + len(data)/np.power(likelihood_sd,2))\n",
    "print post_mean, \"is posterior mean\"\n",
    "print post_sd, \"is posterior std dev\"\n",
    "\n",
    "df = ABC(NormalPriorSampler, NormalLiklihoodSimulator, NormalSummary, 0.5, data, 1000)"
   ]
  },
  {
   "cell_type": "code",
   "execution_count": 62,
   "metadata": {
    "collapsed": true
   },
   "outputs": [],
   "source": [
    "def EpanechnikovKernel(t,delta,c=1):\n",
    "    if t<=delta:\n",
    "        return c*(1/delta)*(1-(t/delta)**2)\n",
    "    else:\n",
    "        return 0"
   ]
  },
  {
   "cell_type": "markdown",
   "metadata": {},
   "source": [
    "## A function for post processing ABC algorithm output"
   ]
  },
  {
   "cell_type": "code",
   "execution_count": 145,
   "metadata": {
    "collapsed": false
   },
   "outputs": [],
   "source": [
    "def post_process(abc_df, q=0.5):\n",
    "    \"\"\"\n",
    "    Given a dataframe output to ABC, return dataframe with accepted thetas transformed in column \"theta_star\"\n",
    "    \"\"\"\n",
    "    # take accpted values output from ABC\n",
    "    df_accepted = abc_df[abc_df['accept'] == 1]\n",
    "\n",
    "    df_accepted.statistics_diff = df_accepted.statistics - NormalSummary(data)\n",
    "    df_accepted.statistics_diff_abs = df_accepted.statistics_diff.apply(lambda x: abs(x))\n",
    "    \n",
    "    #df_accepted.statistics_diff_abs.hist(bins=100)\n",
    "    quantile = df_accepted.statistics_diff_abs.quantile(q)\n",
    "    #plt.show()\n",
    "\n",
    "    #create column with kernal transform\n",
    "    df_accepted.kernel = df_accepted.statistics_diff.apply(lambda x: EpanechnikovKernel(abs(x), delta=quantile))\n",
    "\n",
    "    #print df_accepted.kernel[df_accepted.kernel > 0.0]\n",
    "\n",
    "    mod = LinearRegression(fit_intercept=True, normalize=False, copy_X=True, n_jobs=1)\n",
    "    X = np.array(df_accepted.statistics_diff)\n",
    "    X.shape = (shape(X)[0],1)\n",
    "    y = np.array(df_accepted.theta)\n",
    "    y.shape = (shape(y)[0],1)\n",
    "    weights = np.array(df_accepted.kernel)\n",
    "    \n",
    "    res = mod.fit(X, y, sample_weight=weights)\n",
    "    #alpha = res.intercept_[0]\n",
    "    beta = res.coef_[0][0]\n",
    "    print beta\n",
    "    beta_stats_diff = beta*df_accepted.statistics_diff\n",
    "    beta_stats_diff_array = np.array(beta_stats_diff)\n",
    "    beta_stats_diff_array.shape = (shape(beta_stats_diff_array)[0],1)\n",
    "    theta_star = np.subtract(y, beta_stats_diff_array)\n",
    "    theta_star = np.reshape(theta_star,83)\n",
    "    print np.shape(theta_star)\n",
    "    df_accepted['theta_star'] = theta_star\n",
    "    \n",
    "    return df_accepted"
   ]
  },
  {
   "cell_type": "code",
   "execution_count": 147,
   "metadata": {
    "collapsed": false
   },
   "outputs": [
    {
     "name": "stdout",
     "output_type": "stream",
     "text": [
      "1.19020438302\n",
      "(83,)\n",
      "2     -1.170073\n",
      "17    -1.511627\n",
      "18    -1.380540\n",
      "27    -0.600571\n",
      "29    -0.902872\n",
      "45    -0.517177\n",
      "49    -0.647777\n",
      "53    -0.426499\n",
      "56    -0.986676\n",
      "71    -0.607288\n",
      "141   -0.445191\n",
      "145   -1.225733\n",
      "161   -0.485804\n",
      "176   -0.629761\n",
      "189   -0.989381\n",
      "209   -1.229147\n",
      "226   -1.736271\n",
      "264    0.157817\n",
      "282   -1.466223\n",
      "317   -0.827487\n",
      "322   -1.206964\n",
      "326   -1.349115\n",
      "338   -0.706378\n",
      "352   -1.620570\n",
      "359   -1.511238\n",
      "362   -2.203744\n",
      "373   -1.204515\n",
      "395   -0.109563\n",
      "404   -1.483605\n",
      "415   -0.814308\n",
      "         ...   \n",
      "695   -1.253886\n",
      "696   -0.005825\n",
      "707   -0.755784\n",
      "723   -1.207014\n",
      "755   -0.828844\n",
      "757   -1.072362\n",
      "758   -1.408224\n",
      "763   -1.328564\n",
      "779   -1.537918\n",
      "789   -1.086265\n",
      "803   -0.305261\n",
      "805   -0.672450\n",
      "821   -0.351747\n",
      "832   -0.545506\n",
      "843   -1.023778\n",
      "848   -1.305956\n",
      "862   -1.036729\n",
      "866   -1.072856\n",
      "868   -0.524924\n",
      "901   -1.045816\n",
      "912   -0.860620\n",
      "918   -1.572213\n",
      "920   -1.202170\n",
      "946   -0.444738\n",
      "957   -0.497915\n",
      "967   -2.043097\n",
      "970   -1.396672\n",
      "984   -0.470495\n",
      "988   -1.581361\n",
      "999   -0.845208\n",
      "Name: theta_star, dtype: float64\n"
     ]
    },
    {
     "name": "stderr",
     "output_type": "stream",
     "text": [
      "/usr/local/lib/python2.7/site-packages/ipykernel/__main__.py:37: SettingWithCopyWarning: \n",
      "A value is trying to be set on a copy of a slice from a DataFrame.\n",
      "Try using .loc[row_indexer,col_indexer] = value instead\n",
      "\n",
      "See the caveats in the documentation: http://pandas.pydata.org/pandas-docs/stable/indexing.html#indexing-view-versus-copy\n"
     ]
    }
   ],
   "source": [
    "df_post_processed = post_process(df, 0.5)\n",
    "print df_post_processed.theta_star"
   ]
  },
  {
   "cell_type": "code",
   "execution_count": null,
   "metadata": {
    "collapsed": true
   },
   "outputs": [],
   "source": []
  },
  {
   "cell_type": "code",
   "execution_count": null,
   "metadata": {
    "collapsed": true
   },
   "outputs": [],
   "source": []
  },
  {
   "cell_type": "code",
   "execution_count": null,
   "metadata": {
    "collapsed": true
   },
   "outputs": [],
   "source": []
  }
 ],
 "metadata": {
  "kernelspec": {
   "display_name": "Python 2",
   "language": "python",
   "name": "python2"
  },
  "language_info": {
   "codemirror_mode": {
    "name": "ipython",
    "version": 2
   },
   "file_extension": ".py",
   "mimetype": "text/x-python",
   "name": "python",
   "nbconvert_exporter": "python",
   "pygments_lexer": "ipython2",
   "version": "2.7.11"
  }
 },
 "nbformat": 4,
 "nbformat_minor": 0
}
