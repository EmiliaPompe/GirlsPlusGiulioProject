{
 "cells": [
  {
   "cell_type": "code",
   "execution_count": 1,
   "metadata": {
    "collapsed": false
   },
   "outputs": [
    {
     "name": "stdout",
     "output_type": "stream",
     "text": [
      "Populating the interactive namespace from numpy and matplotlib\n"
     ]
    },
    {
     "name": "stderr",
     "output_type": "stream",
     "text": [
      ":0: FutureWarning: IPython widgets are experimental and may change in the future.\n"
     ]
    }
   ],
   "source": [
    "%pylab inline\n",
    "import numpy as np\n",
    "import scipy as sc\n",
    "import pandas as pd\n",
    "\n",
    "import seaborn as sns\n",
    "#sns.set_style(\"whitegrid\")\n",
    "#sns.set_context(\"talk\")\n",
    "#rc('axes', labelsize=20, titlesize=20)\n",
    "\n",
    "import matplotlib.pyplot as plt\n",
    "import matplotlib.mlab as mlab\n",
    "import math\n",
    "import scipy.stats as ss\n",
    "\n",
    "import timeit\n",
    "import pickle\n",
    "\n",
    "from ABC_PMC import ABC_sample, ABC_PMC"
   ]
  },
  {
   "cell_type": "code",
   "execution_count": 2,
   "metadata": {
    "collapsed": true
   },
   "outputs": [],
   "source": [
    "######\n",
    "# set up for the normal ABC example\n",
    "######\n",
    "\n",
    "prior_mean = -4.0\n",
    "prior_sd = 3\n",
    "likelihood_sd = 1\n",
    "original_data_size = 100\n",
    "\n",
    "def NormalPriorFunction(x):\n",
    "    return ss.norm.pdf(x=x,loc=prior_mean, scale=prior_sd)\n",
    "\n",
    "def NormalPriorSampler(n):\n",
    "    return np.random.normal(loc=prior_mean, scale=prior_sd, size=n)\n",
    "\n",
    "def NormalLiklihoodSimulator(n, param):\n",
    "    #unknown mean\n",
    "    return np.random.normal(loc=param, scale=likelihood_sd, size=n)\n",
    "    \n",
    "def NormalSummary(data):\n",
    "    return np.mean(data, axis=0)\n",
    "\n",
    "data = np.random.normal(loc=0,scale=likelihood_sd,size=original_data_size)"
   ]
  },
  {
   "cell_type": "code",
   "execution_count": 18,
   "metadata": {
    "collapsed": false
   },
   "outputs": [],
   "source": [
    "k = 20\n",
    "requested_sample_size = np.linspace(start=50,stop=1000,num=20) #n=50,100,...,1000\n",
    "tolerance_seq = np.linspace(start=1, stop= 0.01, num=4) #T = 4"
   ]
  },
  {
   "cell_type": "code",
   "execution_count": 10,
   "metadata": {
    "collapsed": false
   },
   "outputs": [
    {
     "name": "stdout",
     "output_type": "stream",
     "text": [
      "('ABC - ', 0.0, '%')\n",
      "('ABC - ', 100.0, '%')\n",
      "DONE :D\n"
     ]
    }
   ],
   "source": [
    "ABC_benchmark = []\n",
    "\n",
    "for sample_size in requested_sample_size:\n",
    "    print(\"ABC - \",float(len(ABC_benchmark))/len(requested_sample_size)*100,\"%\")\n",
    "    for rep in range(k):       \n",
    "        #Run ABC\n",
    "        start_time = timeit.default_timer()\n",
    "        ABC_run = ABC_sample(NormalPriorSampler, NormalLiklihoodSimulator, NormalSummary, tolerance_seq[-1], data , sample_size)\n",
    "        run_time_ABC = timeit.default_timer() - start_time\n",
    "        niter_ABC = ABC_run[1]\n",
    "        times_for_iteration_ABC = np.mean(ABC_run[2])\n",
    "        output_dict = {'k': rep, 'sample_size': sample_size, 'run_time': run_time_ABC, 'niter':niter_ABC, 'times_1000_iter': times_for_iteration_ABC}\n",
    "        ABC_benchmark.append(output_dict)\n",
    "    \n",
    "\n",
    "file_name = \"data/New_ABC_benchmark_k_\"+str(k)+\"_tol_\"+str(tolerance_seq[-1])+\"_num_\"+str(len(requested_sample_size))+\".p\"\n",
    "pickle.dump(ABC_benchmark, open( file_name, \"wb\" ) ) #save result in a file\n",
    "#You can load using:\n",
    "#test = pickle.load( open( \"data/ABC_benchmark_k_2_tol_001.p\", \"rb\" ) )\n",
    "\n",
    "#print(pd.DataFrame(ABC_benchmark))\n",
    "print(\"DONE :D\")\n",
    "\n"
   ]
  },
  {
   "cell_type": "code",
   "execution_count": 13,
   "metadata": {
    "collapsed": false
   },
   "outputs": [
    {
     "name": "stdout",
     "output_type": "stream",
     "text": [
      "('PMC 1 - ', 0.0, '%')\n",
      "('PMC 1 - ', 100.0, '%')\n",
      "PMC - 100%\n"
     ]
    },
    {
     "name": "stderr",
     "output_type": "stream",
     "text": [
      "/usr/lib64/python2.7/site-packages/numpy/core/numeric.py:190: VisibleDeprecationWarning: using a non-integer number instead of an integer will result in an error in the future\n",
      "  a = empty(shape, dtype, order)\n"
     ]
    }
   ],
   "source": [
    "PMC_benchmark = []\n",
    "\n",
    "for sample_size in requested_sample_size:\n",
    "    print(\"PMC 1 - \",float(len(PMC_benchmark))/len(requested_sample_size)*100,\"%\")\n",
    "    for rep in range(k):\n",
    "        #Run ABC\n",
    "        start_time = timeit.default_timer()\n",
    "        PMC_run = ABC_PMC(NormalPriorFunction,NormalPriorSampler, NormalLiklihoodSimulator, NormalSummary, tolerance_seq, data , sample_size)\n",
    "        run_time_PMC = timeit.default_timer() - start_time\n",
    "        niter_PMC = PMC_run[1]\n",
    "        times_for_iteration_PMC = np.mean(PMC_run[2])\n",
    "        output_dict = {'k': rep, 'sample_size': sample_size, 'run_time': run_time_PMC, 'niter':niter_PMC, 'times_1000_iter': times_for_iteration_PMC}\n",
    "        PMC_benchmark.append(output_dict)\n",
    "\n",
    "    \n",
    "file_name = \"data/New_PMC_benchmark_k_\"+str(k)+\"_tol_\"+str(tolerance_seq[-1])+\"_num_\"+str(len(requested_sample_size))+\"_T_\"+str(len(tolerance_seq))+\".p\"\n",
    "pickle.dump(PMC_benchmark, open( file_name, \"wb\" ) ) #save result in a file\n",
    "#You can load using:\n",
    "#test = pickle.load( open( \"data/ABC_benchmark_k_2_tol_001.p\", \"rb\" ) )\n",
    "\n",
    "#print(pd.DataFrame(PMC_benchmark))\n",
    "print(\"PMC - 100%\")"
   ]
  },
  {
   "cell_type": "code",
   "execution_count": 16,
   "metadata": {
    "collapsed": false
   },
   "outputs": [
    {
     "name": "stdout",
     "output_type": "stream",
     "text": [
      "('PMC 2 - ', 0.0, '%')\n",
      "('PMC 2 - ', 25.0, '%')\n",
      "('PMC 2 - ', 50.0, '%')\n",
      "('PMC 2 - ', 75.0, '%')\n",
      "PMC 2 - 100%\n"
     ]
    }
   ],
   "source": [
    "#PMC benchmark for different values of T but fixed n\n",
    "sample_size_seq = [100,250,500,1000]\n",
    "\n",
    "PMC_benchmark2 = []\n",
    "for sample_size in sample_size_seq:\n",
    "    print(\"PMC 2 - \",float(sample_size_seq.index(sample_size))/len(sample_size_seq)*100,\"%\")\n",
    "    for T in range(2,11):\n",
    "        tolerance_seq = np.linspace(start=1, stop= 0.01, num=T)\n",
    "        for rep in range(k):\n",
    "            #Run ABC\n",
    "            start_time = timeit.default_timer()\n",
    "            PMC_run = ABC_PMC(NormalPriorFunction,NormalPriorSampler, NormalLiklihoodSimulator, NormalSummary, tolerance_seq, data , sample_size)\n",
    "            run_time_PMC = timeit.default_timer() - start_time\n",
    "            niter_PMC = PMC_run[1]\n",
    "            times_for_iteration_PMC = np.mean(PMC_run[2])\n",
    "            output_dict = {'k': rep, 'T':T, 'sample_size': sample_size, 'run_time': run_time_PMC, 'niter':niter_PMC, 'times_1000_iter': times_for_iteration_PMC}\n",
    "            PMC_benchmark2.append(output_dict)\n",
    "        \n",
    "\n",
    "file_name = \"data/New_PMC_benchmark2_k_\"+str(k)+\"_tol_\"+str(tolerance_seq[-1])+\"_num_\"+str(len(sample_size_seq))+\"_T_2_10.p\"\n",
    "pickle.dump(PMC_benchmark2, open( file_name, \"wb\" ) ) #save result in a file\n",
    "#print(pd.DataFrame(PMC_benchmark2))\n",
    "print(\"PMC 2 - 100%\")"
   ]
  },
  {
   "cell_type": "code",
   "execution_count": 17,
   "metadata": {
    "collapsed": false
   },
   "outputs": [
    {
     "name": "stdout",
     "output_type": "stream",
     "text": [
      "[{'niter': 11397, 'k': 0, 'times_1000_iter': 0.052038598060607913, 'sample_size': 100, 'T': 2, 'run_time': 0.5693659782409668}, {'niter': 14517, 'k': 1, 'times_1000_iter': 0.051969190438588463, 'sample_size': 100, 'T': 2, 'run_time': 0.7160661220550537}, {'niter': 7371, 'k': 0, 'times_1000_iter': 0.052959958712259926, 'sample_size': 100, 'T': 3, 'run_time': 0.36411499977111816}, {'niter': 8031, 'k': 1, 'times_1000_iter': 0.053313561848231723, 'sample_size': 100, 'T': 3, 'run_time': 0.39335203170776367}, {'niter': 5815, 'k': 0, 'times_1000_iter': 0.049627224604288735, 'sample_size': 100, 'T': 4, 'run_time': 0.29714393615722656}, {'niter': 6828, 'k': 1, 'times_1000_iter': 0.056638574600219725, 'sample_size': 100, 'T': 4, 'run_time': 0.34854602813720703}, {'niter': 6028, 'k': 0, 'times_1000_iter': 0.056738615036010742, 'sample_size': 100, 'T': 5, 'run_time': 0.3261430263519287}, {'niter': 5857, 'k': 1, 'times_1000_iter': 0.06154102087020874, 'sample_size': 100, 'T': 5, 'run_time': 0.3099091053009033}, {'niter': 5100, 'k': 0, 'times_1000_iter': 0.064059734344482422, 'sample_size': 100, 'T': 6, 'run_time': 0.2820589542388916}, {'niter': 5121, 'k': 1, 'times_1000_iter': 0.049898386001586914, 'sample_size': 100, 'T': 6, 'run_time': 0.27900195121765137}, {'niter': 5606, 'k': 0, 'times_1000_iter': 0.069944262504577637, 'sample_size': 100, 'T': 7, 'run_time': 0.33144378662109375}, {'niter': 5298, 'k': 1, 'times_1000_iter': 0.050282001495361328, 'sample_size': 100, 'T': 7, 'run_time': 0.3084428310394287}, {'niter': 5074, 'k': 0, 'times_1000_iter': 0.066514432430267334, 'sample_size': 100, 'T': 8, 'run_time': 0.30063796043395996}, {'niter': 6308, 'k': 1, 'times_1000_iter': 0.053378522396087646, 'sample_size': 100, 'T': 8, 'run_time': 0.35517287254333496}, {'niter': 5260, 'k': 0, 'times_1000_iter': 0.064291775226593018, 'sample_size': 100, 'T': 9, 'run_time': 0.3178708553314209}, {'niter': 4956, 'k': 1, 'times_1000_iter': 0.065922657648722335, 'sample_size': 100, 'T': 9, 'run_time': 0.30748796463012695}, {'niter': 5677, 'k': 0, 'times_1000_iter': 0.062688469886779785, 'sample_size': 100, 'T': 10, 'run_time': 0.3475229740142822}, {'niter': 5324, 'k': 1, 'times_1000_iter': 0.069502711296081543, 'sample_size': 100, 'T': 10, 'run_time': 0.3362729549407959}, {'niter': 34297, 'k': 0, 'times_1000_iter': 0.052252938670496789, 'sample_size': 250, 'T': 2, 'run_time': 1.6976089477539062}, {'niter': 34013, 'k': 1, 'times_1000_iter': 0.052063965028332125, 'sample_size': 250, 'T': 2, 'run_time': 1.6917259693145752}, {'niter': 21277, 'k': 0, 'times_1000_iter': 0.061026824845208064, 'sample_size': 250, 'T': 3, 'run_time': 1.283033847808838}, {'niter': 17807, 'k': 1, 'times_1000_iter': 0.062779392514910021, 'sample_size': 250, 'T': 3, 'run_time': 1.106194019317627}, {'niter': 16422, 'k': 0, 'times_1000_iter': 0.061596411925095781, 'sample_size': 250, 'T': 4, 'run_time': 0.9933178424835205}, {'niter': 17139, 'k': 1, 'times_1000_iter': 0.061725480215890069, 'sample_size': 250, 'T': 4, 'run_time': 1.024420976638794}, {'niter': 14858, 'k': 0, 'times_1000_iter': 0.064734003760597916, 'sample_size': 250, 'T': 5, 'run_time': 0.9226160049438477}, {'niter': 14043, 'k': 1, 'times_1000_iter': 0.063243887641213151, 'sample_size': 250, 'T': 5, 'run_time': 0.8805501461029053}, {'niter': 14132, 'k': 0, 'times_1000_iter': 0.066503871570933945, 'sample_size': 250, 'T': 6, 'run_time': 0.9220550060272217}, {'niter': 13934, 'k': 1, 'times_1000_iter': 0.068066835403442383, 'sample_size': 250, 'T': 6, 'run_time': 0.9087841510772705}, {'niter': 13818, 'k': 0, 'times_1000_iter': 0.07067487239837647, 'sample_size': 250, 'T': 7, 'run_time': 0.9101119041442871}, {'niter': 14210, 'k': 1, 'times_1000_iter': 0.070151827552101823, 'sample_size': 250, 'T': 7, 'run_time': 0.9662520885467529}, {'niter': 12621, 'k': 0, 'times_1000_iter': 0.074119912253485784, 'sample_size': 250, 'T': 8, 'run_time': 0.8836190700531006}, {'niter': 13685, 'k': 1, 'times_1000_iter': 0.07342133522033692, 'sample_size': 250, 'T': 8, 'run_time': 0.930466890335083}, {'niter': 13396, 'k': 0, 'times_1000_iter': 0.074071836471557614, 'sample_size': 250, 'T': 9, 'run_time': 0.9539048671722412}, {'niter': 13693, 'k': 1, 'times_1000_iter': 0.074570012092590329, 'sample_size': 250, 'T': 9, 'run_time': 0.9641168117523193}, {'niter': 14314, 'k': 0, 'times_1000_iter': 0.074497613039883698, 'sample_size': 250, 'T': 10, 'run_time': 1.030656099319458}, {'niter': 13356, 'k': 1, 'times_1000_iter': 0.077355527877807612, 'sample_size': 250, 'T': 10, 'run_time': 0.981726884841919}, {'niter': 76149, 'k': 0, 'times_1000_iter': 0.05396253961912343, 'sample_size': 500, 'T': 2, 'run_time': 3.929126024246216}, {'niter': 76238, 'k': 1, 'times_1000_iter': 0.053907663049832195, 'sample_size': 500, 'T': 2, 'run_time': 3.940387010574341}, {'niter': 41407, 'k': 0, 'times_1000_iter': 0.080197857485877141, 'sample_size': 500, 'T': 3, 'run_time': 3.0451390743255615}, {'niter': 40185, 'k': 1, 'times_1000_iter': 0.082632207870483393, 'sample_size': 500, 'T': 3, 'run_time': 3.043034076690674}, {'niter': 31204, 'k': 0, 'times_1000_iter': 0.085051692449129551, 'sample_size': 500, 'T': 4, 'run_time': 2.3993418216705322}, {'niter': 33090, 'k': 1, 'times_1000_iter': 0.083644672676368992, 'sample_size': 500, 'T': 4, 'run_time': 2.499391794204712}, {'niter': 29207, 'k': 0, 'times_1000_iter': 0.088040441274642944, 'sample_size': 500, 'T': 5, 'run_time': 2.2528159618377686}, {'niter': 28269, 'k': 1, 'times_1000_iter': 0.089212521262790848, 'sample_size': 500, 'T': 5, 'run_time': 2.187150001525879}, {'niter': 27320, 'k': 0, 'times_1000_iter': 0.090097600763494323, 'sample_size': 500, 'T': 6, 'run_time': 2.1882669925689697}, {'niter': 25296, 'k': 1, 'times_1000_iter': 0.092441749572753903, 'sample_size': 500, 'T': 6, 'run_time': 2.036418914794922}, {'niter': 26215, 'k': 0, 'times_1000_iter': 0.096066406794956746, 'sample_size': 500, 'T': 7, 'run_time': 2.185546875}, {'niter': 26758, 'k': 1, 'times_1000_iter': 0.095567237763177784, 'sample_size': 500, 'T': 7, 'run_time': 2.2160239219665527}, {'niter': 27819, 'k': 0, 'times_1000_iter': 0.097093636339361022, 'sample_size': 500, 'T': 8, 'run_time': 2.393347978591919}, {'niter': 25870, 'k': 1, 'times_1000_iter': 0.10082545280456542, 'sample_size': 500, 'T': 8, 'run_time': 2.1910619735717773}, {'niter': 26902, 'k': 0, 'times_1000_iter': 0.1011968453725179, 'sample_size': 500, 'T': 9, 'run_time': 2.35286808013916}, {'niter': 27413, 'k': 1, 'times_1000_iter': 0.099854165857488464, 'sample_size': 500, 'T': 9, 'run_time': 2.377737045288086}, {'niter': 26759, 'k': 0, 'times_1000_iter': 0.10513053621564593, 'sample_size': 500, 'T': 10, 'run_time': 2.383586883544922}, {'niter': 27974, 'k': 1, 'times_1000_iter': 0.099672707644375885, 'sample_size': 500, 'T': 10, 'run_time': 2.5054879188537598}, {'niter': 142417, 'k': 0, 'times_1000_iter': 0.058409406938625653, 'sample_size': 1000, 'T': 2, 'run_time': 7.903879880905151}, {'niter': 141145, 'k': 1, 'times_1000_iter': 0.058616069646982044, 'sample_size': 1000, 'T': 2, 'run_time': 7.85154914855957}, {'niter': 81170, 'k': 0, 'times_1000_iter': 0.11180508304649675, 'sample_size': 1000, 'T': 3, 'run_time': 8.193564891815186}, {'niter': 83524, 'k': 1, 'times_1000_iter': 0.11204095735941848, 'sample_size': 1000, 'T': 3, 'run_time': 8.47868299484253}, {'niter': 63295, 'k': 0, 'times_1000_iter': 0.1195038174683193, 'sample_size': 1000, 'T': 4, 'run_time': 6.5489959716796875}, {'niter': 64040, 'k': 1, 'times_1000_iter': 0.11921944441618743, 'sample_size': 1000, 'T': 4, 'run_time': 6.697755813598633}, {'niter': 57452, 'k': 0, 'times_1000_iter': 0.12274361671285426, 'sample_size': 1000, 'T': 5, 'run_time': 6.088948965072632}, {'niter': 60770, 'k': 1, 'times_1000_iter': 0.12032685961042132, 'sample_size': 1000, 'T': 5, 'run_time': 6.401726007461548}, {'niter': 53971, 'k': 0, 'times_1000_iter': 0.12788015188172805, 'sample_size': 1000, 'T': 6, 'run_time': 5.898319959640503}, {'niter': 55639, 'k': 1, 'times_1000_iter': 0.13122222688462998, 'sample_size': 1000, 'T': 6, 'run_time': 6.258242130279541}, {'niter': 52028, 'k': 0, 'times_1000_iter': 0.13315171287173316, 'sample_size': 1000, 'T': 7, 'run_time': 5.841796159744263}, {'niter': 50735, 'k': 1, 'times_1000_iter': 0.13382908701896667, 'sample_size': 1000, 'T': 7, 'run_time': 5.808909893035889}, {'niter': 54214, 'k': 0, 'times_1000_iter': 0.13518892887026765, 'sample_size': 1000, 'T': 8, 'run_time': 6.265406131744385}, {'niter': 52692, 'k': 1, 'times_1000_iter': 0.13747978210449219, 'sample_size': 1000, 'T': 8, 'run_time': 6.119701147079468}, {'niter': 55396, 'k': 0, 'times_1000_iter': 0.14053235583835177, 'sample_size': 1000, 'T': 9, 'run_time': 6.602766036987305}, {'niter': 53152, 'k': 1, 'times_1000_iter': 0.14050112768661144, 'sample_size': 1000, 'T': 9, 'run_time': 6.321537971496582}, {'niter': 58389, 'k': 0, 'times_1000_iter': 0.14153521756331125, 'sample_size': 1000, 'T': 10, 'run_time': 7.044786214828491}, {'niter': 54652, 'k': 1, 'times_1000_iter': 0.1519593813202598, 'sample_size': 1000, 'T': 10, 'run_time': 6.994645833969116}]\n"
     ]
    }
   ],
   "source": [
    "print(PMC_benchmark2)"
   ]
  },
  {
   "cell_type": "code",
   "execution_count": null,
   "metadata": {
    "collapsed": true
   },
   "outputs": [],
   "source": [
    "print(\"DONE! :D\")"
   ]
  }
 ],
 "metadata": {
  "kernelspec": {
   "display_name": "Python 2",
   "language": "python",
   "name": "python2"
  },
  "language_info": {
   "codemirror_mode": {
    "name": "ipython",
    "version": 2
   },
   "file_extension": ".py",
   "mimetype": "text/x-python",
   "name": "python",
   "nbconvert_exporter": "python",
   "pygments_lexer": "ipython2",
   "version": "2.7.13"
  }
 },
 "nbformat": 4,
 "nbformat_minor": 2
}
