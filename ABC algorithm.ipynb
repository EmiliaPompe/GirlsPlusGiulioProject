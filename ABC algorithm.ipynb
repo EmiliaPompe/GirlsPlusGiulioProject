{
 "cells": [
  {
   "cell_type": "code",
   "execution_count": 47,
   "metadata": {
    "collapsed": false
   },
   "outputs": [
    {
     "name": "stdout",
     "output_type": "stream",
     "text": [
      "Populating the interactive namespace from numpy and matplotlib\n"
     ]
    }
   ],
   "source": [
    "%pylab inline\n",
    "import numpy as np\n",
    "import scipy as sc\n",
    "\n",
    "#import seaborn as sns\n",
    "#sns.set_style(\"whitegrid\")\n",
    "#sns.set_context(\"talk\")\n",
    "#rc('axes', labelsize=20, titlesize=20)\n",
    "\n",
    "import matplotlib.pyplot as plt\n",
    "import matplotlib.mlab as mlab\n",
    "import math\n",
    "import scipy.stats as ss"
   ]
  },
  {
   "cell_type": "code",
   "execution_count": 48,
   "metadata": {
    "collapsed": false
   },
   "outputs": [],
   "source": [
    "def SimulateNormal(mean, sd, N):\n",
    "    return np.random.normal(loc=mean, scale=sd, size=N)\n",
    "\n",
    "def PlotPosteriorAgainstSample(priorMean, priorSd, likelihoodSd, sampledTheta, originalData):\n",
    "    Hist = plt.hist(sampledTheta, sd(len(sampledTheta)), normed=True) #plot the hist for the sampled theta \n",
    "    mean = (priorMean/(priorSd^2) + np.sum(originalData)/likelihoodSd^2)/(1/priorSd^2 + len(originalData)/likelihoodSd^2)\n",
    "    sd = (1/priorSd^2 + len(originalData)/likelihoodSd^2)^(-1)\n",
    "    x = np.linspace(mean-3*sd, mean+3*sd, 100)\n",
    "    trueDensity = plt.plot(x,mlab.normpdf(x, mean, sd)) #plot the true density with mean and sd               \n",
    "    plt.show()\n"
   ]
  },
  {
   "cell_type": "code",
   "execution_count": 61,
   "metadata": {
    "collapsed": false
   },
   "outputs": [],
   "source": [
    "def ABC(priorSampler, likelihoodSimulator, summaryStatistics, epsilon, data, n): # epsilon is the number\n",
    "    # data is a numpy.array (format), each element is one observation \n",
    "    # priorSampler and likelihoodSimulator return numpy.arrays, each element is a random variable\n",
    "    # summaryStatistics returns a 1-dim array\n",
    "    \n",
    "    # priorSampler - a function taking one argument: n - the desired length of the sample, it returns an np.array\n",
    "    # likelihoodSimulator - a function taking two argument: the desired number of observations and the current parameter, it returns an np.array \n",
    "    # summaryStatistics - a function taking one argument - data, returns a 1-dim array\n",
    "    # epsilon - currently a number, not percentage,\n",
    "    # data - an array\n",
    "    # n - number of simulations (not the number of accepted samples)\n",
    "    \n",
    "    prior_sample = priorSampler(n)\n",
    "    stat = summaryStatistics(data)\n",
    "    theta_generated = []\n",
    "    accepted = []\n",
    "    output_list = []\n",
    "    \n",
    "    for i in range(n):\n",
    "        # we assume data is a list of vectors and those vectors are columns of our 'data frame' with data\n",
    "        print data.shape\n",
    "        simulated_data = likelihoodSimulator(data.shape[1], prior_sample[i])\n",
    "        print simulated_data\n",
    "        break\n",
    "        \n",
    "        temporary_stat = summaryStatistics(simulated_data)\n",
    "        # in the line below we are comparing sum of squares of the elements of temporary_stat - stat\n",
    "        if np.sum(np.square(np.subtract(temporary_stat, stat)))<epsilon^2: # check here!\n",
    "            accept = 1\n",
    "        else: accept = 0\n",
    "            \n",
    "        output_dict = {'accept': accept, 'z':simulated_data, 'theta': prior_sample[i]} # added theta\n",
    "        # seems more reasonable to add the theta at the end of function ...\n",
    "        output_list.append(output_dict)\n",
    "    \n",
    "    df = pd.DataFrame(output_list)\n",
    "    df['theta2'] = prior_sample\n",
    "    return df"
   ]
  },
  {
   "cell_type": "code",
   "execution_count": 62,
   "metadata": {
    "collapsed": false
   },
   "outputs": [
    {
     "name": "stdout",
     "output_type": "stream",
     "text": [
      "(10,)\n"
     ]
    },
    {
     "ename": "IndexError",
     "evalue": "tuple index out of range",
     "output_type": "error",
     "traceback": [
      "\u001b[0;31m---------------------------------------------------------------------------\u001b[0m",
      "\u001b[0;31mIndexError\u001b[0m                                Traceback (most recent call last)",
      "\u001b[0;32m<ipython-input-62-2c3b651dd016>\u001b[0m in \u001b[0;36m<module>\u001b[0;34m()\u001b[0m\n\u001b[1;32m     10\u001b[0m \u001b[0;34m\u001b[0m\u001b[0m\n\u001b[1;32m     11\u001b[0m \u001b[0mdata\u001b[0m \u001b[0;34m=\u001b[0m \u001b[0mnp\u001b[0m\u001b[0;34m.\u001b[0m\u001b[0mrandom\u001b[0m\u001b[0;34m.\u001b[0m\u001b[0mnormal\u001b[0m\u001b[0;34m(\u001b[0m\u001b[0;36m0\u001b[0m\u001b[0;34m,\u001b[0m\u001b[0;36m1\u001b[0m\u001b[0;34m,\u001b[0m\u001b[0;36m10\u001b[0m\u001b[0;34m)\u001b[0m\u001b[0;34m\u001b[0m\u001b[0m\n\u001b[0;32m---> 12\u001b[0;31m \u001b[0mdf\u001b[0m \u001b[0;34m=\u001b[0m \u001b[0mABC\u001b[0m\u001b[0;34m(\u001b[0m\u001b[0mNormalPriorSampler\u001b[0m\u001b[0;34m,\u001b[0m \u001b[0mNormalLiklihoodSimulator\u001b[0m\u001b[0;34m,\u001b[0m \u001b[0mNormalSummary\u001b[0m\u001b[0;34m,\u001b[0m \u001b[0;36m0.1\u001b[0m\u001b[0;34m,\u001b[0m \u001b[0mdata\u001b[0m \u001b[0;34m,\u001b[0m \u001b[0;36m100\u001b[0m\u001b[0;34m)\u001b[0m\u001b[0;34m\u001b[0m\u001b[0m\n\u001b[0m\u001b[1;32m     13\u001b[0m \u001b[0;32mprint\u001b[0m \u001b[0mdf\u001b[0m\u001b[0;34m\u001b[0m\u001b[0m\n",
      "\u001b[0;32m<ipython-input-61-34f3d915f024>\u001b[0m in \u001b[0;36mABC\u001b[0;34m(priorSampler, likelihoodSimulator, summaryStatistics, epsilon, data, n)\u001b[0m\n\u001b[1;32m     20\u001b[0m         \u001b[0;31m# we assume data is a list of vectors and those vectors are columns of our 'data frame' with data\u001b[0m\u001b[0;34m\u001b[0m\u001b[0;34m\u001b[0m\u001b[0m\n\u001b[1;32m     21\u001b[0m         \u001b[0;32mprint\u001b[0m \u001b[0mdata\u001b[0m\u001b[0;34m.\u001b[0m\u001b[0mshape\u001b[0m\u001b[0;34m\u001b[0m\u001b[0m\n\u001b[0;32m---> 22\u001b[0;31m         \u001b[0msimulated_data\u001b[0m \u001b[0;34m=\u001b[0m \u001b[0mlikelihoodSimulator\u001b[0m\u001b[0;34m(\u001b[0m\u001b[0mdata\u001b[0m\u001b[0;34m.\u001b[0m\u001b[0mshape\u001b[0m\u001b[0;34m[\u001b[0m\u001b[0;36m1\u001b[0m\u001b[0;34m]\u001b[0m\u001b[0;34m,\u001b[0m \u001b[0mprior_sample\u001b[0m\u001b[0;34m[\u001b[0m\u001b[0mi\u001b[0m\u001b[0;34m]\u001b[0m\u001b[0;34m)\u001b[0m\u001b[0;34m\u001b[0m\u001b[0m\n\u001b[0m\u001b[1;32m     23\u001b[0m         \u001b[0;32mprint\u001b[0m \u001b[0msimulated_data\u001b[0m\u001b[0;34m\u001b[0m\u001b[0m\n\u001b[1;32m     24\u001b[0m         \u001b[0;32mbreak\u001b[0m\u001b[0;34m\u001b[0m\u001b[0m\n",
      "\u001b[0;31mIndexError\u001b[0m: tuple index out of range"
     ]
    }
   ],
   "source": [
    "def NormalPriorSampler(n):\n",
    "    return SimulateNormal(0,1,n)\n",
    "\n",
    "def NormalLiklihoodSimulator(n, param):\n",
    "    #unknown mean\n",
    "    return SimulateNormal(param, 1,n)\n",
    "    \n",
    "def NormalSummary(data):\n",
    "    return np.mean(data, axis=0)\n",
    "\n",
    "data = np.random.normal(0,1,10)\n",
    "df = ABC(NormalPriorSampler, NormalLiklihoodSimulator, NormalSummary, 0.1, data , 100)\n",
    "print df"
   ]
  },
  {
   "cell_type": "code",
   "execution_count": 46,
   "metadata": {
    "collapsed": false
   },
   "outputs": [
    {
     "name": "stdout",
     "output_type": "stream",
     "text": [
      "[3 0 1]\n",
      "14\n"
     ]
    }
   ],
   "source": [
    "a =np.array([1,2,3])\n",
    "b = np.array([1.1, 2.2, 3.3])\n",
    "print a^2\n",
    "print np.sum(np.square(a) )"
   ]
  }
 ],
 "metadata": {
  "kernelspec": {
   "display_name": "Python 2",
   "language": "python",
   "name": "python2"
  },
  "language_info": {
   "codemirror_mode": {
    "name": "ipython",
    "version": 2
   },
   "file_extension": ".py",
   "mimetype": "text/x-python",
   "name": "python",
   "nbconvert_exporter": "python",
   "pygments_lexer": "ipython2",
   "version": "2.7.13"
  }
 },
 "nbformat": 4,
 "nbformat_minor": 1
}
