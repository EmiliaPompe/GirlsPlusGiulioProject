{
 "cells": [
  {
   "cell_type": "code",
   "execution_count": 14,
   "metadata": {
    "collapsed": false
   },
   "outputs": [
    {
     "name": "stdout",
     "output_type": "stream",
     "text": [
      "Populating the interactive namespace from numpy and matplotlib\n"
     ]
    }
   ],
   "source": [
    "%pylab inline\n",
    "import numpy as np\n",
    "import scipy as sc\n",
    "\n",
    "#import seaborn as sns\n",
    "#sns.set_style(\"whitegrid\")\n",
    "#sns.set_context(\"talk\")\n",
    "#rc('axes', labelsize=20, titlesize=20)\n",
    "\n",
    "import matplotlib.pyplot as plt\n",
    "import matplotlib.mlab as mlab\n",
    "import math\n",
    "import scipy.stats as ss"
   ]
  },
  {
   "cell_type": "code",
   "execution_count": 15,
   "metadata": {
    "collapsed": false
   },
   "outputs": [],
   "source": [
    "def SimulateNormal(mean, sd, N):\n",
    "    return np.random.normal(loc=mean, scale=sd, size=N)\n",
    "\n",
    "def PlotPosteriorAgainstSample(priorMean, priorSd, likelihoodSd, sampledTheta, originalData):\n",
    "    Hist = plt.hist(sampledTheta, sd(len(sampledTheta)), normed=True) #plot the hist for the sampled theta \n",
    "    mean = (priorMean/(priorSd^2) + np.sum(originalData)/likelihoodSd^2)/(1/priorSd^2 + len(originalData)/likelihoodSd^2)\n",
    "    sd = (1/priorSd^2 + len(originalData)/likelihoodSd^2)^(-1)\n",
    "    x = np.linspace(mean-3*sd, mean+3*sd, 100)\n",
    "    trueDensity = plt.plot(x,mlab.normpdf(x, mean, sd)) #plot the true density with mean and sd               \n",
    "    plt.show()\n"
   ]
  },
  {
   "cell_type": "code",
   "execution_count": 38,
   "metadata": {
    "collapsed": false
   },
   "outputs": [],
   "source": [
    "def ABC(priorSampler, likelihoodSimulator, summaryStatistics, epsilon, data, n): # epsilon is the number\n",
    "    prior_sample = priorSampler(n)\n",
    "    stat = summaryStatistics(data)\n",
    "    theta_generated = []\n",
    "    accepted = []\n",
    "    output_list = []\n",
    "    \n",
    "    for i in range(n):\n",
    "        # we assume data is a list of vectors and those vectors are columns of our 'data frame' with data\n",
    "        simulated_data = likelihoodSimulator(len(data), prior_sample[i])\n",
    "        temporary_stat = summaryStatistics(simulated_data)\n",
    "        if abs(temporary_stat - stat)<epsilon:\n",
    "            accept = 1\n",
    "        else: accept = 0\n",
    "            \n",
    "        output_dict = {'accept': accept, 'z':simulated_data}\n",
    "        output_list.append(output_dict)\n",
    "    \n",
    "    return pd.DataFrame(output_list)"
   ]
  },
  {
   "cell_type": "code",
   "execution_count": 40,
   "metadata": {
    "collapsed": false
   },
   "outputs": [
    {
     "name": "stdout",
     "output_type": "stream",
     "text": [
      "0.437234283507\n",
      "    accept                                                  z\n",
      "0        0  [0.689549319739, -1.53016468326, -0.1431884011...\n",
      "1        0  [1.26337267623, -0.233177595014, 1.2896884123,...\n",
      "2        0  [1.28357770067, -0.0612303573895, 0.0022987629...\n",
      "3        0  [-1.02434389828, 1.2767716525, 1.33361880263, ...\n",
      "4        0  [0.476155506531, 3.15955970207, 0.29358999006,...\n",
      "5        1  [0.0798716808763, -0.806878843242, 0.633573275...\n",
      "6        0  [-1.5319805636, -0.0784463529289, 0.0493384310...\n",
      "7        1  [0.698171629866, 0.017626417018, -0.2916556793...\n",
      "8        0  [1.11265426469, 2.55571436105, 2.22154593057, ...\n",
      "9        0  [0.287981265759, -0.183783243256, 0.3276106225...\n",
      "10       0  [1.08420741661, 0.913656588444, 2.36434992017,...\n",
      "11       0  [2.57180301805, 0.849974486652, 0.052468624348...\n",
      "12       0  [-2.58859879791, 0.488804210874, 0.04698977961...\n",
      "13       0  [0.369700397748, -1.28793983079, -0.3028861250...\n",
      "14       0  [-0.0700210640324, -1.99451436932, 0.086464847...\n",
      "15       0  [0.341095905619, -0.204482282424, -0.247756212...\n",
      "16       0  [-0.569215428151, -0.142940123275, -1.01950802...\n",
      "17       0  [-1.72032233347, -1.40759075726, -1.7783530606...\n",
      "18       0  [0.746693733566, 1.23814971286, 0.234216108491...\n",
      "19       0  [0.69555620462, 0.612858836413, -0.13946496797...\n",
      "20       1  [2.61997802609, -0.437684001043, 0.35439972750...\n",
      "21       0  [3.9542932756, 3.16426765022, 3.58354812181, 1...\n",
      "22       0  [0.880457209304, -1.35685081446, -1.0260469224...\n",
      "23       0  [1.20507049517, 0.722886994358, 2.60488235153,...\n",
      "24       1  [-0.626541137493, 0.561783110368, -0.618663897...\n",
      "25       0  [-1.49306385315, -0.202691710947, 1.5749398688...\n",
      "26       0  [0.348388814731, 1.11137299755, 0.166261896589...\n",
      "27       0  [1.80099388534, 1.7541678803, 0.66450349706, 1...\n",
      "28       0  [0.383058989871, -0.292259216842, 1.7606235774...\n",
      "29       0  [1.22615112283, 1.18136636761, 0.0711106267343...\n",
      "..     ...                                                ...\n",
      "70       0  [1.9005299635, -0.144003681964, 0.421286108624...\n",
      "71       0  [-0.0104918729072, -1.60620985853, 0.353965542...\n",
      "72       0  [-1.612186783, -1.82173020026, -2.07177538807,...\n",
      "73       0  [-0.793815968504, -0.780028396988, -1.06220727...\n",
      "74       0  [1.85056255119, 2.62717558569, 2.19554230487, ...\n",
      "75       0  [2.21023519262, 1.31683438615, 1.79793630851, ...\n",
      "76       0  [-1.08594719694, -0.458094390025, -0.926133418...\n",
      "77       0  [-2.13485244975, -1.29768780538, -0.0852838149...\n",
      "78       0  [-1.633722453, -1.46658258832, 1.15527979105, ...\n",
      "79       0  [1.04020335193, 0.513745464936, 0.951099458098...\n",
      "80       0  [0.849219226525, -1.65957422383, -0.8726631742...\n",
      "81       0  [-0.709246082276, 1.49081973711, 1.12851069522...\n",
      "82       0  [1.19905147094, 0.860380209145, -0.15240534465...\n",
      "83       0  [0.468288273636, -0.982256755211, -0.417475634...\n",
      "84       0  [2.48972195376, 0.228327472652, 1.7992541086, ...\n",
      "85       0  [1.23503692777, -0.557245885577, 0.84783455900...\n",
      "86       0  [-1.91745389875, 0.799134464156, -1.0554888912...\n",
      "87       1  [2.1906365292, 0.625096921421, 0.520305943471,...\n",
      "88       0  [0.315126368122, 1.50151586458, 1.07004285764,...\n",
      "89       0  [-3.43104613259, -3.98337811376, -2.6745870799...\n",
      "90       0  [-1.05148781021, 0.275648282976, -0.6171061369...\n",
      "91       0  [-0.881094459356, 0.0924786198244, -0.20730483...\n",
      "92       0  [-1.03283811993, 0.118697394466, -0.6052085335...\n",
      "93       0  [3.08097935891, 0.0577162950359, 2.03082322492...\n",
      "94       0  [-0.548973681316, 1.90576986199, 0.08036939614...\n",
      "95       0  [-1.40584994927, -1.41617979557, 0.10703270527...\n",
      "96       0  [-1.39196444865, -2.95843698085, -3.5845073359...\n",
      "97       0  [0.0120507903304, -0.543460336445, -4.04518476...\n",
      "98       0  [1.35905908046, -0.0182261215952, 2.0288351040...\n",
      "99       0  [0.163709597258, -0.00160412560111, -0.0012012...\n",
      "\n",
      "[100 rows x 2 columns]\n"
     ]
    }
   ],
   "source": [
    "def NormalPriorSampler(n):\n",
    "    return list(SimulateNormal(0,1,n))\n",
    "\n",
    "def NormalLiklihoodSimulator(n, param):\n",
    "    #unknown mean\n",
    "    return list(SimulateNormal(param, 1,n))\n",
    "    \n",
    "def NormalSummary(data):\n",
    "    return float(np.mean(data))\n",
    "\n",
    "data = list(np.random.normal(0,1,10))\n",
    "print NormalSummary(data)\n",
    "df = ABC(NormalPriorSampler, NormalLiklihoodSimulator, NormalSummary, 0.1, data , 100)\n",
    "print df"
   ]
  }
 ],
 "metadata": {
  "kernelspec": {
   "display_name": "Python 2",
   "language": "python",
   "name": "python2"
  },
  "language_info": {
   "codemirror_mode": {
    "name": "ipython",
    "version": 2
   },
   "file_extension": ".py",
   "mimetype": "text/x-python",
   "name": "python",
   "nbconvert_exporter": "python",
   "pygments_lexer": "ipython2",
   "version": "2.7.13"
  }
 },
 "nbformat": 4,
 "nbformat_minor": 1
}
