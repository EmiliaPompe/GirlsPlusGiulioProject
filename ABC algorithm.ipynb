{
 "cells": [
  {
   "cell_type": "code",
   "execution_count": 14,
   "metadata": {
    "collapsed": false
   },
   "outputs": [
    {
     "name": "stdout",
     "output_type": "stream",
     "text": [
      "Populating the interactive namespace from numpy and matplotlib\n"
     ]
    }
   ],
   "source": [
    "%pylab inline\n",
    "import numpy as np\n",
    "import scipy as sc\n",
    "import pandas as pd\n",
    "\n",
    "import seaborn as sns\n",
    "#sns.set_style(\"whitegrid\")\n",
    "#sns.set_context(\"talk\")\n",
    "#rc('axes', labelsize=20, titlesize=20)\n",
    "\n",
    "import matplotlib.pyplot as plt\n",
    "import matplotlib.mlab as mlab\n",
    "import math\n",
    "import scipy.stats as ss"
   ]
  },
  {
   "cell_type": "code",
   "execution_count": 10,
   "metadata": {
    "collapsed": true
   },
   "outputs": [],
   "source": [
    "def ABC(priorSampler, likelihoodSimulator, summaryStatistics, epsilon, data, n): # epsilon is the number\n",
    "    # data is a numpy.array (format), each element is one observation \n",
    "    # priorSampler and likelihoodSimulator return numpy.arrays, each element is a random variable\n",
    "    # summaryStatistics returns a 1-dim array\n",
    "    \n",
    "    # priorSampler - a function taking one argument: n - the desired length of the sample, it returns an np.array\n",
    "    # likelihoodSimulator - a function taking two argument: the desired number of observations and the current parameter, it returns an np.array \n",
    "    # summaryStatistics - a function taking one argument - data, returns a 1-dim array\n",
    "    # epsilon - currently a number, not percentage,\n",
    "    # data - an array\n",
    "    # n - number of simulations (not the number of accepted samples)\n",
    "    \n",
    "    prior_sample = priorSampler(n)\n",
    "    stat = summaryStatistics(data)\n",
    "    theta_generated = []\n",
    "    accepted = []\n",
    "    output_list = []\n",
    "    \n",
    "    for i in range(n):\n",
    "        # data is currently an array of shape (data_len,)\n",
    "        simulated_data = likelihoodSimulator(shape(data)[0], prior_sample[i])\n",
    "        \n",
    "        temporary_stat = summaryStatistics(simulated_data)\n",
    "        # in the line below we are comparing sum of squares of the elements of temporary_stat - stat\n",
    "        if np.sum(np.square(np.subtract(temporary_stat, stat))) < epsilon*epsilon: # check here!\n",
    "            accept = 1\n",
    "        else: accept = 0\n",
    "            \n",
    "        output_dict = {'accept': accept, 'z':simulated_data, 'theta': prior_sample[i]} # added theta\n",
    "        # seems more reasonable to add the theta at the end of function ...\n",
    "        output_list.append(output_dict)\n",
    "    \n",
    "    df = pd.DataFrame(output_list)\n",
    "    return df"
   ]
  },
  {
   "cell_type": "markdown",
   "metadata": {},
   "source": [
    "## Normal example"
   ]
  },
  {
   "cell_type": "code",
   "execution_count": 11,
   "metadata": {
    "collapsed": false
   },
   "outputs": [
    {
     "name": "stdout",
     "output_type": "stream",
     "text": [
      "-0.0302638664676 is posterior mean\n",
      "0.00998890122087 is posterior std dev\n"
     ]
    }
   ],
   "source": [
    "######\n",
    "# set up for the normal ABC example\n",
    "######\n",
    "\n",
    "prior_mean = -3.0\n",
    "prior_sd = 3\n",
    "likelihood_sd = 1\n",
    "\n",
    "def NormalPriorSampler(n):\n",
    "    return np.random.normal(loc=prior_mean, scale=prior_sd, size=n)\n",
    "\n",
    "def NormalLiklihoodSimulator(n, param):\n",
    "    #unknown mean\n",
    "    return np.random.normal(loc=param, scale=likelihood_sd, size=n)\n",
    "    \n",
    "def NormalSummary(data):\n",
    "    return np.mean(data, axis=0)\n",
    "\n",
    "data = np.random.normal(loc=0,scale=likelihood_sd,size=100)\n",
    "\n",
    "post_sd = np.power((1.0/np.power(prior_sd,2) + len(data)/np.power(likelihood_sd,2)),-1/2)\n",
    "post_mean = (prior_mean/np.power(prior_sd,2) + np.sum(data)/(np.power(likelihood_sd,2)))/(1/np.power(prior_sd,2) + len(data)/np.power(likelihood_sd,2))\n",
    "print post_mean, \"is posterior mean\"\n",
    "print post_sd, \"is posterior std dev\""
   ]
  },
  {
   "cell_type": "code",
   "execution_count": 12,
   "metadata": {
    "collapsed": false
   },
   "outputs": [
    {
     "data": {
      "image/png": "[encoded data removed]",
      "text/plain": [
       "<matplotlib.figure.Figure at 0x7f826f82f7d0>"
      ]
     },
     "metadata": {},
     "output_type": "display_data"
    }
   ],
   "source": [
    "######\n",
    "# run ABC for the normal example\n",
    "######\n",
    "\n",
    "df = ABC(NormalPriorSampler, NormalLiklihoodSimulator, NormalSummary, 0.2, data , 1000)\n",
    "\n",
    "######\n",
    "# plot the accepted and rejected params\n",
    "######\n",
    "\n",
    "fig, ax = plt.subplots()\n",
    "\n",
    "accept_legend_map = {1:'Accepted',0:'Rejected'}\n",
    "for accept,sub_df in df.groupby('accept'):\n",
    "    sns.distplot(sub_df.theta, ax=ax, kde = False, label=accept_legend_map[accept]) #norm_hist =True,\n",
    "\n",
    "\n",
    "plt.axvline(x=post_mean, ymin=0, ymax = 120, linewidth=1, color='k', label='True posterior mean')\n",
    "plt.legend(loc='upper left')\n",
    "plt.savefig('plots/1d_normal_abc.pdf')"
   ]
  }
 ],
 "metadata": {
  "kernelspec": {
   "display_name": "Python 3",
   "language": "python",
   "name": "python3"
  },
  "language_info": {
   "codemirror_mode": {
    "name": "ipython",
    "version": 3
   },
   "file_extension": ".py",
   "mimetype": "text/x-python",
   "name": "python",
   "nbconvert_exporter": "python",
   "pygments_lexer": "ipython3",
   "version": "3.6.0"
  }
 },
 "nbformat": 4,
 "nbformat_minor": 1
}
